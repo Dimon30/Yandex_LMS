{
 "cells": [
  {
   "cell_type": "code",
   "id": "initial_id",
   "metadata": {
    "collapsed": true,
    "ExecuteTime": {
     "end_time": "2025-02-14T13:51:09.068333Z",
     "start_time": "2025-02-14T13:51:08.860273Z"
    }
   },
   "source": [
    "import numpy as np\n",
    "\n",
    "path = \"hw01_data/\""
   ],
   "outputs": [],
   "execution_count": 6
  },
  {
   "metadata": {},
   "cell_type": "markdown",
   "source": [
    "## Змейка m x n\n",
    "\n",
    "Result: 2/2\n",
    "\n",
    "![](hw02_images/img.png)"
   ],
   "id": "3de224e3dc4311f9"
  },
  {
   "metadata": {
    "ExecuteTime": {
     "end_time": "2025-02-14T14:19:08.235849Z",
     "start_time": "2025-02-14T14:19:08.230694Z"
    }
   },
   "cell_type": "code",
   "source": [
    "def snake(m, n):\n",
    "    c = np.asarray(np.arange(1, n+1))\n",
    "    return np.asarray([(c[-1] * i + c)[::-1] if i % 2 != 0 else c[-1] * i + c for i in range(m)])"
   ],
   "id": "18062a0f5f4c1dff",
   "outputs": [],
   "execution_count": 55
  },
  {
   "metadata": {
    "ExecuteTime": {
     "end_time": "2025-02-14T14:19:10.223410Z",
     "start_time": "2025-02-14T14:19:10.216193Z"
    }
   },
   "cell_type": "code",
   "source": "print(snake(3, 4))",
   "id": "8cf9b196be6f9849",
   "outputs": [
    {
     "name": "stdout",
     "output_type": "stream",
     "text": [
      "[[ 1  2  3  4]\n",
      " [ 8  7  6  5]\n",
      " [ 9 10 11 12]]\n"
     ]
    }
   ],
   "execution_count": 56
  },
  {
   "metadata": {},
   "cell_type": "markdown",
   "source": [
    "## Продукты\n",
    "\n",
    "Result: 3/3\n",
    "\n",
    "![](hw02_images/img_1.png)"
   ],
   "id": "34707963685d8cc7"
  },
  {
   "metadata": {
    "ExecuteTime": {
     "end_time": "2025-02-14T15:04:48.563820Z",
     "start_time": "2025-02-14T15:04:48.556538Z"
    }
   },
   "cell_type": "code",
   "source": [
    "def calculate(products, cook):\n",
    "    temp = [int(x) for x in np.ceil((np.asarray(products).T*np.asarray(cook)).T.sum(axis=0))]\n",
    "    print(\"Молоко, литры:\", temp[0])\n",
    "    print(\"Яйца, штуки:\", temp[1])\n",
    "    print(\"Мука, кг:\", temp[-1])"
   ],
   "id": "b37ad554403401af",
   "outputs": [],
   "execution_count": 99
  },
  {
   "metadata": {
    "ExecuteTime": {
     "end_time": "2025-02-14T15:04:48.912792Z",
     "start_time": "2025-02-14T15:04:48.901340Z"
    }
   },
   "cell_type": "code",
   "source": [
    "products = np.array([\n",
    "    [0.1, 2, 0.05],\n",
    "    [0.2, 1, 0.2],\n",
    "    [0.5, 3, 0.3]\n",
    "])\n",
    "\n",
    "cook = [10, 32, 8]\n",
    "\n",
    "calculate(products, cook)"
   ],
   "id": "947c9c1060f319eb",
   "outputs": [
    {
     "name": "stdout",
     "output_type": "stream",
     "text": [
      "Молоко, литры: 12\n",
      "Яйца, штуки: 76\n",
      "Мука, кг: 10\n"
     ]
    }
   ],
   "execution_count": 100
  },
  {
   "metadata": {},
   "cell_type": "markdown",
   "source": [
    "## K ближайших пингвинов\n",
    "\n",
    "Result: 15/15\n",
    "\n",
    "![](hw02_images/img_2.png)"
   ],
   "id": "9465863a09263c80"
  },
  {
   "metadata": {
    "ExecuteTime": {
     "end_time": "2025-02-14T16:10:00.665118Z",
     "start_time": "2025-02-14T16:09:58.900935Z"
    }
   },
   "cell_type": "code",
   "source": [
    "import pandas as pd\n",
    "import numpy as np\n",
    "\n",
    "n, k = int(input()), int(input())\n",
    "data = pd.read_csv(path+\"penguins.csv\").dropna()\n",
    "idk = pd.DataFrame({\"bill_length_mm\": data[\"bill_length_mm\"], \"bill_depth_mm\": data[\"bill_depth_mm\"]}).to_numpy()\n",
    "\n",
    "\n",
    "def norm(x1, x2):\n",
    "    return np.sqrt(((x1 - x2) ** 2).sum())\n",
    "\n",
    "\n",
    "def find_k_neighbors(X, n, k):\n",
    "    x0 = X[n]\n",
    "    distances = {}\n",
    "    for i in range(X.shape[0]):\n",
    "        distances[i] = norm(X[i], x0)\n",
    "    res = np.asarray([X[el[0]] for el in sorted(distances.items(), key=lambda item: item[1])[1:k + 1]])\n",
    "    return res\n",
    "\n",
    "\n",
    "print(\"\\n\".join([str(el) for el in find_k_neighbors(idk, n, k)]))"
   ],
   "id": "f96ae805ffc39cfc",
   "outputs": [
    {
     "name": "stdout",
     "output_type": "stream",
     "text": [
      "[40.5 17.9]\n",
      "[40.3 18.5]\n",
      "[39.7 17.9]\n"
     ]
    }
   ],
   "execution_count": 133
  },
  {
   "metadata": {
    "ExecuteTime": {
     "end_time": "2025-02-14T16:04:51.708245Z",
     "start_time": "2025-02-14T16:04:51.702629Z"
    }
   },
   "cell_type": "code",
   "source": "",
   "id": "b22b13438558a9cf",
   "outputs": [],
   "execution_count": null
  }
 ],
 "metadata": {
  "kernelspec": {
   "display_name": "Python 3",
   "language": "python",
   "name": "python3"
  },
  "language_info": {
   "codemirror_mode": {
    "name": "ipython",
    "version": 2
   },
   "file_extension": ".py",
   "mimetype": "text/x-python",
   "name": "python",
   "nbconvert_exporter": "python",
   "pygments_lexer": "ipython2",
   "version": "2.7.6"
  }
 },
 "nbformat": 4,
 "nbformat_minor": 5
}
