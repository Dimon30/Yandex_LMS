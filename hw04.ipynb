{
 "cells": [
  {
   "cell_type": "code",
   "id": "initial_id",
   "metadata": {
    "collapsed": true,
    "ExecuteTime": {
     "end_time": "2025-03-02T12:39:30.848854Z",
     "start_time": "2025-03-02T12:39:28.420693Z"
    }
   },
   "source": [
    "import pandas as pd\n",
    "import numpy as np\n",
    "import sympy as sp\n",
    "from autograd import grad"
   ],
   "outputs": [],
   "execution_count": 1
  },
  {
   "metadata": {
    "ExecuteTime": {
     "end_time": "2025-03-02T12:39:30.864222Z",
     "start_time": "2025-03-02T12:39:30.857618Z"
    }
   },
   "cell_type": "code",
   "source": [
    "z = lambda v: 13*v[0]**3 - 7*v[0]*v[1] + v[1]**2 + 2*v[1]**3 - 97\n",
    "start_point = np.array([1, 2], dtype=np.float64)\n",
    "gamma = 0.1"
   ],
   "id": "83db5457ad62b667",
   "outputs": [],
   "execution_count": 2
  },
  {
   "metadata": {
    "ExecuteTime": {
     "end_time": "2025-03-02T12:39:31.088226Z",
     "start_time": "2025-03-02T12:39:31.068010Z"
    }
   },
   "cell_type": "code",
   "source": "grad(z)(start_point)",
   "id": "1f96d2bdd18b4fd4",
   "outputs": [
    {
     "data": {
      "text/plain": [
       "array([25., 21.])"
      ]
     },
     "execution_count": 3,
     "metadata": {},
     "output_type": "execute_result"
    }
   ],
   "execution_count": 3
  },
  {
   "metadata": {
    "ExecuteTime": {
     "end_time": "2025-03-02T12:39:31.137356Z",
     "start_time": "2025-03-02T12:39:31.123884Z"
    }
   },
   "cell_type": "code",
   "source": "start_point - gamma*grad(z)(start_point)",
   "id": "6a798c447b5c69ce",
   "outputs": [
    {
     "data": {
      "text/plain": [
       "array([-1.5, -0.1])"
      ]
     },
     "execution_count": 4,
     "metadata": {},
     "output_type": "execute_result"
    }
   ],
   "execution_count": 4
  },
  {
   "metadata": {
    "ExecuteTime": {
     "end_time": "2025-03-02T12:39:31.192071Z",
     "start_time": "2025-03-02T12:39:31.179707Z"
    }
   },
   "cell_type": "code",
   "source": [
    "second_point = start_point - gamma*grad(z)(start_point)\n",
    "grad(z)(second_point)"
   ],
   "id": "fca4d1f266218f4c",
   "outputs": [
    {
     "data": {
      "text/plain": [
       "array([88.45, 10.36])"
      ]
     },
     "execution_count": 5,
     "metadata": {},
     "output_type": "execute_result"
    }
   ],
   "execution_count": 5
  },
  {
   "metadata": {
    "ExecuteTime": {
     "end_time": "2025-03-02T12:39:31.245110Z",
     "start_time": "2025-03-02T12:39:31.233216Z"
    }
   },
   "cell_type": "code",
   "source": "second_point - gamma*grad(z)(second_point)",
   "id": "6df01f65898a61dd",
   "outputs": [
    {
     "data": {
      "text/plain": [
       "array([-10.345,  -1.136])"
      ]
     },
     "execution_count": 6,
     "metadata": {},
     "output_type": "execute_result"
    }
   ],
   "execution_count": 6
  },
  {
   "metadata": {
    "ExecuteTime": {
     "end_time": "2025-03-02T12:39:31.310188Z",
     "start_time": "2025-03-02T12:39:31.297133Z"
    }
   },
   "cell_type": "code",
   "source": [
    "a = lambda x: 2*x + 3\n",
    "w0 = 3\n",
    "w1 = 2\n",
    "\n",
    "# X = np.asarray([[3], [0], [2], [1]])\n",
    "X = np.asarray([3, 0, 2, 1])\n",
    "y = np.asarray([8, 3, 6, 5])\n",
    "a(X)"
   ],
   "id": "33c9ca8eb411813e",
   "outputs": [
    {
     "data": {
      "text/plain": [
       "array([9, 3, 7, 5])"
      ]
     },
     "execution_count": 7,
     "metadata": {},
     "output_type": "execute_result"
    }
   ],
   "execution_count": 7
  },
  {
   "metadata": {},
   "cell_type": "markdown",
   "source": [
    "# Градиентный спуск по неизвестной функции\n",
    "\n",
    "Result: 100/100\n",
    "\n",
    "![](hw04_images/img.png)"
   ],
   "id": "83c1623efffd8555"
  },
  {
   "metadata": {
    "ExecuteTime": {
     "end_time": "2025-03-02T12:39:31.364130Z",
     "start_time": "2025-03-02T12:39:31.358874Z"
    }
   },
   "cell_type": "code",
   "source": "",
   "id": "eadd7c82f10b98f8",
   "outputs": [],
   "execution_count": null
  },
  {
   "metadata": {
    "ExecuteTime": {
     "end_time": "2025-03-02T14:30:29.607088Z",
     "start_time": "2025-03-02T14:30:29.596599Z"
    }
   },
   "cell_type": "code",
   "source": [
    "import numpy as np\n",
    "from numpy.linalg import norm\n",
    "\n",
    "\n",
    "def gradient(f, x0, dx=1e-9):\n",
    "    return (f(x0 + dx) - f(x0)) / dx\n",
    "\n",
    "\n",
    "def gradient_descent(func, start_point, gamma, epsilon, steps):\n",
    "    x = [np.asarray([start_point], dtype=np.float64)]\n",
    "\n",
    "    for i in range(steps):\n",
    "        x.append(x[-1] - gamma * gradient(func, x[-1]))\n",
    "    if len(x) > 1:\n",
    "        return np.asarray(np.round(x, 3))\n",
    "\n",
    "    x.append(x[-1] - gamma * gradient(func, x[-1]))\n",
    "    while norm(func(x[-1]) - func(x[-2])) > epsilon:\n",
    "        x.append(x[-1] - gamma * gradient(func, x[-1]))\n",
    "    return np.asarray(np.round(x, 3))"
   ],
   "id": "2ee767660bfc72cc",
   "outputs": [],
   "execution_count": 57
  },
  {
   "metadata": {
    "ExecuteTime": {
     "end_time": "2025-03-02T14:30:30.148867Z",
     "start_time": "2025-03-02T14:30:30.137359Z"
    }
   },
   "cell_type": "code",
   "source": [
    "def f(x):\n",
    "    return np.sin(x) #x[0]**2+x[1]**2\n",
    "start_point = 1\n",
    "gamma = 0.1\n",
    "epsilon = 1e-2\n",
    "steps = 5\n",
    "\n",
    "print(gradient_descent(f, start_point, gamma, epsilon, steps))"
   ],
   "id": "2fe06877194312b9",
   "outputs": [
    {
     "name": "stdout",
     "output_type": "stream",
     "text": [
      "[[ 1.   ]\n",
      " [ 0.946]\n",
      " [ 0.887]\n",
      " [ 0.824]\n",
      " [ 0.756]\n",
      " [ 0.684]\n",
      " [ 0.606]\n",
      " [ 0.524]\n",
      " [ 0.437]\n",
      " [ 0.347]\n",
      " [ 0.253]\n",
      " [ 0.156]\n",
      " [ 0.057]\n",
      " [-0.043]\n",
      " [-0.143]\n",
      " [-0.242]\n",
      " [-0.339]\n",
      " [-0.433]\n",
      " [-0.524]\n",
      " [-0.61 ]\n",
      " [-0.692]\n",
      " [-0.769]\n",
      " [-0.841]\n",
      " [-0.908]\n",
      " [-0.969]\n",
      " [-1.026]\n",
      " [-1.078]\n",
      " [-1.125]\n",
      " [-1.168]\n",
      " [-1.207]\n",
      " [-1.243]\n",
      " [-1.275]]\n"
     ]
    }
   ],
   "execution_count": 58
  },
  {
   "metadata": {
    "ExecuteTime": {
     "end_time": "2025-03-02T16:24:58.328518Z",
     "start_time": "2025-03-02T16:24:58.299109Z"
    }
   },
   "cell_type": "code",
   "source": [
    "def f_1(x: float) -> float:\n",
    "    return (5 * x ** 6 + 24 * x ** 5 - 75 * x ** 4 + 135 * x ** 2 - 400 * x ** 3 + 1000 * x) / 100\n",
    "\n",
    "\n",
    "print(gradient_descent(f_1, 2, .01, .1, 0))"
   ],
   "id": "2e28b1bd86ba399f",
   "outputs": [
    {
     "name": "stdout",
     "output_type": "stream",
     "text": [
      "[[2.   ]\n",
      " [2.278]\n",
      " [2.587]\n",
      " [2.854]\n",
      " [2.988]\n",
      " [3.008]]\n"
     ]
    }
   ],
   "execution_count": 59
  },
  {
   "metadata": {},
   "cell_type": "code",
   "outputs": [],
   "execution_count": null,
   "source": [
    "import numpy as np\n",
    "\n",
    "\n",
    "def gradient_descent(func, start_point, gamma, epsilon, steps):\n",
    "    delta_x = 1e-9\n",
    "    history = [start_point]\n",
    "    current = start_point\n",
    "    prev_value = None\n",
    "    current_value = func(current)\n",
    "\n",
    "    if steps == 0:\n",
    "        max_iter = 1000\n",
    "        for _ in range(max_iter):\n",
    "            gradient = (func(current + delta_x) - func(current - delta_x)) / (2 * delta_x)\n",
    "            current = current - gamma * gradient\n",
    "            current_value = func(current)\n",
    "            history.append(np.round(current, 3))\n",
    "\n",
    "            if prev_value is not None and abs(current_value - prev_value) < epsilon:\n",
    "                break\n",
    "            prev_value = current_value\n",
    "    else:\n",
    "        for _ in range(steps):\n",
    "            gradient = (func(current + delta_x) - func(current)) / delta_x\n",
    "            current = current - gamma * gradient\n",
    "            history.append(np.round(current, 3))\n",
    "\n",
    "    return np.array(history).reshape(-1, 1)"
   ],
   "id": "210d71bc645dce0b"
  }
 ],
 "metadata": {
  "kernelspec": {
   "display_name": "Python 3",
   "language": "python",
   "name": "python3"
  },
  "language_info": {
   "codemirror_mode": {
    "name": "ipython",
    "version": 2
   },
   "file_extension": ".py",
   "mimetype": "text/x-python",
   "name": "python",
   "nbconvert_exporter": "python",
   "pygments_lexer": "ipython2",
   "version": "2.7.6"
  }
 },
 "nbformat": 4,
 "nbformat_minor": 5
}
