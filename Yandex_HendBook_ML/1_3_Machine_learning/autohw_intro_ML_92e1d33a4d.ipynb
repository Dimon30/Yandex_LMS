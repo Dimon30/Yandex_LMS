{
 "cells": [
  {
   "cell_type": "markdown",
   "metadata": {
    "id": "k3zbLLaSGH6Z"
   },
   "source": [
    "## Лабораторная работа \"Введение в ML\""
   ]
  },
  {
   "cell_type": "markdown",
   "metadata": {
    "id": "SL3v975uGH6h"
   },
   "source": [
    "В этой лабораторной вы:\n",
    "\n",
    "- познакомитесь с базовыми библиотеками для работы с табличными данными — `numpy` и `pandas`\n",
    "- поближе посмотрите на простейшие задачи машинного обучения: классификацию и регрессию\n",
    "- попробуете несколько метрик и поймёте, почему выбор метрики это важно\n",
    "- обучите несколько простых моделей\n",
    "- увидите связь между сложностью модели и переобучением\n",
    "- убедитесь, что без данных всё тлен"
   ]
  },
  {
   "cell_type": "markdown",
   "metadata": {
    "id": "ad3nBqBSGH6j"
   },
   "source": [
    "Загрузка самых базовых библиотек:"
   ]
  },
  {
   "cell_type": "code",
   "metadata": {
    "id": "Z8Iht5qhGH6l",
    "ExecuteTime": {
     "end_time": "2025-01-08T23:52:29.753201Z",
     "start_time": "2025-01-08T23:52:25.150268Z"
    }
   },
   "source": [
    "import numpy as np\n",
    "import pandas as pd\n",
    "import matplotlib.pyplot as plt\n",
    "%matplotlib inline\n",
    "\n",
    "from sklearn.model_selection import train_test_split"
   ],
   "outputs": [],
   "execution_count": 1
  },
  {
   "cell_type": "markdown",
   "metadata": {
    "id": "4W8Eq0sTGH6n"
   },
   "source": [
    "### [NumPy](https://numpy.org/doc/stable/user/index.html)\n",
    "\n",
    "С 1995 numeric, с 2006 NumPy — «Numerical Python extensions» или просто «NumPy»\n",
    "\n",
    "Возможности библиотеки NumPy:\n",
    "* работать с многомерными массивами (таблицами)\n",
    "* быстро вычислять математические функций на многомерных массивах\n",
    "\n",
    "Ядро пакета NumPy — объект [ndarray](https://docs.scipy.org/doc/numpy/reference/generated/numpy.ndarray.html)\n",
    "\n",
    "**Важные отличия** между NumPy arrays и Python sequences:\n",
    "* NumPy array имеет фиксированную длину, которая определяется в момент его создания (в отличие от Python lists, которые могут расти динамически)\n",
    "* Элементы в NumPy array должны быть одного типа\n",
    "* Можно выполнять операции непосредственно над NumPy arrays\n",
    "\n",
    "**Скорость** NumPy достигается с помощью:\n",
    "* реализации на C\n",
    "* векторизации и броадкастинга (broadcasting). Например, произведение массивов совместимых форм.\n",
    "\n",
    "Теперь давайте разберёмся подробнее и сделаем что-нибудь приятное и полезное в `numpy`!"
   ]
  },
  {
   "cell_type": "markdown",
   "metadata": {
    "id": "eS3UKcU6GH6o"
   },
   "source": [
    "### Индексация"
   ]
  },
  {
   "cell_type": "markdown",
   "metadata": {
    "id": "VqBzoEfvGH6p"
   },
   "source": [
    "В NumPy работает привычная индексация Python, ура! Включая использование отрицательных индексов и срезов (slices)"
   ]
  },
  {
   "cell_type": "markdown",
   "metadata": {
    "id": "Anq_nSYTGH6q"
   },
   "source": [
    "<div class=\"alert alert-info\">\n",
    "<b>Замечание 1:</b> Индексы и срезы в многомерных массивах не нужно разделять квадратными скобками,\n",
    "т.е. вместо <b>matrix[i][j]</b> нужно использовать <b>matrix[i, j]</b>. Первое тоже работает, но сначала выдаёт строку i, потом элемент j в ней.\n",
    "</div>"
   ]
  },
  {
   "cell_type": "markdown",
   "metadata": {
    "id": "OoHXSVIrGH6q"
   },
   "source": [
    "<div class=\"alert alert-danger\">\n",
    "<b>Замечание 2:</b> Срезы в NumPy создают view, а не копии, как в случае срезов встроенных последовательностей Python (string, tuple and list).\n",
    "</div>"
   ]
  },
  {
   "cell_type": "code",
   "metadata": {
    "id": "YJKxBB4dGH6s",
    "outputId": "61139b1d-46db-4f7f-d5bb-96b7c3f96284",
    "ExecuteTime": {
     "end_time": "2025-01-08T23:52:29.791253Z",
     "start_time": "2025-01-08T23:52:29.774833Z"
    }
   },
   "source": [
    "ones_matrix = np.ones((5, 5))\n",
    "ones_submatrix_view = ones_matrix[::2,::2] # creates a view, not copy\n",
    "ones_matrix[::2,::2] = np.zeros((3, 3))\n",
    "ones_submatrix_view"
   ],
   "outputs": [
    {
     "data": {
      "text/plain": [
       "array([[0., 0., 0.],\n",
       "       [0., 0., 0.],\n",
       "       [0., 0., 0.]])"
      ]
     },
     "execution_count": 2,
     "metadata": {},
     "output_type": "execute_result"
    }
   ],
   "execution_count": 2
  },
  {
   "cell_type": "markdown",
   "metadata": {
    "id": "jpEF1rp2GH6v"
   },
   "source": [
    "### Ссылка на Яндекс.Контест\n",
    "\n",
    "Решения и ответы в задачах, расположенных ниже, загружайте в контест на автоматическую проверку:\n",
    "https://new.contest.yandex.ru/60376/start\n"
   ]
  },
  {
   "cell_type": "markdown",
   "metadata": {
    "id": "eZpuxPhJGH6v"
   },
   "source": [
    "**1.** Реализуйте функцию, принимающую на вход два одномерных массива `first_array` и `second_array` и возвращающую матрицу, в которой первый массив соответствует первому столбцу матрицы, второй — второму.\n",
    "\n",
    "Вероятно первое, что приходит вам на ум, это конкатенация и транспонирование:"
   ]
  },
  {
   "cell_type": "code",
   "metadata": {
    "id": "hmQk1N6rGH6w",
    "ExecuteTime": {
     "end_time": "2025-01-08T23:52:30.369556Z",
     "start_time": "2025-01-08T23:52:30.364382Z"
    }
   },
   "source": [
    "def construct_matrix(first_array, second_array):\n",
    "    \"\"\"\n",
    "    Construct matrix from pair of arrays\n",
    "    :param first_array: first array\n",
    "    :param second_array: second array\n",
    "    :return: constructed matrix\n",
    "    \"\"\"\n",
    "    return np.column_stack((first_array, second_array))"
   ],
   "outputs": [],
   "execution_count": 3
  },
  {
   "cell_type": "code",
   "metadata": {
    "scrolled": true,
    "id": "TeFqyCz4GH6x",
    "outputId": "ecd0b7d3-7acf-40f2-878e-057d17136e8c",
    "ExecuteTime": {
     "end_time": "2025-01-08T23:52:30.511042Z",
     "start_time": "2025-01-08T23:52:30.500868Z"
    }
   },
   "source": "construct_matrix(np.array([1,2,3]),np.array([3,4, 5]))",
   "outputs": [
    {
     "data": {
      "text/plain": [
       "array([[1, 3],\n",
       "       [2, 4],\n",
       "       [3, 5]])"
      ]
     },
     "execution_count": 4,
     "metadata": {},
     "output_type": "execute_result"
    }
   ],
   "execution_count": 4
  },
  {
   "cell_type": "markdown",
   "metadata": {
    "id": "lP-lmcA2GH6y"
   },
   "source": [
    "(в скобках заметим, что конкатенировать можно vertically, horizontally, depth wise методами vstack, hstack, dstack по трём осям (0, 1 и 2, соотвественно), либо в общем случае `np.concatenate` — поиграйтесь ниже с прекрасным примером четырёхмерной точки, чтобы точно всё для себя понять)"
   ]
  },
  {
   "cell_type": "code",
   "metadata": {
    "id": "xguxLJ0VGH6y",
    "outputId": "2f32df14-6f5d-4800-96b5-bb8fba9c9ec0",
    "ExecuteTime": {
     "end_time": "2025-01-08T23:52:30.907455Z",
     "start_time": "2025-01-08T23:52:30.897416Z"
    }
   },
   "source": [
    "p = np.arange(1).reshape([1, 1, 1, 1])\n",
    "p"
   ],
   "outputs": [
    {
     "data": {
      "text/plain": [
       "array([[[[0]]]])"
      ]
     },
     "execution_count": 5,
     "metadata": {},
     "output_type": "execute_result"
    }
   ],
   "execution_count": 5
  },
  {
   "cell_type": "code",
   "metadata": {
    "id": "z1JFw75eGH6y",
    "outputId": "16e3c894-2e0e-4a5a-edd4-7a974cfa43e4",
    "ExecuteTime": {
     "end_time": "2025-01-08T23:52:31.071735Z",
     "start_time": "2025-01-08T23:52:31.064903Z"
    }
   },
   "source": [
    "print(\"vstack: \", np.vstack((p, p)).shape)\n",
    "print(\"hstack: \", np.hstack((p, p)).shape)\n",
    "print(\"dstack: \", np.dstack((p, p)).shape)"
   ],
   "outputs": [
    {
     "name": "stdout",
     "output_type": "stream",
     "text": [
      "vstack:  (2, 1, 1, 1)\n",
      "hstack:  (1, 2, 1, 1)\n",
      "dstack:  (1, 1, 2, 1)\n"
     ]
    }
   ],
   "execution_count": 6
  },
  {
   "cell_type": "code",
   "metadata": {
    "id": "cvbthbDDGH6z",
    "outputId": "d89430e5-8c64-4b5f-f2b3-4343f4c659ed",
    "ExecuteTime": {
     "end_time": "2025-01-08T23:52:31.276947Z",
     "start_time": "2025-01-08T23:52:31.269864Z"
    }
   },
   "source": [
    "np.concatenate((p, p), axis=3).shape"
   ],
   "outputs": [
    {
     "data": {
      "text/plain": [
       "(1, 1, 1, 2)"
      ]
     },
     "execution_count": 7,
     "metadata": {},
     "output_type": "execute_result"
    }
   ],
   "execution_count": 7
  },
  {
   "cell_type": "markdown",
   "metadata": {
    "id": "-5GkuWwaGH60"
   },
   "source": [
    "Но, поскольку операция транспонирования [делает массив non-contiguous](https://numpy.org/doc/stable/user/basics.copies.html#other-operations), мы в этой задаче **запретим** ей пользоваться и порекомедуем воспользоваться, например, методом [reshape](https://numpy.org/doc/stable/reference/generated/numpy.reshape.html)."
   ]
  },
  {
   "cell_type": "markdown",
   "metadata": {
    "id": "n3ce_o75GH61"
   },
   "source": [
    "**2.** Реализуйте функцию, принимающую на вход массив целых неотрицательных чисел `nums` и возвращающую самый частый элемент массива."
   ]
  },
  {
   "cell_type": "code",
   "metadata": {
    "id": "XZysMovaGH61",
    "ExecuteTime": {
     "end_time": "2025-01-08T23:52:31.657898Z",
     "start_time": "2025-01-08T23:52:31.650016Z"
    }
   },
   "source": [
    "def most_frequent(nums):\n",
    "    \"\"\"\n",
    "    Find the most frequent value in an array\n",
    "    :param nums: array of ints\n",
    "    :return: the most frequent value\n",
    "    \"\"\"\n",
    "    unique, counts = np.unique(nums, return_counts=True)\n",
    "    return unique[np.argmax(counts)]"
   ],
   "outputs": [],
   "execution_count": 8
  },
  {
   "cell_type": "markdown",
   "metadata": {
    "id": "e6kjITZMGH62"
   },
   "source": [
    "### Переходим к работе с данными\n",
    "\n",
    "Прежде всего, загрузим данные и сделаем из них красивые pandas-таблички. Они взяты из параллели RecSys соревнования https://yandex.ru/cup/ml/. Но мы будем иметь дело не со всеми данными, а только с их частью. Данные у нас будут про заведения общественного питания (больше бюрократический терминологии!)\n",
    "\n",
    "Файлы с данными можно найти [здесь](https://disk.yandex.ru/d/YWvCNRQMb7QSQA).\n",
    "\n",
    "Задачей будет **предсказание среднего чека** (average_bill) по некоторым другим свойствам заведения."
   ]
  },
  {
   "cell_type": "code",
   "metadata": {
    "id": "yJPF3OclGH62",
    "ExecuteTime": {
     "end_time": "2025-01-08T23:52:32.019845Z",
     "start_time": "2025-01-08T23:52:32.014592Z"
    }
   },
   "source": "base = 'data/'",
   "outputs": [],
   "execution_count": 9
  },
  {
   "cell_type": "code",
   "metadata": {
    "id": "uzDIu6uXGH62",
    "ExecuteTime": {
     "end_time": "2025-01-08T23:52:32.345252Z",
     "start_time": "2025-01-08T23:52:32.195864Z"
    }
   },
   "source": [
    "data = pd.read_csv(base + 'organisations.csv')\n",
    "features = pd.read_csv(base + 'features.csv')\n",
    "rubrics = pd.read_csv(base + 'rubrics.csv')"
   ],
   "outputs": [],
   "execution_count": 10
  },
  {
   "cell_type": "markdown",
   "metadata": {
    "id": "k-AwDM7bGH63"
   },
   "source": [
    "В основном мы будем работать с табличкой `data`; остальное вам может пригодиться, если вы захотите знать, какое содержание стоит за кодами признаков."
   ]
  },
  {
   "cell_type": "markdown",
   "metadata": {
    "id": "4hrvEN_3GH63"
   },
   "source": [
    "## Изучение данных"
   ]
  },
  {
   "cell_type": "markdown",
   "metadata": {
    "id": "PI9YQMuCGH63"
   },
   "source": [
    "Посмотрите на данные. В этом вам поможет метод ``head`` pandas-таблички."
   ]
  },
  {
   "cell_type": "code",
   "metadata": {
    "id": "VA_0DG29GH64",
    "ExecuteTime": {
     "end_time": "2025-01-08T23:52:32.902800Z",
     "start_time": "2025-01-08T23:52:32.886475Z"
    }
   },
   "source": [
    "# <Your code here>\n",
    "data"
   ],
   "outputs": [
    {
     "data": {
      "text/plain": [
       "                     org_id city  average_bill    rating   rubrics_id  \\\n",
       "0      15903868628669802651  msk        1500.0  4.270968  30776 30774   \n",
       "1      16076540698036998306  msk         500.0  4.375000        30771   \n",
       "2       8129364761615040323  msk         500.0  4.000000        31495   \n",
       "3      15262729117594253452  msk         500.0  4.538813  30776 30770   \n",
       "4      13418544315327784420  msk         500.0  4.409091        31495   \n",
       "...                     ...  ...           ...       ...          ...   \n",
       "68334   4379286080707082909  msk           NaN  3.812500        30774   \n",
       "68335   7916477189329738565  msk           NaN  4.894231        30776   \n",
       "68336  12358902585434046825  msk           NaN  4.156250        30774   \n",
       "68337   1712093598996183140  spb           NaN       NaN  30771 30774   \n",
       "68338    125079240973229511  spb           NaN  4.633333        30776   \n",
       "\n",
       "                                                                                                                                                                                                                                                                                                                                             features_id  \n",
       "0      3501685156 3501779478 20422 3502045016 3502045032 3501618484 11177 11012 2020795524 10894 3501599541 12048 10462 1524 1509 3501498187 11867 1416 3501744275 3501942428 273469383 11704 1189498238 20424 21247 3501481353 3491142672 3501481355 1082283206 11741 3501471642 3501498186 11629 11617 10886 1415 3501513153 1018 246 3501749289 11531  \n",
       "1                                                                                                                                                                                                                                                                 1509 1082283206 273469383 10462 11617 3501779478 3501744275 1524 1018 1116173086 20422  \n",
       "2                                                                                                                                                                                                                                                         10462 11177 11617 11629 1416 1018 11704 11867 3501744275 20282 3502045016 273469383 3502045032  \n",
       "3                                                                                                                                                                                                                                                               3501618484 2020795524 11629 11617 1018 11704 21247 11867 246 20422 1416 3501749289 20305  \n",
       "4                                                                                                                                                                                                                                                         11617 10462 11177 1416 11867 3501744275 20282 3502045016 11629 273469383 3502045032 1018 11704  \n",
       "...                                                                                                                                                                                                                                                                                                                                                  ...  \n",
       "68334                                                                                                                1018 1415 10462 11629 11867 20422 20424 1189498238 3491142672 3501481353 11617 11704 3501637468 3501744275 3501773763 246 3501779478 12048 3501773764 3501942428 3502010918 3502010929 21247 3502010932 11741 3501513153 3502010938  \n",
       "68335                                                                                                                          11634 11629 3501481353 11177 3501773763 11867 20422 2020795524 11617 1018 3501745827 246 3501779478 3501754799 11741 3501513153 21247 137 3501643040 273469383 1415 1416 3501945049 1509 1524 3501773764 12048 3501942428  \n",
       "68336                                                                                                                             20422 11867 246 3501754799 3501779478 12048 3501773764 3501942428 1415 10596 3501773763 11177 11629 11634 11617 3501744275 11839 3501481353 21247 11741 10462 1018 137 273469383 3491142672 1189498238 3501618484 1416  \n",
       "68337                                                                                                                        3491142672 3501481353 11867 20422 273469383 11629 1524 3483661991 1082283206 1018 1116173086 1116173087 3501779478 3501773763 11177 3483661992 11617 11704 1509 1416 1189498238 3483661993 21247 3483661994 1415 3501773764  \n",
       "68338                                                                                                     3501498189 3501509030 3501498184 12309 20422 3501599554 3501599566 3501599571 3501674401 3501833418 11933 11936 11704 11097 3501509042 3501674400 10588 1075 983 3501502225 3501501064 10513 305 3501498186 3501599570 3501498389 312 1413 601  \n",
       "\n",
       "[68339 rows x 6 columns]"
      ],
      "text/html": [
       "<div>\n",
       "<style scoped>\n",
       "    .dataframe tbody tr th:only-of-type {\n",
       "        vertical-align: middle;\n",
       "    }\n",
       "\n",
       "    .dataframe tbody tr th {\n",
       "        vertical-align: top;\n",
       "    }\n",
       "\n",
       "    .dataframe thead th {\n",
       "        text-align: right;\n",
       "    }\n",
       "</style>\n",
       "<table border=\"1\" class=\"dataframe\">\n",
       "  <thead>\n",
       "    <tr style=\"text-align: right;\">\n",
       "      <th></th>\n",
       "      <th>org_id</th>\n",
       "      <th>city</th>\n",
       "      <th>average_bill</th>\n",
       "      <th>rating</th>\n",
       "      <th>rubrics_id</th>\n",
       "      <th>features_id</th>\n",
       "    </tr>\n",
       "  </thead>\n",
       "  <tbody>\n",
       "    <tr>\n",
       "      <th>0</th>\n",
       "      <td>15903868628669802651</td>\n",
       "      <td>msk</td>\n",
       "      <td>1500.0</td>\n",
       "      <td>4.270968</td>\n",
       "      <td>30776 30774</td>\n",
       "      <td>3501685156 3501779478 20422 3502045016 3502045032 3501618484 11177 11012 2020795524 10894 3501599541 12048 10462 1524 1509 3501498187 11867 1416 3501744275 3501942428 273469383 11704 1189498238 20424 21247 3501481353 3491142672 3501481355 1082283206 11741 3501471642 3501498186 11629 11617 10886 1415 3501513153 1018 246 3501749289 11531</td>\n",
       "    </tr>\n",
       "    <tr>\n",
       "      <th>1</th>\n",
       "      <td>16076540698036998306</td>\n",
       "      <td>msk</td>\n",
       "      <td>500.0</td>\n",
       "      <td>4.375000</td>\n",
       "      <td>30771</td>\n",
       "      <td>1509 1082283206 273469383 10462 11617 3501779478 3501744275 1524 1018 1116173086 20422</td>\n",
       "    </tr>\n",
       "    <tr>\n",
       "      <th>2</th>\n",
       "      <td>8129364761615040323</td>\n",
       "      <td>msk</td>\n",
       "      <td>500.0</td>\n",
       "      <td>4.000000</td>\n",
       "      <td>31495</td>\n",
       "      <td>10462 11177 11617 11629 1416 1018 11704 11867 3501744275 20282 3502045016 273469383 3502045032</td>\n",
       "    </tr>\n",
       "    <tr>\n",
       "      <th>3</th>\n",
       "      <td>15262729117594253452</td>\n",
       "      <td>msk</td>\n",
       "      <td>500.0</td>\n",
       "      <td>4.538813</td>\n",
       "      <td>30776 30770</td>\n",
       "      <td>3501618484 2020795524 11629 11617 1018 11704 21247 11867 246 20422 1416 3501749289 20305</td>\n",
       "    </tr>\n",
       "    <tr>\n",
       "      <th>4</th>\n",
       "      <td>13418544315327784420</td>\n",
       "      <td>msk</td>\n",
       "      <td>500.0</td>\n",
       "      <td>4.409091</td>\n",
       "      <td>31495</td>\n",
       "      <td>11617 10462 11177 1416 11867 3501744275 20282 3502045016 11629 273469383 3502045032 1018 11704</td>\n",
       "    </tr>\n",
       "    <tr>\n",
       "      <th>...</th>\n",
       "      <td>...</td>\n",
       "      <td>...</td>\n",
       "      <td>...</td>\n",
       "      <td>...</td>\n",
       "      <td>...</td>\n",
       "      <td>...</td>\n",
       "    </tr>\n",
       "    <tr>\n",
       "      <th>68334</th>\n",
       "      <td>4379286080707082909</td>\n",
       "      <td>msk</td>\n",
       "      <td>NaN</td>\n",
       "      <td>3.812500</td>\n",
       "      <td>30774</td>\n",
       "      <td>1018 1415 10462 11629 11867 20422 20424 1189498238 3491142672 3501481353 11617 11704 3501637468 3501744275 3501773763 246 3501779478 12048 3501773764 3501942428 3502010918 3502010929 21247 3502010932 11741 3501513153 3502010938</td>\n",
       "    </tr>\n",
       "    <tr>\n",
       "      <th>68335</th>\n",
       "      <td>7916477189329738565</td>\n",
       "      <td>msk</td>\n",
       "      <td>NaN</td>\n",
       "      <td>4.894231</td>\n",
       "      <td>30776</td>\n",
       "      <td>11634 11629 3501481353 11177 3501773763 11867 20422 2020795524 11617 1018 3501745827 246 3501779478 3501754799 11741 3501513153 21247 137 3501643040 273469383 1415 1416 3501945049 1509 1524 3501773764 12048 3501942428</td>\n",
       "    </tr>\n",
       "    <tr>\n",
       "      <th>68336</th>\n",
       "      <td>12358902585434046825</td>\n",
       "      <td>msk</td>\n",
       "      <td>NaN</td>\n",
       "      <td>4.156250</td>\n",
       "      <td>30774</td>\n",
       "      <td>20422 11867 246 3501754799 3501779478 12048 3501773764 3501942428 1415 10596 3501773763 11177 11629 11634 11617 3501744275 11839 3501481353 21247 11741 10462 1018 137 273469383 3491142672 1189498238 3501618484 1416</td>\n",
       "    </tr>\n",
       "    <tr>\n",
       "      <th>68337</th>\n",
       "      <td>1712093598996183140</td>\n",
       "      <td>spb</td>\n",
       "      <td>NaN</td>\n",
       "      <td>NaN</td>\n",
       "      <td>30771 30774</td>\n",
       "      <td>3491142672 3501481353 11867 20422 273469383 11629 1524 3483661991 1082283206 1018 1116173086 1116173087 3501779478 3501773763 11177 3483661992 11617 11704 1509 1416 1189498238 3483661993 21247 3483661994 1415 3501773764</td>\n",
       "    </tr>\n",
       "    <tr>\n",
       "      <th>68338</th>\n",
       "      <td>125079240973229511</td>\n",
       "      <td>spb</td>\n",
       "      <td>NaN</td>\n",
       "      <td>4.633333</td>\n",
       "      <td>30776</td>\n",
       "      <td>3501498189 3501509030 3501498184 12309 20422 3501599554 3501599566 3501599571 3501674401 3501833418 11933 11936 11704 11097 3501509042 3501674400 10588 1075 983 3501502225 3501501064 10513 305 3501498186 3501599570 3501498389 312 1413 601</td>\n",
       "    </tr>\n",
       "  </tbody>\n",
       "</table>\n",
       "<p>68339 rows × 6 columns</p>\n",
       "</div>"
      ]
     },
     "execution_count": 11,
     "metadata": {},
     "output_type": "execute_result"
    }
   ],
   "execution_count": 11
  },
  {
   "metadata": {
    "ExecuteTime": {
     "end_time": "2025-01-08T23:52:33.170359Z",
     "start_time": "2025-01-08T23:52:33.156919Z"
    }
   },
   "cell_type": "code",
   "source": "features.head()",
   "outputs": [
    {
     "data": {
      "text/plain": [
       "   feature_id                           feature_name\n",
       "0           1  prepress_and_post_printing_processing\n",
       "1          40                               products\n",
       "2          54                        printing_method\n",
       "3          77                                   fuel\n",
       "4          79                                   shop"
      ],
      "text/html": [
       "<div>\n",
       "<style scoped>\n",
       "    .dataframe tbody tr th:only-of-type {\n",
       "        vertical-align: middle;\n",
       "    }\n",
       "\n",
       "    .dataframe tbody tr th {\n",
       "        vertical-align: top;\n",
       "    }\n",
       "\n",
       "    .dataframe thead th {\n",
       "        text-align: right;\n",
       "    }\n",
       "</style>\n",
       "<table border=\"1\" class=\"dataframe\">\n",
       "  <thead>\n",
       "    <tr style=\"text-align: right;\">\n",
       "      <th></th>\n",
       "      <th>feature_id</th>\n",
       "      <th>feature_name</th>\n",
       "    </tr>\n",
       "  </thead>\n",
       "  <tbody>\n",
       "    <tr>\n",
       "      <th>0</th>\n",
       "      <td>1</td>\n",
       "      <td>prepress_and_post_printing_processing</td>\n",
       "    </tr>\n",
       "    <tr>\n",
       "      <th>1</th>\n",
       "      <td>40</td>\n",
       "      <td>products</td>\n",
       "    </tr>\n",
       "    <tr>\n",
       "      <th>2</th>\n",
       "      <td>54</td>\n",
       "      <td>printing_method</td>\n",
       "    </tr>\n",
       "    <tr>\n",
       "      <th>3</th>\n",
       "      <td>77</td>\n",
       "      <td>fuel</td>\n",
       "    </tr>\n",
       "    <tr>\n",
       "      <th>4</th>\n",
       "      <td>79</td>\n",
       "      <td>shop</td>\n",
       "    </tr>\n",
       "  </tbody>\n",
       "</table>\n",
       "</div>"
      ]
     },
     "execution_count": 12,
     "metadata": {},
     "output_type": "execute_result"
    }
   ],
   "execution_count": 12
  },
  {
   "metadata": {
    "ExecuteTime": {
     "end_time": "2025-01-08T23:52:33.588261Z",
     "start_time": "2025-01-08T23:52:33.571893Z"
    }
   },
   "cell_type": "code",
   "source": "rubrics.head()",
   "outputs": [
    {
     "data": {
      "text/plain": [
       "   rubric_id        rubric_name\n",
       "0      30519  Булочная, пекарня\n",
       "1      30770           Бар, паб\n",
       "2      30771    Быстрое питание\n",
       "3      30774               Кафе\n",
       "4      30775           Пиццерия"
      ],
      "text/html": [
       "<div>\n",
       "<style scoped>\n",
       "    .dataframe tbody tr th:only-of-type {\n",
       "        vertical-align: middle;\n",
       "    }\n",
       "\n",
       "    .dataframe tbody tr th {\n",
       "        vertical-align: top;\n",
       "    }\n",
       "\n",
       "    .dataframe thead th {\n",
       "        text-align: right;\n",
       "    }\n",
       "</style>\n",
       "<table border=\"1\" class=\"dataframe\">\n",
       "  <thead>\n",
       "    <tr style=\"text-align: right;\">\n",
       "      <th></th>\n",
       "      <th>rubric_id</th>\n",
       "      <th>rubric_name</th>\n",
       "    </tr>\n",
       "  </thead>\n",
       "  <tbody>\n",
       "    <tr>\n",
       "      <th>0</th>\n",
       "      <td>30519</td>\n",
       "      <td>Булочная, пекарня</td>\n",
       "    </tr>\n",
       "    <tr>\n",
       "      <th>1</th>\n",
       "      <td>30770</td>\n",
       "      <td>Бар, паб</td>\n",
       "    </tr>\n",
       "    <tr>\n",
       "      <th>2</th>\n",
       "      <td>30771</td>\n",
       "      <td>Быстрое питание</td>\n",
       "    </tr>\n",
       "    <tr>\n",
       "      <th>3</th>\n",
       "      <td>30774</td>\n",
       "      <td>Кафе</td>\n",
       "    </tr>\n",
       "    <tr>\n",
       "      <th>4</th>\n",
       "      <td>30775</td>\n",
       "      <td>Пиццерия</td>\n",
       "    </tr>\n",
       "  </tbody>\n",
       "</table>\n",
       "</div>"
      ]
     },
     "execution_count": 13,
     "metadata": {},
     "output_type": "execute_result"
    }
   ],
   "execution_count": 13
  },
  {
   "cell_type": "markdown",
   "metadata": {
    "id": "GN9kZbURGH64"
   },
   "source": [
    "Полезно посмотреть внимательнее на то, с какими признаками нам предстоит работать.\n",
    "\n",
    "* **org_id** вам не понадобится;\n",
    "* **city** - город, в котором находится заведение (``msk`` или ``spb``);\n",
    "* **average_bill** - средний чек в заведении - он будет нашим таргетом;\n",
    "* **rating** - рейтинг заведения;\n",
    "* **rubrics_id** - тип заведения (или несколько типов). Соответствие кодов каким-то человекочитаемым типам живёт в табличке ``rubrics``\n",
    "* **features_id** - набор неких фичей заведения. Соответствие кодов каким-то человекочитаемым типам живёт в табличке ``features``\n",
    "\n",
    "Обратите внимание, что **rubrics_id** и **features_id** - это не списки, а разделённые пробелами строки. Когда вам захочется работать с отдельными фичами из мешка фичей для данного заведения, вам придётся всё-таки превратить их в списки (здесь поможет метод `split` для строк)."
   ]
  },
  {
   "cell_type": "markdown",
   "metadata": {
    "id": "J0IJIWz3GH64"
   },
   "source": [
    "Чтобы быстро восстанавливать по рубрикам и фичам их нормальные названия, сделайте словари вида ``код_фичи:название_фичи``"
   ]
  },
  {
   "cell_type": "code",
   "metadata": {
    "id": "8KwKEKr7GH65",
    "ExecuteTime": {
     "end_time": "2025-01-08T23:52:33.982631Z",
     "start_time": "2025-01-08T23:52:33.966734Z"
    }
   },
   "source": [
    "# <Your code here>\n",
    "feature_dict = features.set_index(\"feature_id\").to_dict(orient='dict')\n",
    "rubric_dict = rubrics.set_index(\"rubric_id\").to_dict(orient='dict')\n",
    "rubric_dict"
   ],
   "outputs": [
    {
     "data": {
      "text/plain": [
       "{'rubric_name': {30519: 'Булочная, пекарня',\n",
       "  30770: 'Бар, паб',\n",
       "  30771: 'Быстрое питание',\n",
       "  30774: 'Кафе',\n",
       "  30775: 'Пиццерия',\n",
       "  30776: 'Ресторан',\n",
       "  30777: 'Столовая',\n",
       "  31286: 'Спортбар',\n",
       "  31350: 'Кондитерская',\n",
       "  31375: 'Суши-бар',\n",
       "  31401: 'Кальян-бар',\n",
       "  31495: 'Кофейня',\n",
       "  3108292683: 'Бар безалкогольных напитков',\n",
       "  3501514558: 'Фудкорт',\n",
       "  3501750896: 'Кофе с собой'}}"
      ]
     },
     "execution_count": 14,
     "metadata": {},
     "output_type": "execute_result"
    }
   ],
   "execution_count": 14
  },
  {
   "cell_type": "markdown",
   "metadata": {
    "id": "DNd4PkyQGH65"
   },
   "source": [
    "Посмотрим, какими бывают типы заведений:"
   ]
  },
  {
   "cell_type": "code",
   "metadata": {
    "scrolled": false,
    "id": "8WhaPPEeGH65",
    "outputId": "aaf9cc8c-64ae-4bac-d8f8-6dd4d03033d8",
    "ExecuteTime": {
     "end_time": "2025-01-08T23:52:34.586984Z",
     "start_time": "2025-01-08T23:52:34.576561Z"
    }
   },
   "source": [
    "rubric_dict"
   ],
   "outputs": [
    {
     "data": {
      "text/plain": [
       "{'rubric_name': {30519: 'Булочная, пекарня',\n",
       "  30770: 'Бар, паб',\n",
       "  30771: 'Быстрое питание',\n",
       "  30774: 'Кафе',\n",
       "  30775: 'Пиццерия',\n",
       "  30776: 'Ресторан',\n",
       "  30777: 'Столовая',\n",
       "  31286: 'Спортбар',\n",
       "  31350: 'Кондитерская',\n",
       "  31375: 'Суши-бар',\n",
       "  31401: 'Кальян-бар',\n",
       "  31495: 'Кофейня',\n",
       "  3108292683: 'Бар безалкогольных напитков',\n",
       "  3501514558: 'Фудкорт',\n",
       "  3501750896: 'Кофе с собой'}}"
      ]
     },
     "execution_count": 15,
     "metadata": {},
     "output_type": "execute_result"
    }
   ],
   "execution_count": 15
  },
  {
   "cell_type": "markdown",
   "metadata": {
    "id": "qA6Bm_8EGH66"
   },
   "source": [
    "Мы что-то поняли про признаки, которыми нам предстоит пользоваться. Теперь время посмотреть на таргет. Вооружившись функциями ``hist`` и ``scatter`` из библиотеки ``matplotlib``, а также методом ``isna`` для pandas-таблиц разберитесь, какие значения принимают таргеты, есть ли там там выбросы, пропуски или ещё какие-то проблемы.\n",
    "\n",
    "&nbsp;\n",
    "\n",
    "<details>\n",
    "  <summary>Когда будете готовы, кликните сюда, чтобы посмотреть ответ</summary>\n",
    "    <ol>\n",
    "      <li>Среди таргетов довольно много пропусков;</li>\n",
    "      <li>Все таргеты - это числа, кратные 500;</li>\n",
    "      <li>Есть какие-то адские значения, превышающие 100 000 (видимо, выбросы);</li>\n",
    "      <li>В целом, число ресторанов с данным средним чеком быстро падает с ростом среднего чека. Для средних чеков, больших 2500, заведений уже совсем мало. Примерно у 2/3 заведений средний чек 500.</li>\n",
    "    </ol>\n",
    "</details>"
   ]
  },
  {
   "metadata": {
    "ExecuteTime": {
     "end_time": "2025-01-08T23:52:34.773282Z",
     "start_time": "2025-01-08T23:52:34.751480Z"
    }
   },
   "cell_type": "code",
   "source": "data.isna().sum()",
   "outputs": [
    {
     "data": {
      "text/plain": [
       "org_id              0\n",
       "city                0\n",
       "average_bill    35561\n",
       "rating          13731\n",
       "rubrics_id          0\n",
       "features_id     11049\n",
       "dtype: int64"
      ]
     },
     "execution_count": 16,
     "metadata": {},
     "output_type": "execute_result"
    }
   ],
   "execution_count": 16
  },
  {
   "cell_type": "code",
   "metadata": {
    "scrolled": true,
    "id": "f6bg-kmIGH66",
    "outputId": "69beeb66-b7aa-4905-bc73-59a6ab27edf3",
    "ExecuteTime": {
     "end_time": "2025-01-08T23:52:34.973241Z",
     "start_time": "2025-01-08T23:52:34.966974Z"
    }
   },
   "source": [],
   "outputs": [],
   "execution_count": null
  },
  {
   "cell_type": "markdown",
   "metadata": {
    "id": "trfl5F_4GH66"
   },
   "source": [
    "**Базовая очистка данных**\n",
    "\n",
    "Раз есть треш, давайте чистить данные.\n",
    "\n",
    "С пропусками можно бороться по-разному (даже и с пропусками в таргете), но пока мы сделаем самую простую вещь: дропнем все заведения, для которых мы не знаем средний чек.\n",
    "\n",
    "Уберите из них все заведения, у которых средний чек неизвестен или превышает 2500. Пока есть опасение, что их слишком мало, чтобы мы смогли обучить на них что-нибудь.\n",
    "\n",
    "**3. Введите в Контест количество заведений, которое у вас получилось после очистки**.\n",
    "\n",
    "Дальше мы будем работать с очищенными данными."
   ]
  },
  {
   "cell_type": "code",
   "metadata": {
    "id": "OxIkRsA1GH67",
    "ExecuteTime": {
     "end_time": "2025-01-08T23:52:35.332336Z",
     "start_time": "2025-01-08T23:52:35.314107Z"
    }
   },
   "source": [
    "# <Your code here>\n",
    "data_filt = data.dropna(subset=['average_bill'])\n",
    "data_filt = data_filt[data_filt[\"average_bill\"] <= 2500]\n",
    "data_filt.shape"
   ],
   "outputs": [
    {
     "data": {
      "text/plain": [
       "(32136, 6)"
      ]
     },
     "execution_count": 17,
     "metadata": {},
     "output_type": "execute_result"
    }
   ],
   "execution_count": 17
  },
  {
   "cell_type": "markdown",
   "metadata": {
    "id": "GsNzGAp1GH67"
   },
   "source": [
    "**4. Посчитайте и введите в Контест разность между средними арифметическими average_bill в кафе Москвы и Санкт-Петербурга. Округлите ответ до целого.**\n",
    "\n",
    "&nbsp;\n",
    "\n",
    "<details>\n",
    "  <summary>Небольшая подсказка</summary>\n",
    "  Примените часто используемый метод groupby.\n",
    "</details>"
   ]
  },
  {
   "cell_type": "code",
   "metadata": {
    "id": "gLdl3zVCGH67",
    "ExecuteTime": {
     "end_time": "2025-01-08T23:52:37.026365Z",
     "start_time": "2025-01-08T23:52:37.008573Z"
    }
   },
   "source": "data_filt.groupby(\"city\")[\"average_bill\"].mean()",
   "outputs": [
    {
     "data": {
      "text/plain": [
       "city\n",
       "msk    792.887230\n",
       "spb    676.449662\n",
       "Name: average_bill, dtype: float64"
      ]
     },
     "execution_count": 18,
     "metadata": {},
     "output_type": "execute_result"
    }
   ],
   "execution_count": 18
  },
  {
   "metadata": {
    "ExecuteTime": {
     "end_time": "2025-01-08T23:52:37.489429Z",
     "start_time": "2025-01-08T23:52:37.469814Z"
    }
   },
   "cell_type": "code",
   "source": [
    "msk_avg = data_filt[data_filt['city'] == 'msk']['average_bill'].mean()\n",
    "\n",
    "# Считаем среднее значение average_bill для Санкт-Петербурга\n",
    "spb_avg = data_filt[data_filt['city'] == 'spb']['average_bill'].mean()\n",
    "\n",
    "# Разница между средними значениями\n",
    "difference = round(abs(msk_avg - spb_avg))\n",
    "difference"
   ],
   "outputs": [
    {
     "data": {
      "text/plain": [
       "116"
      ]
     },
     "execution_count": 19,
     "metadata": {},
     "output_type": "execute_result"
    }
   ],
   "execution_count": 19
  },
  {
   "cell_type": "markdown",
   "metadata": {
    "id": "Qncnmi8bGH7F"
   },
   "source": [
    "Давайте ещё немного поизучаем данные. Ответьте на вопросы:\n",
    "\n",
    "1. Есть ли разница между средними чеками в Москве и Санкт-Петербурге?\n",
    "2. Коррелирует ли средний чек с рейтингом?\n",
    "3. Есть ли разница в среднем чеке между ресторанами и пабами (см. соответствующие типы из ``rubrics``)?\n",
    "\n",
    "&nbsp;\n",
    "\n",
    "<details>\n",
    "  <summary>Когда будете готовы, кликните сюда, чтобы посмотреть ответ</summary>\n",
    "    <ol>\n",
    "      <li>В целом, да. Вы могли бы сравнить средние (в Москве больше) или медианы (они равны, потому что уж больно много где средний чек 500). Этого, конечно, мало для того, чтобы сделать вывод. Нужно проверять какие-то статические критерии, которые изучаются в курсе по статистике. Не будем останавливаться на этом подробно. Поскольку данные совсем не нормальные, никакой t-тест не сработает; мы бы предложили использовать критерий Манна-Уитни (см. википедию и функцию mannwhitneyu из библиотеки scipy.stats).</li>\n",
    "      <li>Какая-то корреляция между ними есть но уж больно неубедительная (рекомендуем построим на одном графике boxplot рейтинга по каждому значению среднего чека для визуализации). Конечно, дна становится меньше с ростом среднего чека, но, видимо, в предсказании это особо не используешь;</li>\n",
    "      <li>Несомненно, в ресторанах средний чек выше. Это и невооружённым глазом видно, и с помощью критерия Манна-Уитни можно проверить.</li>\n",
    "    </ol>\n",
    "</details>"
   ]
  },
  {
   "cell_type": "markdown",
   "metadata": {
    "id": "ATY5075lGH7F"
   },
   "source": [
    "## Формулируем задачу"
   ]
  },
  {
   "cell_type": "markdown",
   "metadata": {
    "id": "znpEgJGIGH7F"
   },
   "source": [
    "Прежде, чем решать задачу, её надо сформулировать.\n",
    "\n",
    "**Вопрос первый**: это классификация или регрессия? Подумайте над этим.\n",
    "\n",
    "&nbsp;\n",
    "\n",
    "<details>\n",
    "  <summary>Когда будете готовы, кликните сюда, чтобы посмотреть ответ</summary>\n",
    "    Ответ не столь однозначен, как хотелось бы. С одной стороны, таргет принимает всего четыре значения, и потому это может быть классификацией с 4 классами. С другой стороны, таргеты - это не абстрактные \"треугольник\", \"круг\", \"квадрат\", а вещественные числа, и когда мы вместо 500 предсказываем 2500, это явно хуже, чем вместо 1500 предсказать 2000. В целом, задачу можно решать и так, и так; мы будем смотреть на метрики обеих задач.\n",
    "</details>"
   ]
  },
  {
   "cell_type": "markdown",
   "metadata": {
    "id": "aaVuazxsGH7G"
   },
   "source": [
    "**Вопрос второй**: какие метрики мы будем использовать для оценки качества решения? Какие метрики вы предложили бы для этой задачи как для задачи классификации? А для этой задачи, как для задачи регрессии?\n",
    "\n",
    "&nbsp;\n",
    "\n",
    "<details>\n",
    "  <summary>Когда будете готовы, кликните сюда, чтобы посмотреть ответ</summary>\n",
    "    \n",
    "    Начнём с классификации. Метрика accuracy не очень хороша из-за несбалансированности классов. Действительно, классификатор, который всегда говорит 500, будет иметь accuracy примерно 0.66, хотя это никак не отражает практическую ценность модели. Как мы увидим, самая большая проблема будет заключаться в том, чтобы научиться выделять заведения с большими чеками, а их меньше всего и в accuracy они вносят самый маленький вклад. Есть разные способы с этим бороться, один -- использовать sklearn.metrics.balanced_accuracy_score. Его идея, грубо говоря, в том, чтобы по каждому классу найти, какая доля объектов этого класса правильно классифицирована, а потом эти доли усреднить. Тогда у бессмысленного классификатора, который всем ставит 500, будет скор 1/5 (ведь классов 5), а чтобы получить прежние 2/3, нужно будет научиться в каждом классе правильно ставить хотя бы 2/3 меток.    \n",
    "    \n",
    "    Теперь что касается регрессии. Основых метрики две - MSE и MAE. Из первой стоит извлекать корень, чтобы получать интерпретируемые человеком значения, а вторая менее агрессивна к выбросам (впрочем, выбросов тут уже нет, мы их все выкинули). Без дополнительной информации не очень понятно, какую выбирать, можно брать любую. А выбирать надо: ведь даже банальные модели \"предсказывай всегда среднее\" и \"предсказывай всегда медиану\" будут по-разному ранжироваться этими метриками.\n",
    "    \n",
    "</details>"
   ]
  },
  {
   "cell_type": "markdown",
   "metadata": {
    "id": "vs-jkCj-GH7G"
   },
   "source": [
    "**Вопрос третий**: а не взять ли нам какую-нибудь более экзотическую метрику? Например, MAPE (определение в учебнике в главе про оценку качества моделей). А как вам такое соображение: допустим, заказчик говорит, что пользователи будут расстраиваться, только если мы завысили средний чек - так давайте поправим MSE или MAE, обнуляя те слагаемые, для которых предсказанный таргет меньше истинного. Вот это хорошая метрика или нет?\n",
    "\n",
    "&nbsp;\n",
    "\n",
    "<details>\n",
    "  <summary>Когда будете готовы, кликните сюда, чтобы посмотреть ответ</summary>\n",
    "    \n",
    "    Что касается MAPE, у нас нет тех проблем, с которой она борется. Вот если бы у нас были средние чеки от 500 до миллиона, мы бы столкнулись с ситуацией, что большие ошибки для больших чеков доминировали бы в сумме для MSE и MAE (500 вместо 1000 меркнет по сравнению с 500к вместо миллиона). Говоря поэтически, мы бы оптимизировали модель для миллионеров, забыв про простых трудяг. И было бы логично перейти от парадигмы \"ошибаемся на 500 рублей\" к парадигме \"ошибаемся на 50%\". Но у нас все таргеты примерно одного порядка, MAPE нам особо ни к чему.\n",
    "    \n",
    "    Вторая метрика коварна тем, что её можно \"накрутить\" безо всякой пользы для дела. А именно, модель, которая всегда предсказывает средний чек в миллион, была бы идеальна. Но все бы расстраивались и не ходили есть. Другое дело, что можно ввести разные веса для ошибок в большую и в меньшую сторону, но опять же - пока нет показаний к тому, что это нужно.\n",
    "    \n",
    "</details>"
   ]
  },
  {
   "cell_type": "markdown",
   "metadata": {
    "id": "VCjV_SoAGH7G"
   },
   "source": [
    "## Применяем ML"
   ]
  },
  {
   "cell_type": "markdown",
   "metadata": {
    "id": "lqkvcLSPGH7G"
   },
   "source": [
    "Теперь время разбить данные на обучающую и тестовую выборку. Делается это с помощью функции ``train_test_split`` из пакета ``sklearn``. При этом очень важно сделать две вещи:\n",
    "\n",
    "* Зафиксировать ``random_state=42`` (да, именно этот, а то ваши модели могут не зайти в Контест), чтобы всё, что мы делаем, было воспроизводимо (иначе от перезапуска к перезапуску числа могут меняться, и мы не будем понимать, из-за чего это происходит).\n",
    "* Сделать стратификацию по таргету. В противном случае у нас в трейне и тесте могут оказаться разные пропорции классов (обычно особенно страдают мало представленные классы), что неутешительно скажется на результате.\n",
    "\n",
    "**Обратите внимание**, что если вы побьёте выборку на train и test по-другому, ваши результаты могут не зайти в контест."
   ]
  },
  {
   "cell_type": "code",
   "metadata": {
    "id": "AF2IVpOjGH7H",
    "ExecuteTime": {
     "end_time": "2025-01-08T23:52:40.415310Z",
     "start_time": "2025-01-08T23:52:40.390659Z"
    }
   },
   "source": [
    "clean_data = data_filt\n",
    "clean_data_train, clean_data_test = train_test_split(\n",
    "    clean_data, stratify=clean_data[\"average_bill\"], test_size=0.33, random_state=42)"
   ],
   "outputs": [],
   "execution_count": 20
  },
  {
   "cell_type": "markdown",
   "metadata": {
    "id": "S161veFJGH7H"
   },
   "source": [
    "Теперь нам нужен **бейзлайн** - очень простая модель, с которой мы в дальнейшем будем сравниваться.\n",
    "\n",
    "Поскольку мы ещё не знаем никаких умных классов моделей, все модели мы будем писать руками. А именно, мы напишем две простых модели на основе ``sklearn.baseRegressorMixin`` и ``sklearn.base.ClassifierMixin`` (посмотрите примеры в документации sklearn и сделайте так же):\n",
    "\n",
    "* Модель для задачи регрессии, которая для всех заведений предсказывает одно число — среднее значение среднего чека;\n",
    "* Модель для задачи классификации, которая для всех заведений предсказывает один класс — самый частый класс (ироничным образом он в данном случае совпадает с медианой).\n",
    "\n",
    "**Важно!** Мы будем много раз повторять вам мантру о том, что **информация из тестовой выборки не должна протекать в процесс обучения**. Так вот, и среднее, и самый частый класс вы должны считать именно на обучающей выборке!\n",
    "\n",
    "**5 и 6. Напишите эти две модели и сдайте в Контест**. В процессе проверки модели будут и обучаться, и предсказывать.\n",
    "\n",
    "Заметим, что для этих моделей нам вообще не нужны какие-то \"фичи\"; мы работаем только с таргетом.\n",
    "\n",
    "У каждой модели есть (как минимум) два метода: `fit` (обучает модель по фичам `X` и таргету `y`) `predict` (предсказывает по фичам `X`)"
   ]
  },
  {
   "metadata": {
    "ExecuteTime": {
     "end_time": "2025-01-08T23:52:41.146455Z",
     "start_time": "2025-01-08T23:52:41.129276Z"
    }
   },
   "cell_type": "code",
   "source": "clean_data_train",
   "outputs": [
    {
     "data": {
      "text/plain": [
       "                     org_id city  average_bill    rating   rubrics_id  \\\n",
       "45769   3276960721840719260  msk         500.0  4.500000        30770   \n",
       "39061   8452997364765928283  msk        1500.0  4.442623  30774 30776   \n",
       "59281  14240408259222214074  spb        1000.0  4.018868  30776 30774   \n",
       "51225  15114069072602161053  msk        1500.0  4.364742  31401 30776   \n",
       "29587   2730337118800634815  msk        1000.0  4.698718        30770   \n",
       "...                     ...  ...           ...       ...          ...   \n",
       "64667  15641319025413596274  msk         500.0  4.510753        30771   \n",
       "47309   2049892259403324519  msk         500.0  4.333333        30771   \n",
       "26208  12224074314753892871  msk         500.0  5.000000        30775   \n",
       "48599  16581456988770474074  msk         500.0  4.692308  31495 30774   \n",
       "17863  11409605273003015299  msk         500.0  3.222222        30774   \n",
       "\n",
       "                                                                                                                                                                                                                                             features_id  \n",
       "45769                                                                                                                                                                                                            11704 20422 1018 11177 1416 11867 10462  \n",
       "39061                                                                                                                      1415 3501481355 1416 11629 10462 1524 20422 11867 1018 246 20424 11177 21247 1509 11617 273469383 11704 1082283206 3501618484  \n",
       "59281                                                                   3502045032 11741 3502045016 10462 11704 3501779478 3501773764 1509 11629 3501744275 11617 1018 11177 11867 12048 246 20422 3501618484 1416 1082283206 20424 3501773763 273469383  \n",
       "51225                                                                              3501513153 3501779478 3491142672 273469383 3501481355 21247 20424 20422 11741 11629 3501744275 11617 11867 11177 11704 10462 1415 1018 3501481353 246 1082283206 1416  \n",
       "29587  21247 10896 3491142672 11629 3501481353 3501481355 10428 3501773763 2020795524 3501685156 3501773764 10900 3501618484 1524 20305 3501471642 1018 10894 10462 1416 10888 10770 11867 10875 246 3501779478 11709 11704 11617 1082283206 20422 10886  \n",
       "...                                                                                                                                                                                                                                                  ...  \n",
       "64667                                                                                                                                                                     20424 3501744275 273469383 10462 11177 11617 11629 1018 11704 11867 1416 20422  \n",
       "47309                                                                                                                                                                                                       273469383 20424 11704 11629 10462 20422 1018  \n",
       "26208                                                                                                                            21247 11867 11629 1524 1509 20422 1416 1415 1018 11704 246 1082283206 1189498238 3501481353 3501513153 10462 3501522239  \n",
       "48599                                                                            3491142672 20282 3501637468 11741 3501745827 3501694289 3501779478 3501773764 11704 10462 273469383 3501773763 1018 1415 11867 3501769434 11177 11617 20424 20422 11629  \n",
       "17863                                                                                                                                         3501744275 11617 3502045032 3502045016 20424 10462 12048 11177 11704 1018 273469383 20422 1416 11867 11629  \n",
       "\n",
       "[21531 rows x 6 columns]"
      ],
      "text/html": [
       "<div>\n",
       "<style scoped>\n",
       "    .dataframe tbody tr th:only-of-type {\n",
       "        vertical-align: middle;\n",
       "    }\n",
       "\n",
       "    .dataframe tbody tr th {\n",
       "        vertical-align: top;\n",
       "    }\n",
       "\n",
       "    .dataframe thead th {\n",
       "        text-align: right;\n",
       "    }\n",
       "</style>\n",
       "<table border=\"1\" class=\"dataframe\">\n",
       "  <thead>\n",
       "    <tr style=\"text-align: right;\">\n",
       "      <th></th>\n",
       "      <th>org_id</th>\n",
       "      <th>city</th>\n",
       "      <th>average_bill</th>\n",
       "      <th>rating</th>\n",
       "      <th>rubrics_id</th>\n",
       "      <th>features_id</th>\n",
       "    </tr>\n",
       "  </thead>\n",
       "  <tbody>\n",
       "    <tr>\n",
       "      <th>45769</th>\n",
       "      <td>3276960721840719260</td>\n",
       "      <td>msk</td>\n",
       "      <td>500.0</td>\n",
       "      <td>4.500000</td>\n",
       "      <td>30770</td>\n",
       "      <td>11704 20422 1018 11177 1416 11867 10462</td>\n",
       "    </tr>\n",
       "    <tr>\n",
       "      <th>39061</th>\n",
       "      <td>8452997364765928283</td>\n",
       "      <td>msk</td>\n",
       "      <td>1500.0</td>\n",
       "      <td>4.442623</td>\n",
       "      <td>30774 30776</td>\n",
       "      <td>1415 3501481355 1416 11629 10462 1524 20422 11867 1018 246 20424 11177 21247 1509 11617 273469383 11704 1082283206 3501618484</td>\n",
       "    </tr>\n",
       "    <tr>\n",
       "      <th>59281</th>\n",
       "      <td>14240408259222214074</td>\n",
       "      <td>spb</td>\n",
       "      <td>1000.0</td>\n",
       "      <td>4.018868</td>\n",
       "      <td>30776 30774</td>\n",
       "      <td>3502045032 11741 3502045016 10462 11704 3501779478 3501773764 1509 11629 3501744275 11617 1018 11177 11867 12048 246 20422 3501618484 1416 1082283206 20424 3501773763 273469383</td>\n",
       "    </tr>\n",
       "    <tr>\n",
       "      <th>51225</th>\n",
       "      <td>15114069072602161053</td>\n",
       "      <td>msk</td>\n",
       "      <td>1500.0</td>\n",
       "      <td>4.364742</td>\n",
       "      <td>31401 30776</td>\n",
       "      <td>3501513153 3501779478 3491142672 273469383 3501481355 21247 20424 20422 11741 11629 3501744275 11617 11867 11177 11704 10462 1415 1018 3501481353 246 1082283206 1416</td>\n",
       "    </tr>\n",
       "    <tr>\n",
       "      <th>29587</th>\n",
       "      <td>2730337118800634815</td>\n",
       "      <td>msk</td>\n",
       "      <td>1000.0</td>\n",
       "      <td>4.698718</td>\n",
       "      <td>30770</td>\n",
       "      <td>21247 10896 3491142672 11629 3501481353 3501481355 10428 3501773763 2020795524 3501685156 3501773764 10900 3501618484 1524 20305 3501471642 1018 10894 10462 1416 10888 10770 11867 10875 246 3501779478 11709 11704 11617 1082283206 20422 10886</td>\n",
       "    </tr>\n",
       "    <tr>\n",
       "      <th>...</th>\n",
       "      <td>...</td>\n",
       "      <td>...</td>\n",
       "      <td>...</td>\n",
       "      <td>...</td>\n",
       "      <td>...</td>\n",
       "      <td>...</td>\n",
       "    </tr>\n",
       "    <tr>\n",
       "      <th>64667</th>\n",
       "      <td>15641319025413596274</td>\n",
       "      <td>msk</td>\n",
       "      <td>500.0</td>\n",
       "      <td>4.510753</td>\n",
       "      <td>30771</td>\n",
       "      <td>20424 3501744275 273469383 10462 11177 11617 11629 1018 11704 11867 1416 20422</td>\n",
       "    </tr>\n",
       "    <tr>\n",
       "      <th>47309</th>\n",
       "      <td>2049892259403324519</td>\n",
       "      <td>msk</td>\n",
       "      <td>500.0</td>\n",
       "      <td>4.333333</td>\n",
       "      <td>30771</td>\n",
       "      <td>273469383 20424 11704 11629 10462 20422 1018</td>\n",
       "    </tr>\n",
       "    <tr>\n",
       "      <th>26208</th>\n",
       "      <td>12224074314753892871</td>\n",
       "      <td>msk</td>\n",
       "      <td>500.0</td>\n",
       "      <td>5.000000</td>\n",
       "      <td>30775</td>\n",
       "      <td>21247 11867 11629 1524 1509 20422 1416 1415 1018 11704 246 1082283206 1189498238 3501481353 3501513153 10462 3501522239</td>\n",
       "    </tr>\n",
       "    <tr>\n",
       "      <th>48599</th>\n",
       "      <td>16581456988770474074</td>\n",
       "      <td>msk</td>\n",
       "      <td>500.0</td>\n",
       "      <td>4.692308</td>\n",
       "      <td>31495 30774</td>\n",
       "      <td>3491142672 20282 3501637468 11741 3501745827 3501694289 3501779478 3501773764 11704 10462 273469383 3501773763 1018 1415 11867 3501769434 11177 11617 20424 20422 11629</td>\n",
       "    </tr>\n",
       "    <tr>\n",
       "      <th>17863</th>\n",
       "      <td>11409605273003015299</td>\n",
       "      <td>msk</td>\n",
       "      <td>500.0</td>\n",
       "      <td>3.222222</td>\n",
       "      <td>30774</td>\n",
       "      <td>3501744275 11617 3502045032 3502045016 20424 10462 12048 11177 11704 1018 273469383 20422 1416 11867 11629</td>\n",
       "    </tr>\n",
       "  </tbody>\n",
       "</table>\n",
       "<p>21531 rows × 6 columns</p>\n",
       "</div>"
      ]
     },
     "execution_count": 21,
     "metadata": {},
     "output_type": "execute_result"
    }
   ],
   "execution_count": 21
  },
  {
   "cell_type": "code",
   "metadata": {
    "id": "lLz_sxtUGH7H",
    "ExecuteTime": {
     "end_time": "2025-01-08T23:52:41.788447Z",
     "start_time": "2025-01-08T23:52:41.776360Z"
    }
   },
   "source": [
    "from scipy.stats import mode\n",
    "import numpy as np\n",
    "from sklearn.base import RegressorMixin\n",
    "\n",
    "class MeanRegressor(RegressorMixin):\n",
    "    # Predicts the mean of y_train\n",
    "    def __init__(self, *, param=1):\n",
    "        self.result = 0\n",
    "        self.is_fitted = None\n",
    "        self.param = param\n",
    "    def fit(self, X=None, y=None):\n",
    "        '''\n",
    "        Parameters\n",
    "        ----------\n",
    "        X : array like, shape = (n_samples, n_features)\n",
    "        Training data features\n",
    "        y : array like, shape = (_samples,)\n",
    "        Training data targets\n",
    "        '''\n",
    "        self.is_fitted = True\n",
    "        self.result = np.mean(y)\n",
    "        return self\n",
    "\n",
    "    def predict(self, X=None):\n",
    "        '''\n",
    "        Parameters\n",
    "        ----------\n",
    "        X : array like, shape = (n_samples, n_features)\n",
    "        Data to predict\n",
    "        '''\n",
    "        return [self.result]*X.shape[0]\n",
    "\n",
    "from sklearn.base import ClassifierMixin\n",
    "\n",
    "class MostFrequentClassifier(ClassifierMixin):\n",
    "    # Predicts the rounded (just in case) median of y_train\n",
    "    def __init__(self, *, param=1):\n",
    "        self.is_fitted = None\n",
    "        self.result = None\n",
    "        self.param = param\n",
    "    def fit(self, X=None, y=None):\n",
    "        '''\n",
    "        Parameters\n",
    "        ----------\n",
    "        X : array like, shape = (n_samples, n_features)\n",
    "        Training data features\n",
    "        y : array like, shape = (_samples,)\n",
    "        Training data targets\n",
    "        '''\n",
    "        self.is_fitted = True\n",
    "        self.result = mode(y)[0]\n",
    "\n",
    "        return self\n",
    "\n",
    "    def predict(self, X=None):\n",
    "        '''\n",
    "        Parameters\n",
    "        ----------\n",
    "        X : array like, shape = (n_samples, n_features)\n",
    "        Data to predict\n",
    "        '''\n",
    "        return [self.result]*X.shape[0]"
   ],
   "outputs": [],
   "execution_count": 22
  },
  {
   "cell_type": "markdown",
   "metadata": {
    "id": "lo2pNhVoGH7I"
   },
   "source": [
    "Обучим наши модели"
   ]
  },
  {
   "cell_type": "code",
   "metadata": {
    "id": "arXlaGnTGH7I",
    "ExecuteTime": {
     "end_time": "2025-01-08T23:52:42.603501Z",
     "start_time": "2025-01-08T23:52:42.582540Z"
    }
   },
   "source": [
    "reg = MeanRegressor()\n",
    "reg.fit(y=clean_data_train['average_bill'])\n",
    "\n",
    "clf = MostFrequentClassifier()\n",
    "clf.fit(y=clean_data_train['average_bill'])"
   ],
   "outputs": [
    {
     "data": {
      "text/plain": [
       "<__main__.MostFrequentClassifier at 0x12c10f967e0>"
      ]
     },
     "execution_count": 23,
     "metadata": {},
     "output_type": "execute_result"
    }
   ],
   "execution_count": 23
  },
  {
   "metadata": {
    "ExecuteTime": {
     "end_time": "2025-01-08T23:52:43.088535Z",
     "start_time": "2025-01-08T23:52:43.053837Z"
    }
   },
   "cell_type": "code",
   "source": [
    "from sklearn.metrics import mean_squared_error, balanced_accuracy_score\n",
    "y_reg_predict = reg.predict(X=clean_data_test['average_bill'])\n",
    "y_clf_predict = clf.predict(X=clean_data_test['average_bill'])\n",
    "y_true = clean_data_test['average_bill']\n",
    "print(\"Regression:RMSE = \", np.sqrt(mean_squared_error(y_true, y_reg_predict)))\n",
    "print(\"Classification:RMSE = \", np.sqrt(mean_squared_error(y_true, y_clf_predict)))\n",
    "print(\"Classification:BA = \", balanced_accuracy_score(y_true, y_clf_predict))"
   ],
   "outputs": [
    {
     "name": "stdout",
     "output_type": "stream",
     "text": [
      "Regression:RMSE =  448.7143889551622\n",
      "Classification:RMSE =  514.7517402382093\n",
      "Classification:BA =  0.2\n"
     ]
    }
   ],
   "execution_count": 24
  },
  {
   "cell_type": "markdown",
   "metadata": {
    "id": "jJG8x0tmGH7I"
   },
   "source": [
    "Обучите модели и оцените их качество на тестовой выборке. В качестве метрик возьмём RMSE (``np.sqrt`` от ``sklearn.metrics.mean_squared_error``) и ``sklearn.metrics.balanced_accuracy_score``.\n",
    "\n",
    "Для регрессионной модели имеет смысл считать только RMSE (значения будут не кратны 500, точно мы угадывать не будем никогда), а вот для классификационной можно найти обе метрики. Сделайте это. Какая модель оказалась лучше по RMSE?"
   ]
  },
  {
   "cell_type": "markdown",
   "metadata": {
    "id": "kvZwp54sGH7J"
   },
   "source": [
    "<details>\n",
    "  <summary>Когда будете готовы, кликните сюда</summary>\n",
    "    \n",
    "  Казалось бы, регрессор никогда не угадывает, но он в каком-то смысле лучше классификатора - справедливо ли это? Возможно. Несуществующий пользователь модели вряд ли будет задавать вопросы \"почему средний чек не кратен 500?\" Ну, выдали около 800 - ок, понятно.\n",
    "    \n",
    "</details>"
   ]
  },
  {
   "cell_type": "markdown",
   "metadata": {
    "id": "V-1-O9GyGH7J"
   },
   "source": [
    "## Усложнение модели"
   ]
  },
  {
   "cell_type": "markdown",
   "metadata": {
    "id": "dGWgxl0VGH7J"
   },
   "source": [
    "Бейзлайны будут нашей отправной точкой. Строя дальнейшие модели, мы будем спрашивать себя: получилось ли лучше бейзлайна? Если нет или если не особо, то в чём смысл усложнения?"
   ]
  },
  {
   "cell_type": "markdown",
   "metadata": {
    "id": "9w3DkuuFGH7K"
   },
   "source": [
    "Начнём с использования фичи ``city``. Мы уже видели, что в разных городах и средние чеки разные. Легко проверить, что *медиана* средних чеков всё же одна и та же и в Москве, и в Санкт-Петербурге (ох уж этот вездесущий средний чек 500!), поэтому с классификатором мы ничего не сделаем. Но вот регрессор можно попробовать починить.\n",
    "\n",
    "**7. Напишите регрессор, для каждого заведения предсказывающий среднее значение в том же городе (на обучающей выборке, конечно) и сдайте его в Контест**. Вам может помочь то, что булевы `pandas` и `numpy` столбцы можно умножать на численные — в такой ситуации False работает, как ноль, а True как единица."
   ]
  },
  {
   "cell_type": "code",
   "metadata": {
    "id": "ZULQVPe2GH7K",
    "ExecuteTime": {
     "end_time": "2025-01-08T23:52:50.653934Z",
     "start_time": "2025-01-08T23:52:50.642249Z"
    }
   },
   "source": [
    "import pandas as pd\n",
    "import numpy as np\n",
    "from sklearn.base import RegressorMixin\n",
    "\n",
    "class CityMeanRegressor(RegressorMixin):\n",
    "    def __init__(self, *, param=1):\n",
    "        self.result = None\n",
    "        self.city_mean = None\n",
    "        self.is_fitted = None\n",
    "        self.param = param\n",
    "    def fit(self, X=None, y=None):\n",
    "        '''\n",
    "        Parameters\n",
    "        ----------\n",
    "        X : array like, shape = (n_samples, n_features)\n",
    "        Training data features\n",
    "        y : array like, shape = (_samples,)\n",
    "        Training data targets\n",
    "        '''\n",
    "        if X is None:\n",
    "            return self\n",
    "        if y is None:\n",
    "            return self\n",
    "        data = pd.DataFrame({'city': X['city'], 'average_bill': y})\n",
    "        city_avg = data.groupby('city')['average_bill'].mean()\n",
    "        self.city_mean = city_avg\n",
    "        self.result = None\n",
    "        self.is_fitted = True\n",
    "        return self\n",
    "\n",
    "    def city_average_predictor(self, city):\n",
    "        return self.city_mean.get(city, np.nan)\n",
    "    def predict(self, X=None):\n",
    "        '''\n",
    "        Parameters\n",
    "        ----------\n",
    "        X : array like, shape = (n_samples, n_features)\n",
    "        Data to predict\n",
    "        '''\n",
    "        if X is None:\n",
    "            return self.result\n",
    "        self.result = [self.city_mean.get(city, np.nan) for city in X[\"city\"]]\n",
    "        return self.result"
   ],
   "outputs": [],
   "execution_count": 25
  },
  {
   "metadata": {
    "ExecuteTime": {
     "end_time": "2025-01-08T23:52:51.490746Z",
     "start_time": "2025-01-08T23:52:51.427804Z"
    }
   },
   "cell_type": "code",
   "source": [
    "from CityMeanRegressor import CityMeanRegressor\n",
    "city_reg = CityMeanRegressor()\n",
    "city_reg.fit(X=clean_data_train, y=clean_data_train['average_bill'])\n",
    "city_reg.predict(X=clean_data_test)"
   ],
   "outputs": [
    {
     "data": {
      "text/plain": [
       "[677.7104465814781,\n",
       " 792.6111908177905,\n",
       " 792.6111908177905,\n",
       " 792.6111908177905,\n",
       " 677.7104465814781,\n",
       " 792.6111908177905,\n",
       " 792.6111908177905,\n",
       " 677.7104465814781,\n",
       " 677.7104465814781,\n",
       " 677.7104465814781,\n",
       " 792.6111908177905,\n",
       " 677.7104465814781,\n",
       " 677.7104465814781,\n",
       " 677.7104465814781,\n",
       " 792.6111908177905,\n",
       " 792.6111908177905,\n",
       " 792.6111908177905,\n",
       " 677.7104465814781,\n",
       " 792.6111908177905,\n",
       " 792.6111908177905,\n",
       " 792.6111908177905,\n",
       " 677.7104465814781,\n",
       " 792.6111908177905,\n",
       " 677.7104465814781,\n",
       " 792.6111908177905,\n",
       " 677.7104465814781,\n",
       " 677.7104465814781,\n",
       " 792.6111908177905,\n",
       " 792.6111908177905,\n",
       " 792.6111908177905,\n",
       " 792.6111908177905,\n",
       " 792.6111908177905,\n",
       " 677.7104465814781,\n",
       " 677.7104465814781,\n",
       " 792.6111908177905,\n",
       " 792.6111908177905,\n",
       " 792.6111908177905,\n",
       " 677.7104465814781,\n",
       " 792.6111908177905,\n",
       " 792.6111908177905,\n",
       " 792.6111908177905,\n",
       " 792.6111908177905,\n",
       " 792.6111908177905,\n",
       " 792.6111908177905,\n",
       " 792.6111908177905,\n",
       " 792.6111908177905,\n",
       " 792.6111908177905,\n",
       " 792.6111908177905,\n",
       " 792.6111908177905,\n",
       " 677.7104465814781,\n",
       " 677.7104465814781,\n",
       " 677.7104465814781,\n",
       " 792.6111908177905,\n",
       " 792.6111908177905,\n",
       " 792.6111908177905,\n",
       " 677.7104465814781,\n",
       " 792.6111908177905,\n",
       " 792.6111908177905,\n",
       " 792.6111908177905,\n",
       " 792.6111908177905,\n",
       " 677.7104465814781,\n",
       " 677.7104465814781,\n",
       " 792.6111908177905,\n",
       " 792.6111908177905,\n",
       " 792.6111908177905,\n",
       " 792.6111908177905,\n",
       " 792.6111908177905,\n",
       " 792.6111908177905,\n",
       " 677.7104465814781,\n",
       " 792.6111908177905,\n",
       " 677.7104465814781,\n",
       " 677.7104465814781,\n",
       " 677.7104465814781,\n",
       " 792.6111908177905,\n",
       " 677.7104465814781,\n",
       " 677.7104465814781,\n",
       " 792.6111908177905,\n",
       " 677.7104465814781,\n",
       " 792.6111908177905,\n",
       " 677.7104465814781,\n",
       " 792.6111908177905,\n",
       " 792.6111908177905,\n",
       " 792.6111908177905,\n",
       " 792.6111908177905,\n",
       " 792.6111908177905,\n",
       " 792.6111908177905,\n",
       " 792.6111908177905,\n",
       " 677.7104465814781,\n",
       " 792.6111908177905,\n",
       " 677.7104465814781,\n",
       " 677.7104465814781,\n",
       " 792.6111908177905,\n",
       " 677.7104465814781,\n",
       " 792.6111908177905,\n",
       " 792.6111908177905,\n",
       " 792.6111908177905,\n",
       " 792.6111908177905,\n",
       " 792.6111908177905,\n",
       " 792.6111908177905,\n",
       " 792.6111908177905,\n",
       " 792.6111908177905,\n",
       " 677.7104465814781,\n",
       " 792.6111908177905,\n",
       " 792.6111908177905,\n",
       " 792.6111908177905,\n",
       " 792.6111908177905,\n",
       " 792.6111908177905,\n",
       " 792.6111908177905,\n",
       " 792.6111908177905,\n",
       " 792.6111908177905,\n",
       " 792.6111908177905,\n",
       " 792.6111908177905,\n",
       " 792.6111908177905,\n",
       " 792.6111908177905,\n",
       " 792.6111908177905,\n",
       " 677.7104465814781,\n",
       " 677.7104465814781,\n",
       " 677.7104465814781,\n",
       " 677.7104465814781,\n",
       " 792.6111908177905,\n",
       " 677.7104465814781,\n",
       " 792.6111908177905,\n",
       " 792.6111908177905,\n",
       " 792.6111908177905,\n",
       " 677.7104465814781,\n",
       " 677.7104465814781,\n",
       " 792.6111908177905,\n",
       " 792.6111908177905,\n",
       " 792.6111908177905,\n",
       " 792.6111908177905,\n",
       " 792.6111908177905,\n",
       " 677.7104465814781,\n",
       " 677.7104465814781,\n",
       " 792.6111908177905,\n",
       " 792.6111908177905,\n",
       " 792.6111908177905,\n",
       " 792.6111908177905,\n",
       " 677.7104465814781,\n",
       " 792.6111908177905,\n",
       " 792.6111908177905,\n",
       " 792.6111908177905,\n",
       " 792.6111908177905,\n",
       " 677.7104465814781,\n",
       " 677.7104465814781,\n",
       " 792.6111908177905,\n",
       " 792.6111908177905,\n",
       " 792.6111908177905,\n",
       " 677.7104465814781,\n",
       " 677.7104465814781,\n",
       " 677.7104465814781,\n",
       " 792.6111908177905,\n",
       " 677.7104465814781,\n",
       " 792.6111908177905,\n",
       " 792.6111908177905,\n",
       " 677.7104465814781,\n",
       " 792.6111908177905,\n",
       " 792.6111908177905,\n",
       " 792.6111908177905,\n",
       " 792.6111908177905,\n",
       " 677.7104465814781,\n",
       " 677.7104465814781,\n",
       " 792.6111908177905,\n",
       " 792.6111908177905,\n",
       " 677.7104465814781,\n",
       " 677.7104465814781,\n",
       " 677.7104465814781,\n",
       " 792.6111908177905,\n",
       " 792.6111908177905,\n",
       " 792.6111908177905,\n",
       " 792.6111908177905,\n",
       " 792.6111908177905,\n",
       " 792.6111908177905,\n",
       " 677.7104465814781,\n",
       " 792.6111908177905,\n",
       " 792.6111908177905,\n",
       " 677.7104465814781,\n",
       " 792.6111908177905,\n",
       " 792.6111908177905,\n",
       " 677.7104465814781,\n",
       " 792.6111908177905,\n",
       " 677.7104465814781,\n",
       " 792.6111908177905,\n",
       " 792.6111908177905,\n",
       " 677.7104465814781,\n",
       " 677.7104465814781,\n",
       " 677.7104465814781,\n",
       " 792.6111908177905,\n",
       " 792.6111908177905,\n",
       " 792.6111908177905,\n",
       " 792.6111908177905,\n",
       " 792.6111908177905,\n",
       " 677.7104465814781,\n",
       " 792.6111908177905,\n",
       " 792.6111908177905,\n",
       " 677.7104465814781,\n",
       " 677.7104465814781,\n",
       " 792.6111908177905,\n",
       " 792.6111908177905,\n",
       " 792.6111908177905,\n",
       " 677.7104465814781,\n",
       " 792.6111908177905,\n",
       " 677.7104465814781,\n",
       " 792.6111908177905,\n",
       " 792.6111908177905,\n",
       " 792.6111908177905,\n",
       " 677.7104465814781,\n",
       " 792.6111908177905,\n",
       " 792.6111908177905,\n",
       " 792.6111908177905,\n",
       " 677.7104465814781,\n",
       " 677.7104465814781,\n",
       " 677.7104465814781,\n",
       " 792.6111908177905,\n",
       " 792.6111908177905,\n",
       " 792.6111908177905,\n",
       " 677.7104465814781,\n",
       " 792.6111908177905,\n",
       " 677.7104465814781,\n",
       " 677.7104465814781,\n",
       " 677.7104465814781,\n",
       " 792.6111908177905,\n",
       " 677.7104465814781,\n",
       " 792.6111908177905,\n",
       " 792.6111908177905,\n",
       " 677.7104465814781,\n",
       " 677.7104465814781,\n",
       " 792.6111908177905,\n",
       " 677.7104465814781,\n",
       " 792.6111908177905,\n",
       " 792.6111908177905,\n",
       " 792.6111908177905,\n",
       " 792.6111908177905,\n",
       " 792.6111908177905,\n",
       " 792.6111908177905,\n",
       " 792.6111908177905,\n",
       " 792.6111908177905,\n",
       " 792.6111908177905,\n",
       " 677.7104465814781,\n",
       " 792.6111908177905,\n",
       " 677.7104465814781,\n",
       " 792.6111908177905,\n",
       " 792.6111908177905,\n",
       " 792.6111908177905,\n",
       " 792.6111908177905,\n",
       " 677.7104465814781,\n",
       " 792.6111908177905,\n",
       " 792.6111908177905,\n",
       " 792.6111908177905,\n",
       " 792.6111908177905,\n",
       " 792.6111908177905,\n",
       " 792.6111908177905,\n",
       " 792.6111908177905,\n",
       " 792.6111908177905,\n",
       " 792.6111908177905,\n",
       " 677.7104465814781,\n",
       " 677.7104465814781,\n",
       " 677.7104465814781,\n",
       " 792.6111908177905,\n",
       " 792.6111908177905,\n",
       " 792.6111908177905,\n",
       " 677.7104465814781,\n",
       " 677.7104465814781,\n",
       " 792.6111908177905,\n",
       " 792.6111908177905,\n",
       " 792.6111908177905,\n",
       " 792.6111908177905,\n",
       " 792.6111908177905,\n",
       " 792.6111908177905,\n",
       " 792.6111908177905,\n",
       " 792.6111908177905,\n",
       " 677.7104465814781,\n",
       " 677.7104465814781,\n",
       " 792.6111908177905,\n",
       " 792.6111908177905,\n",
       " 677.7104465814781,\n",
       " 677.7104465814781,\n",
       " 792.6111908177905,\n",
       " 792.6111908177905,\n",
       " 677.7104465814781,\n",
       " 677.7104465814781,\n",
       " 677.7104465814781,\n",
       " 792.6111908177905,\n",
       " 792.6111908177905,\n",
       " 677.7104465814781,\n",
       " 792.6111908177905,\n",
       " 792.6111908177905,\n",
       " 677.7104465814781,\n",
       " 677.7104465814781,\n",
       " 792.6111908177905,\n",
       " 792.6111908177905,\n",
       " 792.6111908177905,\n",
       " 677.7104465814781,\n",
       " 792.6111908177905,\n",
       " 792.6111908177905,\n",
       " 792.6111908177905,\n",
       " 677.7104465814781,\n",
       " 792.6111908177905,\n",
       " 792.6111908177905,\n",
       " 792.6111908177905,\n",
       " 792.6111908177905,\n",
       " 677.7104465814781,\n",
       " 677.7104465814781,\n",
       " 677.7104465814781,\n",
       " 677.7104465814781,\n",
       " 677.7104465814781,\n",
       " 792.6111908177905,\n",
       " 677.7104465814781,\n",
       " 792.6111908177905,\n",
       " 792.6111908177905,\n",
       " 792.6111908177905,\n",
       " 792.6111908177905,\n",
       " 792.6111908177905,\n",
       " 792.6111908177905,\n",
       " 792.6111908177905,\n",
       " 792.6111908177905,\n",
       " 677.7104465814781,\n",
       " 792.6111908177905,\n",
       " 677.7104465814781,\n",
       " 792.6111908177905,\n",
       " 792.6111908177905,\n",
       " 792.6111908177905,\n",
       " 792.6111908177905,\n",
       " 792.6111908177905,\n",
       " 792.6111908177905,\n",
       " 677.7104465814781,\n",
       " 792.6111908177905,\n",
       " 792.6111908177905,\n",
       " 792.6111908177905,\n",
       " 792.6111908177905,\n",
       " 792.6111908177905,\n",
       " 792.6111908177905,\n",
       " 792.6111908177905,\n",
       " 792.6111908177905,\n",
       " 792.6111908177905,\n",
       " 792.6111908177905,\n",
       " 677.7104465814781,\n",
       " 792.6111908177905,\n",
       " 677.7104465814781,\n",
       " 677.7104465814781,\n",
       " 677.7104465814781,\n",
       " 792.6111908177905,\n",
       " 792.6111908177905,\n",
       " 677.7104465814781,\n",
       " 792.6111908177905,\n",
       " 792.6111908177905,\n",
       " 792.6111908177905,\n",
       " 792.6111908177905,\n",
       " 792.6111908177905,\n",
       " 677.7104465814781,\n",
       " 792.6111908177905,\n",
       " 792.6111908177905,\n",
       " 792.6111908177905,\n",
       " 792.6111908177905,\n",
       " 677.7104465814781,\n",
       " 792.6111908177905,\n",
       " 677.7104465814781,\n",
       " 792.6111908177905,\n",
       " 792.6111908177905,\n",
       " 792.6111908177905,\n",
       " 792.6111908177905,\n",
       " 677.7104465814781,\n",
       " 792.6111908177905,\n",
       " 792.6111908177905,\n",
       " 792.6111908177905,\n",
       " 792.6111908177905,\n",
       " 792.6111908177905,\n",
       " 792.6111908177905,\n",
       " 792.6111908177905,\n",
       " 792.6111908177905,\n",
       " 792.6111908177905,\n",
       " 792.6111908177905,\n",
       " 677.7104465814781,\n",
       " 792.6111908177905,\n",
       " 792.6111908177905,\n",
       " 677.7104465814781,\n",
       " 792.6111908177905,\n",
       " 677.7104465814781,\n",
       " 677.7104465814781,\n",
       " 677.7104465814781,\n",
       " 792.6111908177905,\n",
       " 792.6111908177905,\n",
       " 792.6111908177905,\n",
       " 792.6111908177905,\n",
       " 792.6111908177905,\n",
       " 792.6111908177905,\n",
       " 677.7104465814781,\n",
       " 792.6111908177905,\n",
       " 792.6111908177905,\n",
       " 677.7104465814781,\n",
       " 792.6111908177905,\n",
       " 677.7104465814781,\n",
       " 792.6111908177905,\n",
       " 677.7104465814781,\n",
       " 677.7104465814781,\n",
       " 792.6111908177905,\n",
       " 792.6111908177905,\n",
       " 792.6111908177905,\n",
       " 792.6111908177905,\n",
       " 792.6111908177905,\n",
       " 792.6111908177905,\n",
       " 792.6111908177905,\n",
       " 792.6111908177905,\n",
       " 792.6111908177905,\n",
       " 792.6111908177905,\n",
       " 677.7104465814781,\n",
       " 792.6111908177905,\n",
       " 792.6111908177905,\n",
       " 792.6111908177905,\n",
       " 792.6111908177905,\n",
       " 677.7104465814781,\n",
       " 792.6111908177905,\n",
       " 792.6111908177905,\n",
       " 792.6111908177905,\n",
       " 792.6111908177905,\n",
       " 677.7104465814781,\n",
       " 792.6111908177905,\n",
       " 792.6111908177905,\n",
       " 792.6111908177905,\n",
       " 792.6111908177905,\n",
       " 792.6111908177905,\n",
       " 677.7104465814781,\n",
       " 792.6111908177905,\n",
       " 677.7104465814781,\n",
       " 792.6111908177905,\n",
       " 677.7104465814781,\n",
       " 792.6111908177905,\n",
       " 792.6111908177905,\n",
       " 792.6111908177905,\n",
       " 677.7104465814781,\n",
       " 677.7104465814781,\n",
       " 792.6111908177905,\n",
       " 677.7104465814781,\n",
       " 677.7104465814781,\n",
       " 792.6111908177905,\n",
       " 677.7104465814781,\n",
       " 792.6111908177905,\n",
       " 792.6111908177905,\n",
       " 792.6111908177905,\n",
       " 792.6111908177905,\n",
       " 677.7104465814781,\n",
       " 792.6111908177905,\n",
       " 792.6111908177905,\n",
       " 792.6111908177905,\n",
       " 792.6111908177905,\n",
       " 792.6111908177905,\n",
       " 677.7104465814781,\n",
       " 677.7104465814781,\n",
       " 677.7104465814781,\n",
       " 792.6111908177905,\n",
       " 792.6111908177905,\n",
       " 792.6111908177905,\n",
       " 792.6111908177905,\n",
       " 792.6111908177905,\n",
       " 792.6111908177905,\n",
       " 792.6111908177905,\n",
       " 677.7104465814781,\n",
       " 792.6111908177905,\n",
       " 792.6111908177905,\n",
       " 792.6111908177905,\n",
       " 792.6111908177905,\n",
       " 792.6111908177905,\n",
       " 792.6111908177905,\n",
       " 792.6111908177905,\n",
       " 792.6111908177905,\n",
       " 677.7104465814781,\n",
       " 792.6111908177905,\n",
       " 792.6111908177905,\n",
       " 792.6111908177905,\n",
       " 792.6111908177905,\n",
       " 792.6111908177905,\n",
       " 792.6111908177905,\n",
       " 792.6111908177905,\n",
       " 677.7104465814781,\n",
       " 677.7104465814781,\n",
       " 677.7104465814781,\n",
       " 792.6111908177905,\n",
       " 792.6111908177905,\n",
       " 792.6111908177905,\n",
       " 677.7104465814781,\n",
       " 792.6111908177905,\n",
       " 792.6111908177905,\n",
       " 792.6111908177905,\n",
       " 792.6111908177905,\n",
       " 792.6111908177905,\n",
       " 792.6111908177905,\n",
       " 677.7104465814781,\n",
       " 792.6111908177905,\n",
       " 792.6111908177905,\n",
       " 792.6111908177905,\n",
       " 677.7104465814781,\n",
       " 677.7104465814781,\n",
       " 677.7104465814781,\n",
       " 792.6111908177905,\n",
       " 792.6111908177905,\n",
       " 792.6111908177905,\n",
       " 792.6111908177905,\n",
       " 792.6111908177905,\n",
       " 792.6111908177905,\n",
       " 677.7104465814781,\n",
       " 677.7104465814781,\n",
       " 677.7104465814781,\n",
       " 792.6111908177905,\n",
       " 792.6111908177905,\n",
       " 792.6111908177905,\n",
       " 792.6111908177905,\n",
       " 792.6111908177905,\n",
       " 792.6111908177905,\n",
       " 792.6111908177905,\n",
       " 677.7104465814781,\n",
       " 792.6111908177905,\n",
       " 677.7104465814781,\n",
       " 792.6111908177905,\n",
       " 792.6111908177905,\n",
       " 792.6111908177905,\n",
       " 792.6111908177905,\n",
       " 677.7104465814781,\n",
       " 677.7104465814781,\n",
       " 792.6111908177905,\n",
       " 792.6111908177905,\n",
       " 792.6111908177905,\n",
       " 677.7104465814781,\n",
       " 792.6111908177905,\n",
       " 792.6111908177905,\n",
       " 792.6111908177905,\n",
       " 792.6111908177905,\n",
       " 792.6111908177905,\n",
       " 792.6111908177905,\n",
       " 792.6111908177905,\n",
       " 792.6111908177905,\n",
       " 792.6111908177905,\n",
       " 792.6111908177905,\n",
       " 792.6111908177905,\n",
       " 792.6111908177905,\n",
       " 792.6111908177905,\n",
       " 677.7104465814781,\n",
       " 677.7104465814781,\n",
       " 677.7104465814781,\n",
       " 792.6111908177905,\n",
       " 677.7104465814781,\n",
       " 792.6111908177905,\n",
       " 677.7104465814781,\n",
       " 792.6111908177905,\n",
       " 792.6111908177905,\n",
       " 792.6111908177905,\n",
       " 792.6111908177905,\n",
       " 677.7104465814781,\n",
       " 792.6111908177905,\n",
       " 792.6111908177905,\n",
       " 792.6111908177905,\n",
       " 792.6111908177905,\n",
       " 677.7104465814781,\n",
       " 677.7104465814781,\n",
       " 792.6111908177905,\n",
       " 792.6111908177905,\n",
       " 792.6111908177905,\n",
       " 792.6111908177905,\n",
       " 792.6111908177905,\n",
       " 677.7104465814781,\n",
       " 792.6111908177905,\n",
       " 677.7104465814781,\n",
       " 792.6111908177905,\n",
       " 677.7104465814781,\n",
       " 677.7104465814781,\n",
       " 792.6111908177905,\n",
       " 792.6111908177905,\n",
       " 677.7104465814781,\n",
       " 792.6111908177905,\n",
       " 677.7104465814781,\n",
       " 677.7104465814781,\n",
       " 677.7104465814781,\n",
       " 792.6111908177905,\n",
       " 792.6111908177905,\n",
       " 792.6111908177905,\n",
       " 792.6111908177905,\n",
       " 792.6111908177905,\n",
       " 792.6111908177905,\n",
       " 792.6111908177905,\n",
       " 677.7104465814781,\n",
       " 792.6111908177905,\n",
       " 677.7104465814781,\n",
       " 677.7104465814781,\n",
       " 677.7104465814781,\n",
       " 792.6111908177905,\n",
       " 792.6111908177905,\n",
       " 792.6111908177905,\n",
       " 677.7104465814781,\n",
       " 792.6111908177905,\n",
       " 792.6111908177905,\n",
       " 792.6111908177905,\n",
       " 677.7104465814781,\n",
       " 792.6111908177905,\n",
       " 677.7104465814781,\n",
       " 792.6111908177905,\n",
       " 792.6111908177905,\n",
       " 792.6111908177905,\n",
       " 792.6111908177905,\n",
       " 792.6111908177905,\n",
       " 677.7104465814781,\n",
       " 677.7104465814781,\n",
       " 792.6111908177905,\n",
       " 792.6111908177905,\n",
       " 677.7104465814781,\n",
       " 792.6111908177905,\n",
       " 792.6111908177905,\n",
       " 677.7104465814781,\n",
       " 677.7104465814781,\n",
       " 792.6111908177905,\n",
       " 792.6111908177905,\n",
       " 792.6111908177905,\n",
       " 792.6111908177905,\n",
       " 677.7104465814781,\n",
       " 792.6111908177905,\n",
       " 792.6111908177905,\n",
       " 792.6111908177905,\n",
       " 792.6111908177905,\n",
       " 792.6111908177905,\n",
       " 677.7104465814781,\n",
       " 677.7104465814781,\n",
       " 792.6111908177905,\n",
       " 677.7104465814781,\n",
       " 792.6111908177905,\n",
       " 792.6111908177905,\n",
       " 677.7104465814781,\n",
       " 677.7104465814781,\n",
       " 677.7104465814781,\n",
       " 677.7104465814781,\n",
       " 677.7104465814781,\n",
       " 792.6111908177905,\n",
       " 792.6111908177905,\n",
       " 792.6111908177905,\n",
       " 792.6111908177905,\n",
       " 677.7104465814781,\n",
       " 677.7104465814781,\n",
       " 792.6111908177905,\n",
       " 792.6111908177905,\n",
       " 792.6111908177905,\n",
       " 792.6111908177905,\n",
       " 792.6111908177905,\n",
       " 677.7104465814781,\n",
       " 792.6111908177905,\n",
       " 792.6111908177905,\n",
       " 677.7104465814781,\n",
       " 792.6111908177905,\n",
       " 677.7104465814781,\n",
       " 792.6111908177905,\n",
       " 677.7104465814781,\n",
       " 677.7104465814781,\n",
       " 792.6111908177905,\n",
       " 792.6111908177905,\n",
       " 792.6111908177905,\n",
       " 792.6111908177905,\n",
       " 792.6111908177905,\n",
       " 792.6111908177905,\n",
       " 792.6111908177905,\n",
       " 792.6111908177905,\n",
       " 677.7104465814781,\n",
       " 792.6111908177905,\n",
       " 792.6111908177905,\n",
       " 792.6111908177905,\n",
       " 677.7104465814781,\n",
       " 792.6111908177905,\n",
       " 677.7104465814781,\n",
       " 677.7104465814781,\n",
       " 792.6111908177905,\n",
       " 792.6111908177905,\n",
       " 677.7104465814781,\n",
       " 792.6111908177905,\n",
       " 792.6111908177905,\n",
       " 677.7104465814781,\n",
       " 792.6111908177905,\n",
       " 792.6111908177905,\n",
       " 677.7104465814781,\n",
       " 792.6111908177905,\n",
       " 677.7104465814781,\n",
       " 792.6111908177905,\n",
       " 677.7104465814781,\n",
       " 792.6111908177905,\n",
       " 792.6111908177905,\n",
       " 677.7104465814781,\n",
       " 677.7104465814781,\n",
       " 792.6111908177905,\n",
       " 792.6111908177905,\n",
       " 677.7104465814781,\n",
       " 792.6111908177905,\n",
       " 792.6111908177905,\n",
       " 792.6111908177905,\n",
       " 792.6111908177905,\n",
       " 792.6111908177905,\n",
       " 677.7104465814781,\n",
       " 677.7104465814781,\n",
       " 677.7104465814781,\n",
       " 792.6111908177905,\n",
       " 677.7104465814781,\n",
       " 677.7104465814781,\n",
       " 792.6111908177905,\n",
       " 792.6111908177905,\n",
       " 792.6111908177905,\n",
       " 677.7104465814781,\n",
       " 792.6111908177905,\n",
       " 677.7104465814781,\n",
       " 792.6111908177905,\n",
       " 792.6111908177905,\n",
       " 792.6111908177905,\n",
       " 792.6111908177905,\n",
       " 677.7104465814781,\n",
       " 792.6111908177905,\n",
       " 677.7104465814781,\n",
       " 792.6111908177905,\n",
       " 792.6111908177905,\n",
       " 792.6111908177905,\n",
       " 677.7104465814781,\n",
       " 677.7104465814781,\n",
       " 677.7104465814781,\n",
       " 792.6111908177905,\n",
       " 792.6111908177905,\n",
       " 792.6111908177905,\n",
       " 792.6111908177905,\n",
       " 792.6111908177905,\n",
       " 677.7104465814781,\n",
       " 792.6111908177905,\n",
       " 677.7104465814781,\n",
       " 792.6111908177905,\n",
       " 792.6111908177905,\n",
       " 792.6111908177905,\n",
       " 792.6111908177905,\n",
       " 677.7104465814781,\n",
       " 792.6111908177905,\n",
       " 792.6111908177905,\n",
       " 792.6111908177905,\n",
       " 792.6111908177905,\n",
       " 792.6111908177905,\n",
       " 677.7104465814781,\n",
       " 792.6111908177905,\n",
       " 792.6111908177905,\n",
       " 792.6111908177905,\n",
       " 792.6111908177905,\n",
       " 792.6111908177905,\n",
       " 792.6111908177905,\n",
       " 792.6111908177905,\n",
       " 792.6111908177905,\n",
       " 677.7104465814781,\n",
       " 677.7104465814781,\n",
       " 677.7104465814781,\n",
       " 677.7104465814781,\n",
       " 792.6111908177905,\n",
       " 792.6111908177905,\n",
       " 792.6111908177905,\n",
       " 792.6111908177905,\n",
       " 677.7104465814781,\n",
       " 792.6111908177905,\n",
       " 792.6111908177905,\n",
       " 677.7104465814781,\n",
       " 792.6111908177905,\n",
       " 677.7104465814781,\n",
       " 677.7104465814781,\n",
       " 677.7104465814781,\n",
       " 677.7104465814781,\n",
       " 677.7104465814781,\n",
       " 677.7104465814781,\n",
       " 792.6111908177905,\n",
       " 792.6111908177905,\n",
       " 677.7104465814781,\n",
       " 792.6111908177905,\n",
       " 792.6111908177905,\n",
       " 792.6111908177905,\n",
       " 792.6111908177905,\n",
       " 792.6111908177905,\n",
       " 792.6111908177905,\n",
       " 677.7104465814781,\n",
       " 792.6111908177905,\n",
       " 677.7104465814781,\n",
       " 792.6111908177905,\n",
       " 677.7104465814781,\n",
       " 792.6111908177905,\n",
       " 677.7104465814781,\n",
       " 792.6111908177905,\n",
       " 792.6111908177905,\n",
       " 792.6111908177905,\n",
       " 792.6111908177905,\n",
       " 792.6111908177905,\n",
       " 792.6111908177905,\n",
       " 792.6111908177905,\n",
       " 677.7104465814781,\n",
       " 792.6111908177905,\n",
       " 677.7104465814781,\n",
       " 677.7104465814781,\n",
       " 792.6111908177905,\n",
       " 792.6111908177905,\n",
       " 792.6111908177905,\n",
       " 677.7104465814781,\n",
       " 792.6111908177905,\n",
       " 792.6111908177905,\n",
       " 677.7104465814781,\n",
       " 792.6111908177905,\n",
       " 792.6111908177905,\n",
       " 792.6111908177905,\n",
       " 677.7104465814781,\n",
       " 792.6111908177905,\n",
       " 792.6111908177905,\n",
       " 792.6111908177905,\n",
       " 677.7104465814781,\n",
       " 677.7104465814781,\n",
       " 792.6111908177905,\n",
       " 677.7104465814781,\n",
       " 677.7104465814781,\n",
       " 792.6111908177905,\n",
       " 792.6111908177905,\n",
       " 792.6111908177905,\n",
       " 792.6111908177905,\n",
       " 792.6111908177905,\n",
       " 677.7104465814781,\n",
       " 792.6111908177905,\n",
       " 792.6111908177905,\n",
       " 677.7104465814781,\n",
       " 792.6111908177905,\n",
       " 792.6111908177905,\n",
       " 792.6111908177905,\n",
       " 792.6111908177905,\n",
       " 677.7104465814781,\n",
       " 677.7104465814781,\n",
       " 677.7104465814781,\n",
       " 792.6111908177905,\n",
       " 792.6111908177905,\n",
       " 792.6111908177905,\n",
       " 677.7104465814781,\n",
       " 792.6111908177905,\n",
       " 792.6111908177905,\n",
       " 792.6111908177905,\n",
       " 792.6111908177905,\n",
       " 792.6111908177905,\n",
       " 792.6111908177905,\n",
       " 792.6111908177905,\n",
       " 792.6111908177905,\n",
       " 792.6111908177905,\n",
       " 677.7104465814781,\n",
       " 792.6111908177905,\n",
       " 792.6111908177905,\n",
       " 792.6111908177905,\n",
       " 677.7104465814781,\n",
       " 792.6111908177905,\n",
       " 792.6111908177905,\n",
       " 677.7104465814781,\n",
       " 792.6111908177905,\n",
       " 792.6111908177905,\n",
       " 792.6111908177905,\n",
       " 677.7104465814781,\n",
       " 677.7104465814781,\n",
       " 792.6111908177905,\n",
       " 792.6111908177905,\n",
       " 677.7104465814781,\n",
       " 792.6111908177905,\n",
       " 677.7104465814781,\n",
       " 677.7104465814781,\n",
       " 677.7104465814781,\n",
       " 792.6111908177905,\n",
       " 677.7104465814781,\n",
       " 792.6111908177905,\n",
       " 792.6111908177905,\n",
       " 677.7104465814781,\n",
       " 677.7104465814781,\n",
       " 792.6111908177905,\n",
       " 792.6111908177905,\n",
       " 792.6111908177905,\n",
       " 792.6111908177905,\n",
       " 677.7104465814781,\n",
       " 677.7104465814781,\n",
       " 792.6111908177905,\n",
       " 677.7104465814781,\n",
       " 677.7104465814781,\n",
       " 792.6111908177905,\n",
       " 677.7104465814781,\n",
       " 677.7104465814781,\n",
       " 792.6111908177905,\n",
       " 677.7104465814781,\n",
       " 792.6111908177905,\n",
       " 792.6111908177905,\n",
       " 792.6111908177905,\n",
       " 677.7104465814781,\n",
       " 792.6111908177905,\n",
       " 677.7104465814781,\n",
       " 792.6111908177905,\n",
       " 677.7104465814781,\n",
       " 792.6111908177905,\n",
       " 792.6111908177905,\n",
       " 677.7104465814781,\n",
       " 677.7104465814781,\n",
       " 677.7104465814781,\n",
       " 792.6111908177905,\n",
       " 792.6111908177905,\n",
       " 792.6111908177905,\n",
       " 792.6111908177905,\n",
       " 792.6111908177905,\n",
       " 792.6111908177905,\n",
       " 677.7104465814781,\n",
       " 792.6111908177905,\n",
       " 792.6111908177905,\n",
       " 792.6111908177905,\n",
       " 792.6111908177905,\n",
       " 792.6111908177905,\n",
       " 792.6111908177905,\n",
       " 792.6111908177905,\n",
       " 677.7104465814781,\n",
       " 792.6111908177905,\n",
       " 792.6111908177905,\n",
       " 792.6111908177905,\n",
       " 677.7104465814781,\n",
       " 677.7104465814781,\n",
       " 677.7104465814781,\n",
       " 792.6111908177905,\n",
       " 677.7104465814781,\n",
       " 792.6111908177905,\n",
       " 792.6111908177905,\n",
       " 792.6111908177905,\n",
       " 677.7104465814781,\n",
       " 677.7104465814781,\n",
       " 677.7104465814781,\n",
       " 677.7104465814781,\n",
       " 792.6111908177905,\n",
       " 677.7104465814781,\n",
       " 792.6111908177905,\n",
       " 792.6111908177905,\n",
       " 792.6111908177905,\n",
       " 677.7104465814781,\n",
       " 792.6111908177905,\n",
       " 677.7104465814781,\n",
       " 792.6111908177905,\n",
       " 792.6111908177905,\n",
       " 792.6111908177905,\n",
       " 792.6111908177905,\n",
       " 677.7104465814781,\n",
       " 792.6111908177905,\n",
       " 792.6111908177905,\n",
       " 792.6111908177905,\n",
       " 792.6111908177905,\n",
       " 677.7104465814781,\n",
       " 792.6111908177905,\n",
       " 677.7104465814781,\n",
       " 792.6111908177905,\n",
       " 677.7104465814781,\n",
       " 792.6111908177905,\n",
       " 677.7104465814781,\n",
       " 792.6111908177905,\n",
       " 792.6111908177905,\n",
       " 792.6111908177905,\n",
       " 792.6111908177905,\n",
       " 792.6111908177905,\n",
       " 792.6111908177905,\n",
       " 792.6111908177905,\n",
       " 792.6111908177905,\n",
       " 792.6111908177905,\n",
       " 792.6111908177905,\n",
       " 677.7104465814781,\n",
       " 677.7104465814781,\n",
       " 792.6111908177905,\n",
       " 792.6111908177905,\n",
       " 792.6111908177905,\n",
       " 677.7104465814781,\n",
       " 677.7104465814781,\n",
       " 792.6111908177905,\n",
       " 677.7104465814781,\n",
       " 792.6111908177905,\n",
       " 792.6111908177905,\n",
       " 792.6111908177905,\n",
       " 792.6111908177905,\n",
       " 792.6111908177905,\n",
       " 792.6111908177905,\n",
       " 792.6111908177905,\n",
       " 677.7104465814781,\n",
       " 677.7104465814781,\n",
       " 792.6111908177905,\n",
       " 677.7104465814781,\n",
       " 677.7104465814781,\n",
       " 792.6111908177905,\n",
       " 792.6111908177905,\n",
       " 792.6111908177905,\n",
       " 677.7104465814781,\n",
       " 792.6111908177905,\n",
       " 792.6111908177905,\n",
       " 792.6111908177905,\n",
       " 792.6111908177905,\n",
       " 677.7104465814781,\n",
       " 792.6111908177905,\n",
       " 677.7104465814781,\n",
       " 677.7104465814781,\n",
       " 792.6111908177905,\n",
       " 792.6111908177905,\n",
       " 792.6111908177905,\n",
       " 677.7104465814781,\n",
       " 677.7104465814781,\n",
       " 792.6111908177905,\n",
       " 677.7104465814781,\n",
       " 792.6111908177905,\n",
       " 677.7104465814781,\n",
       " 792.6111908177905,\n",
       " 792.6111908177905,\n",
       " 677.7104465814781,\n",
       " 792.6111908177905,\n",
       " 792.6111908177905,\n",
       " 677.7104465814781,\n",
       " 792.6111908177905,\n",
       " ...]"
      ]
     },
     "execution_count": 26,
     "metadata": {},
     "output_type": "execute_result"
    }
   ],
   "execution_count": 26
  },
  {
   "metadata": {
    "ExecuteTime": {
     "end_time": "2025-01-08T23:52:52.947287Z",
     "start_time": "2025-01-08T23:52:52.895487Z"
    }
   },
   "cell_type": "code",
   "source": [
    "from sklearn.metrics import mean_squared_error, balanced_accuracy_score\n",
    "y_new_reg_predict = city_reg.predict(X=clean_data_test)\n",
    "y_reg_predict = reg.predict(X=clean_data_test)\n",
    "y_clf_predict = clf.predict(X=clean_data_test)\n",
    "y_true = clean_data_test['average_bill']\n",
    "print(\"Regression:RMSE = \", np.sqrt(mean_squared_error(y_true, y_reg_predict)))\n",
    "print(\"Classification:RMSE = \", np.sqrt(mean_squared_error(y_true, y_clf_predict)))\n",
    "print(\"New Regression:RMSE = \", np.sqrt(mean_squared_error(y_true, y_new_reg_predict)))"
   ],
   "outputs": [
    {
     "name": "stdout",
     "output_type": "stream",
     "text": [
      "Regression:RMSE =  448.7143889551622\n",
      "Classification:RMSE =  514.7517402382093\n",
      "New Regression:RMSE =  445.1063281403263\n"
     ]
    }
   ],
   "execution_count": 27
  },
  {
   "cell_type": "markdown",
   "metadata": {
    "id": "1EeFGk24GH7K"
   },
   "source": [
    "Обучите регрессор и сравните его по метрике RMSE с бейзлайнами. Получилось ли улучшить метрику?"
   ]
  },
  {
   "cell_type": "markdown",
   "metadata": {
    "id": "jROycei1GH7L"
   },
   "source": [
    "Лучше стало, но, правда, не очень сильно. В этот момент очень важно не просто радовать руководителя приростом в третьем знаке, но и думать о том, что происходит.\n",
    "\n",
    "Средний средний чек по Москве равен 793, в Санкт-Петербурге - 676, а в целом - 752 рубля. MSE, увы, не поможет вам ответить на вопрос, стало ли лучше пользователю, если вы ему вместо 752 рублей назвали 793. Здесь вскрывается весьма существенный порок MSE в этой задаче. Дело в том, что наш изначальный таргет делит заведения на некоторые \"ценовые категории\", и различие в средних чеках 500 и 1000 в самом деле существенно. Наверное, мы хотели бы как раз правильно предсказывать ценовые категории. Но MSE не очень помогает нам об этом судить. Дальше мы ещё подумаем, как это исправить.\n",
    "\n",
    "В любом случае, несмотря на улучшение метрики, мы пока не можем судить, стало ли по жизни лучше от усложнения модели."
   ]
  },
  {
   "cell_type": "markdown",
   "metadata": {
    "id": "wEQ9eOoWGH7L"
   },
   "source": [
    "Поручинившись немного, возьмём на вооружение другую идею. Давайте использовать типы заведений!\n",
    "\n",
    "Но с типами есть некоторая проблема: в столбце ``rubrics_id`` не всегда один идентификатор, часто их несколько, и всего комбинаций довольно много. Чтобы не возиться с малочисленными типами, давайте сольём их в один безликий ``other``.\n",
    "\n",
    "Итак, добавьте в обучающие и тестовые данные столбец ``modified_rubrics``, в котором будет то же, что и в ``rubrics_id``, если соответствующая комбинация рубрик содержит хотя бы 100 заведений из обучающей (!) выборки, и строка ``other`` в противном случае.\n",
    "\n",
    "Здесь вам поможет контейнер ``Counter`` из библиотеки ``collections``."
   ]
  },
  {
   "cell_type": "code",
   "metadata": {
    "id": "uTVW5KkwGH7L",
    "ExecuteTime": {
     "end_time": "2025-01-09T00:08:30.096670Z",
     "start_time": "2025-01-09T00:08:30.062504Z"
    }
   },
   "source": [
    "from collections import Counter\n",
    "\n",
    "counter = Counter(clean_data_train[\"rubrics_id\"])\n",
    "clean_data_train[\"modified_rubrics\"] = [rubric if counter[rubric] >= 100 else \"other\" for rubric in clean_data_train[\"rubrics_id\"]]\n",
    "clean_data_test[\"modified_rubrics\"] = [rubric if counter[rubric] >= 100 else \"other\" for rubric in clean_data_test[\"rubrics_id\"]]"
   ],
   "outputs": [],
   "execution_count": 51
  },
  {
   "cell_type": "markdown",
   "metadata": {
    "id": "nZXhpBjnGH7L"
   },
   "source": [
    "Теперь настало время написать могучий классификатор, который по заведению предсказывает медиану средних чеков среди тех в обучающей выборке, у которых с ним одинаковые `modified_rubrics` и город (вы спросите, почему медиану, а не самый частый -- спишем это на вдохновение; самый частый тоже можно брать - но медиана работает лучше).\n",
    "\n",
    "**8. Напишите классификатор и сдайте в Контест**."
   ]
  },
  {
   "metadata": {
    "ExecuteTime": {
     "end_time": "2025-01-09T00:31:56.787193Z",
     "start_time": "2025-01-09T00:31:56.763276Z"
    }
   },
   "cell_type": "code",
   "source": [
    "city = 0\n",
    "by_city = 1\n",
    "msk = 0\n",
    "spb = 1\n",
    "X=clean_data_train\n",
    "y=clean_data_train['average_bill']\n",
    "data = pd.DataFrame({'city': X['city'], \"modified_rubrics\":X[\"modified_rubrics\"], 'average_bill': y})\n",
    "print(\"modified_rubrics\" in X)\n",
    "data_by_city = pd.DataFrame(data.groupby('city'))[by_city]\n",
    "medians_msk = data_by_city[msk].groupby(\"modified_rubrics\")[\"average_bill\"].median().to_dict()\n",
    "medians_spb = data_by_city[spb].groupby(\"modified_rubrics\")[\"average_bill\"].median().to_dict()"
   ],
   "outputs": [
    {
     "name": "stdout",
     "output_type": "stream",
     "text": [
      "True\n"
     ]
    }
   ],
   "execution_count": 88
  },
  {
   "metadata": {
    "ExecuteTime": {
     "end_time": "2025-01-09T00:42:52.130752Z",
     "start_time": "2025-01-09T00:42:52.110153Z"
    }
   },
   "cell_type": "code",
   "source": [
    "from numpy import median\n",
    "import pandas as pd\n",
    "from sklearn.base import ClassifierMixin\n",
    "\n",
    "class RubricCityMedianClassifier(ClassifierMixin):\n",
    "    # Predicts the rounded (just in case) median of y_train\n",
    "    def __init__(self, *, param=1):\n",
    "        self.dict_pro = None\n",
    "        self.is_fitted = None\n",
    "        self.result = None\n",
    "        self.param = param\n",
    "    def fit(self, X=None, y=None):\n",
    "        '''\n",
    "        Parameters\n",
    "        ----------\n",
    "        X : array like, shape = (n_samples, n_features)\n",
    "        Training data features\n",
    "        y : array like, shape = (_samples,)\n",
    "        Training data targets\n",
    "        '''\n",
    "        data = pd.DataFrame({'modified_rubrics': X['modified_rubrics'],\n",
    "                             'city': X['city'],\n",
    "                             'average_bill': y})\n",
    "        city = 0\n",
    "        by_city = 1\n",
    "        msk = 0\n",
    "        spb = 1\n",
    "        data_by_city = pd.DataFrame(data.groupby('city'))[by_city]\n",
    "        medians_msk = data_by_city[msk].groupby(\"modified_rubrics\")[\"average_bill\"].median().to_dict()\n",
    "        medians_spb = data_by_city[spb].groupby(\"modified_rubrics\")[\"average_bill\"].median().to_dict()\n",
    "        self.dict_pro = {\"msk\": medians_msk, \"spb\": medians_spb}\n",
    "        self.is_fitted = True\n",
    "        return self\n",
    "\n",
    "    def predict(self, X=None):\n",
    "        '''\n",
    "        Parameters\n",
    "        ----------\n",
    "        X : array like, shape = (n_samples, n_features)\n",
    "        Data to predict\n",
    "        '''\n",
    "        self.result = [self.dict_pro[city][rubric] for city, rubric in zip(X[\"city\"], X[\"modified_rubrics\"])]\n",
    "        return self.result"
   ],
   "outputs": [],
   "execution_count": 111
  },
  {
   "cell_type": "code",
   "metadata": {
    "id": "eTfcwh5dGH7M",
    "ExecuteTime": {
     "end_time": "2025-01-09T00:45:41.551408Z",
     "start_time": "2025-01-09T00:45:41.522237Z"
    }
   },
   "source": [
    "model = RubricCityMedianClassifier()\n",
    "model.fit(X=clean_data_train, y=clean_data_train['average_bill'])\n",
    "y_rub_city_clf_predict = model.predict(X=clean_data_test)"
   ],
   "outputs": [],
   "execution_count": 115
  },
  {
   "metadata": {
    "ExecuteTime": {
     "end_time": "2025-01-09T00:45:43.201725Z",
     "start_time": "2025-01-09T00:45:43.142192Z"
    }
   },
   "cell_type": "code",
   "source": [
    "from sklearn.metrics import mean_squared_error, balanced_accuracy_score\n",
    "y_reg_predict = reg.predict(X=clean_data_test)\n",
    "y_clf_predict = clf.predict(X=clean_data_test)\n",
    "y_true = clean_data_test['average_bill']\n",
    "print(\"Regression:RMSE = \", np.sqrt(mean_squared_error(y_true, y_reg_predict)))\n",
    "print(\"Classification:RMSE = \", np.sqrt(mean_squared_error(y_true, y_clf_predict)))\n",
    "print(\"Classification:BA = \", balanced_accuracy_score(y_true, y_clf_predict))\n",
    "print(\"New Regression:RMSE = \", np.sqrt(mean_squared_error(y_true, y_new_reg_predict)))\n",
    "print(\"New Classification:RMSE = \", np.sqrt(mean_squared_error(y_true, y_rub_city_clf_predict)))\n",
    "print(\"New Classification:BA = \", balanced_accuracy_score(y_true, y_rub_city_clf_predict))"
   ],
   "outputs": [
    {
     "name": "stdout",
     "output_type": "stream",
     "text": [
      "Regression:RMSE =  448.7143889551622\n",
      "Classification:RMSE =  514.7517402382093\n",
      "Classification:BA =  0.2\n",
      "New Regression:RMSE =  445.1063281403263\n",
      "New Classification:RMSE =  393.96675836287915\n",
      "New Classification:BA =  0.30552511833185647\n"
     ]
    }
   ],
   "execution_count": 116
  },
  {
   "cell_type": "markdown",
   "metadata": {
    "id": "xbgjbwgkGH7M"
   },
   "source": [
    "Сравните обученный классификатор по метрикам RMSE и balanced_accuracy_score с нашими бейзлайнами. Получилось ли улучшить?"
   ]
  },
  {
   "cell_type": "markdown",
   "metadata": {
    "id": "UMjsnCnQGH7M"
   },
   "source": [
    "Обратите внимание что рост accuracy по сравнению с бейзлайном при этом на порядок меньше:"
   ]
  },
  {
   "cell_type": "markdown",
   "metadata": {
    "id": "K2cF0I-CGH7M"
   },
   "source": [
    "accuracy_score\n",
    "\n",
    "Predict most frequent:  0.6947666195190948\n",
    "\n",
    "Predict by rubric and city:  0.7095709570957096"
   ]
  },
  {
   "cell_type": "markdown",
   "metadata": {
    "id": "ylrAIjCcGH7N"
   },
   "source": [
    "Для диагностики напечатайте для каждого класса тестовой выборки, сколько в нём объектов и скольким из них наш классификатор приписал правильный класс. Что вы видите?\n",
    "\n",
    "&nbsp;\n",
    "\n",
    "<details>\n",
    "  <summary>Когда будете готовы, кликните сюда, чтобы посмотреть ответ</summary>\n",
    "    \n",
    "  Вы, вероятно, видите то, что мы стали однозначно лучше по сравнению с бейзлайном детектировать средний чек 1000 и 1500 (хотя всё равно не очень хорошо + ценой ухудшения качества на среднем чеке 500), а вот чеки 2000 и 2500 нам ну никак не даются.\n",
    "    \n",
    "</details>"
   ]
  },
  {
   "cell_type": "markdown",
   "metadata": {
    "id": "9ScOy7ZvGH7N"
   },
   "source": [
    "**Кстати**. А вы понимаете, почему приведённый выше пайплайн классификации был не очень удачным с точки зрения архитектуры? Почему его было бы правильнее воплотить по-другому?\n",
    "\n",
    "&nbsp;\n",
    "\n",
    "<details>\n",
    "  <summary>Когда будете готовы, кликните сюда, чтобы посмотреть ответ</summary>\n",
    "Собственно говоря, и не было никакого пайплайна. К счастью, у нас была одна обучающая выборка, мы на ней посчитали список рубрик для modified_rubrics и радовались жизни. Но если бы нам надо было переобучать всё на новых данных, пришлось бы помнить, что их надо везде пересчитать (ведь у нас могли появиться новые рубрики с хотя бы 100 представителями). А уж никакую кросс-валидацию (кто знает - тот поймёт) с нашим подходом к делу и вовсе бы не получилось сделать без боли.\n",
    "    \n",
    "Поэтому в следующей лабораторной вы научитесь делать честные пайплайны, в которых преобразование данных, генерация фичей и обучение классификатора будут объединены в один понятный процесс, происходящий на этапе fit.\n",
    "</details>"
   ]
  },
  {
   "cell_type": "markdown",
   "metadata": {
    "id": "4ujl3tbbGH7N"
   },
   "source": [
    "## Слишком простые и слишком сложные модели"
   ]
  },
  {
   "cell_type": "markdown",
   "metadata": {
    "id": "QF7McCHsGH7N"
   },
   "source": [
    "Бейзлайны у нас слишком просты и потому не очень полезны в жизни. Но если сложность модели растёт бесконтрольно, то тоже получается плохо.\n",
    "\n",
    "Давайте рассмотрим конкретный пример. Создадим классификатор, использующий одновременно `rubrics_id` и `features_id`.\n",
    "\n",
    "Сделайте следующее:\n",
    "\n",
    "- для каждого объекта обучающей выборки сконкатенируйте строку `rubrics_id` с разделителем (например, буквой 'q') и содержимым `features_id`. Полученный столбец озаглавьте `modified_features`. Это не самый клёвый способ заиспользовать все фичи, но сейчас пока сойдёт. Причём на сей раз не будем выкидывать мало представленные значения (вся информация важна, не так ли?).\n",
    "- при этом для тестовой выборке заменяйте на строку `other` все конкатенации, которые не встретились в обучающей выборке.\n",
    "\n",
    "То есть элементы в этом столбце будут иметь вид `other` или `30776 30774 q 3502045032 11741 3502045016 1046...`."
   ]
  },
  {
   "metadata": {
    "ExecuteTime": {
     "end_time": "2025-01-09T00:48:42.410709Z",
     "start_time": "2025-01-09T00:48:42.403122Z"
    }
   },
   "cell_type": "code",
   "source": "# my code\n",
   "outputs": [],
   "execution_count": 117
  },
  {
   "cell_type": "markdown",
   "metadata": {
    "id": "e8tNBPzVGH7O"
   },
   "source": [
    "Теперь обучите классификатор, который для заведения предсказывает медиану среднего чека по всем объектам тестовой выборки с таким же, как у него, значением `modified_features`, а если такого в обучающей выборке нет, то глобальную медиану среднего чека по всей обучающей выборке.\n",
    "\n",
    "**9. Загрузите в Контест предсказания этого классификатора на тестовой выборке**\n",
    "\n",
    "Мы ждём файла **.csv**, у которого в каждой строке будет только одно число - предсказание классификатора.\n",
    "\n",
    "Возможно, вам будет полезна библиотека ``tqdm``, позволяющая отслеживать в реальном времени, сколько времени уже крутится цикл и сколько итераций ещё осталось. Впрочем, если вы всё написали нормально, то должно работать не очень долго."
   ]
  },
  {
   "cell_type": "markdown",
   "metadata": {
    "id": "_XrswPW4GH7O"
   },
   "source": [
    "Модель, очевидно, очень сложная. Число параметров (различных категорий) в ней сопоставимо с числом объектов в обучающей выборке. А получилось ли хорошо?\n",
    "\n",
    "Давайте посчитаем RMSE и balanced_accuracy_score на обучающей и на тестовой выборках.\n",
    "\n",
    "**10. Введите их в Контест**"
   ]
  },
  {
   "cell_type": "markdown",
   "metadata": {
    "id": "fGDTpxFgGH7O"
   },
   "source": [
    "Налицо переобучение: на трейне метрики отличные, на тесте - вообще никакие\n",
    "\n",
    "В общем, не гонитесь за чрезмерной сложностью модели.."
   ]
  },
  {
   "cell_type": "markdown",
   "metadata": {
    "id": "YTU2yubYGH7O"
   },
   "source": [
    "## ML без данных что компутер без электричества"
   ]
  },
  {
   "cell_type": "markdown",
   "metadata": {
    "id": "DBVOCVf2GH7P"
   },
   "source": [
    "Возможно, вы смотрите на полученные выше результаты и думаете: вот если бы мы не какие-то убогие медианы предсказывали, а гоняли бы нейросети, то тут-то бы всё и получилось!\n",
    "\n",
    "Но, увы, совсем даже не всегда от счастья нас отделяет выбор хорошей модели (и стратегии обучения). Если данные не очень, то даже самая крутая модель не сработает. В этой ситуации нужно либо добывать новые фичи каким-то образом, либо собирать новые данные (увеличивать датасет), либо просто бросать задачу.\n",
    "\n",
    "Давайте посмотрим, что выжмет из наших данных одна из самых мощных моделей для табличных данных - градиентный бустинг на решающих деревьях в исполнении [CatBoost](https://catboost.ai/)."
   ]
  },
  {
   "cell_type": "markdown",
   "metadata": {
    "id": "a0L4UmzSGH7P"
   },
   "source": [
    "Но прежде, чем сделать fit, нам надо облагородить данные. Несмотря на то, что CatBoost отлично работает с категориальными фичами, мешок признаков из `rubrics_id` или `features_id` может ему оказаться не по зубам. Поэтому мы соберём датасет в пристойную матрицу, создав для каждого типа рубрик и фичей отдельный столбец и записав там единицы для тех объектов, у которых эта рубрика или фича имеет место.\n",
    "\n",
    "В матрице почти все элементы будут нулями. Такие матрицы считаются **разреженными** и их можно хранить гораздо эффективней, чем просто таблицей. Этим и займёмся)"
   ]
  },
  {
   "cell_type": "markdown",
   "metadata": {
    "id": "IJKuMtNbGH7P"
   },
   "source": [
    "Есть несколько форматов хранения разреженных матриц (многие из них реализованы в [пакете sparse библиотеки scipy](https://docs.scipy.org/doc/scipy/reference/sparse.html)), и каждый пригоден для чего-то своего.\n",
    "\n",
    "Создавать разреженную матрицу лучше в [формате COO](https://docs.scipy.org/doc/scipy/reference/generated/scipy.sparse.coo_array.html#scipy.sparse.coo_array). Он предполагает, что разреженная матрица задаётся в виде трёх списков: `row`, `col`, `data`, причём каждая тройка `(row[i], col[i], data[i])` кодирует элемент со значением `data[i]`, стоящий на позиции `(row[i], col[i])`. Считается, что на позициях `(row, col)`, которые ни разу не встретились, стоят нули.\n",
    "\n",
    "Нетрудно видеть, что заполнять такую матрицу - одно удовольствие, и особенно этому помогает тот факт, что **пара `(row, col)` может встретиться несколько раз** (тогда в итоговой матрице на соответствующей позиции стоит сумма соответствующих `data[i]`). Но, с другой стороны, почти ничего другого с такой матрицей не сделаешь: произвольного доступа к элементам она не предоставляет, умножить её тоже особо ничего не умножишь. Поэтому для дальнейшего использования созданную таким образом матрицу преобразуют в один из более удобных форматов, например, [CSR (compressed sparse row)](https://scipy-lectures.org/advanced/scipy_sparse/csr_matrix.html). Он, к примеру, хорошо подходит для умножения на вектор (потому что матрица хранится по строкам). Не будем разбирать его подробно, но можете почитать по ссылке, если интересно."
   ]
  },
  {
   "cell_type": "markdown",
   "metadata": {
    "id": "2hd_Sob3GH7P"
   },
   "source": [
    "Вам нужно будет превратить обучающие и тестовые данные в разреженные матрицы `sparse_data_train` и `sparse_data_test` соответственно, таким образом, что:\n",
    "\n",
    "- столбец `city` превратится в столбец из единиц и нулей (например, 1 - Москва, 0 - Питер);\n",
    "- столбец `rating` перекочует в разреженные матрицы без изменений;\n",
    "- каждый типы рубрик и каждая фича превратятся в отдельный 0-1-принак;\n",
    "\n",
    "В тестовой выборке будут фичи, которых в обучающей выборке не было. С ними можно по-разному работать, но давайте создадим дополнительную фантомную фичу `feature_other`, в которой будет то, сколько неизвестных по обучающей выборке фичей есть у данного объекта."
   ]
  },
  {
   "cell_type": "code",
   "execution_count": null,
   "metadata": {
    "id": "7-UAatGJGH7P"
   },
   "outputs": [],
   "source": [
    "# <Your code here>"
   ]
  },
  {
   "cell_type": "markdown",
   "metadata": {
    "id": "lFfj-1E4GH7Q"
   },
   "source": [
    "Данные готовы, и теперь можно запустить катбуст"
   ]
  },
  {
   "cell_type": "code",
   "execution_count": null,
   "metadata": {
    "id": "m2lP5NouGH7Q"
   },
   "outputs": [],
   "source": [
    "from catboost import CatBoostClassifier"
   ]
  },
  {
   "cell_type": "code",
   "execution_count": null,
   "metadata": {
    "id": "jpW6uR0oGH7Q"
   },
   "outputs": [],
   "source": [
    "# <USE IT!>\n",
    "clf = CatBoostClassifier()\n",
    "clf.fit(sparse_data_train, clean_data_train['average_bill'])"
   ]
  },
  {
   "cell_type": "markdown",
   "metadata": {
    "id": "SBOpZY9BGH7Q"
   },
   "source": [
    "**11. Пришлите в Контест balanced_accuracy_score на тестовой выборке, округлённый до двух знаков после запятой**. Стало ли сильно лучше от того, что мы воспользовались таким крутым классификатором?"
   ]
  }
 ],
 "metadata": {
  "kernelspec": {
   "display_name": "Python 3 (ipykernel)",
   "language": "python",
   "name": "python3"
  },
  "language_info": {
   "codemirror_mode": {
    "name": "ipython",
    "version": 3
   },
   "file_extension": ".py",
   "mimetype": "text/x-python",
   "name": "python",
   "nbconvert_exporter": "python",
   "pygments_lexer": "ipython3",
   "version": "3.8.10"
  },
  "colab": {
   "provenance": []
  }
 },
 "nbformat": 4,
 "nbformat_minor": 0
}
