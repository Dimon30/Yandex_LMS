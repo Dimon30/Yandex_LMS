{
 "cells": [
  {
   "cell_type": "markdown",
   "metadata": {
    "id": "ZW6meUY_-yEA"
   },
   "source": [
    "#  **Практическое занятие №2. Линейная алгебра.**"
   ]
  },
  {
   "cell_type": "markdown",
   "metadata": {
    "id": "cEQvIstH-yEC"
   },
   "source": [
    "## Знакомство с библиотекой **NumPy**"
   ]
  },
  {
   "cell_type": "markdown",
   "metadata": {
    "id": "47x4Wl7H-yEC"
   },
   "source": [
    "numpy - библиотека для быстрой работы с большими массивами и матрицами\n",
    "\n",
    "https://numpy.org/doc/stable/user/quickstart.html"
   ]
  },
  {
   "cell_type": "code",
   "execution_count": null,
   "metadata": {
    "id": "NoQQWLca-yEC"
   },
   "outputs": [],
   "source": [
    "import numpy as np"
   ]
  },
  {
   "cell_type": "markdown",
   "metadata": {
    "id": "3s-haQMUBPYX"
   },
   "source": [
    "### Мотивация: numpy vs python"
   ]
  },
  {
   "cell_type": "code",
   "execution_count": null,
   "metadata": {
    "id": "daF-Y35wBIOB"
   },
   "outputs": [],
   "source": [
    "import time\n",
    "\n",
    "arr_size = 1000000\n",
    "iter_num = 1000"
   ]
  },
  {
   "cell_type": "code",
   "execution_count": null,
   "metadata": {
    "colab": {
     "base_uri": "https://localhost:8080/"
    },
    "id": "yuSPDlyb_hw7",
    "outputId": "834e9741-4dda-45b7-afea-bf5737375235"
   },
   "outputs": [],
   "source": [
    "# time pure python list sum\n",
    "x = list(range(arr_size))\n",
    "\n",
    "s = time.time()\n",
    "\n",
    "for i in range(iter_num):\n",
    "    sum(x)\n",
    "\n",
    "t = time.time() - s\n",
    "\n",
    "print(f'Finished in {t:.5f} s: {(t * 1000 / iter_num):.5f} ms per iteration')"
   ]
  },
  {
   "cell_type": "code",
   "execution_count": null,
   "metadata": {
    "colab": {
     "base_uri": "https://localhost:8080/"
    },
    "id": "cFri_VC2A2B8",
    "outputId": "d93c7dd5-4bb9-4e85-c5b5-2f859bc35d50"
   },
   "outputs": [],
   "source": [
    "# time numpy array sum\n",
    "x = np.arange(arr_size)\n",
    "\n",
    "s = time.time()\n",
    "\n",
    "for i in range(iter_num):\n",
    "    np.sum(x)\n",
    "\n",
    "t = time.time() - s\n",
    "\n",
    "print(f'Finished in {t:.5f} s: {(t * 1000 / iter_num):.5f} ms per iteration')"
   ]
  },
  {
   "cell_type": "markdown",
   "metadata": {
    "id": "0AmdQiKiDJoy"
   },
   "source": [
    "### Basics"
   ]
  },
  {
   "cell_type": "markdown",
   "metadata": {
    "id": "n7Wsigao-yED"
   },
   "source": [
    "#### Создание массива\n",
    "https://numpy.org/doc/stable/reference/routines.array-creation.*html*"
   ]
  },
  {
   "cell_type": "code",
   "execution_count": null,
   "metadata": {
    "colab": {
     "base_uri": "https://localhost:8080/"
    },
    "id": "8q1-bPKI-yED",
    "outputId": "dd3914a6-3eb0-4041-dfc7-5cea06aeca5f"
   },
   "outputs": [],
   "source": [
    "# создать явно\n",
    "np.array([[1, 2, 3], [4, 5, 6]])"
   ]
  },
  {
   "cell_type": "code",
   "execution_count": null,
   "metadata": {
    "colab": {
     "base_uri": "https://localhost:8080/"
    },
    "id": "_EYSW0C4-yEE",
    "outputId": "6b0f45bf-b428-4c50-c7c1-ae2a1518ab43"
   },
   "outputs": [],
   "source": [
    "# нулевой массив заданного размера\n",
    "np.zeros((2, 3))"
   ]
  },
  {
   "cell_type": "code",
   "execution_count": null,
   "metadata": {
    "colab": {
     "base_uri": "https://localhost:8080/"
    },
    "id": "vowiu8CcWOUU",
    "outputId": "18a1f3f5-0abf-459f-869f-6719d3f07294"
   },
   "outputs": [],
   "source": [
    "# нулевой массив такого же размера, как другой\n",
    "a = np.array([[1, 2, 3], [4, 5, 6]])\n",
    "np.zeros_like(a)"
   ]
  },
  {
   "cell_type": "code",
   "execution_count": null,
   "metadata": {
    "colab": {
     "base_uri": "https://localhost:8080/"
    },
    "id": "cqiE9igBWjRO",
    "outputId": "0f68c093-4afe-4559-9b5d-c3043544d99a"
   },
   "outputs": [],
   "source": [
    "# массив единиц заданного размера\n",
    "np.ones((2, 3))"
   ]
  },
  {
   "cell_type": "code",
   "execution_count": null,
   "metadata": {
    "colab": {
     "base_uri": "https://localhost:8080/"
    },
    "id": "fukbvD8XWpi5",
    "outputId": "e3d58c07-ad41-4573-f715-6ad7f0fea533"
   },
   "outputs": [],
   "source": [
    "# массив единиц такого же размера, как другой\n",
    "a = np.array([[1, 2, 3], [4, 5, 6]])\n",
    "np.ones_like(a)"
   ]
  },
  {
   "cell_type": "code",
   "execution_count": null,
   "metadata": {
    "colab": {
     "base_uri": "https://localhost:8080/"
    },
    "id": "V9qdC1gEyULu",
    "outputId": "933518c5-1ff2-44bb-d131-474b80fbf690"
   },
   "outputs": [],
   "source": [
    "# массив, заполненный конкретным числом\n",
    "np.full((2, 3), 5)"
   ]
  },
  {
   "cell_type": "code",
   "execution_count": null,
   "metadata": {
    "colab": {
     "base_uri": "https://localhost:8080/"
    },
    "id": "JYAMXeUcW5b2",
    "outputId": "ea4fe318-56d7-4ccf-b789-f49f240246a4"
   },
   "outputs": [],
   "source": [
    "# массив, заполненный конкретным числом\n",
    "a = np.array([[1, 2, 3], [4, 5, 6]])\n",
    "np.full_like(a, 4)"
   ]
  },
  {
   "cell_type": "code",
   "execution_count": null,
   "metadata": {
    "colab": {
     "base_uri": "https://localhost:8080/"
    },
    "id": "6rVliSiE-yEG",
    "outputId": "ddfa603d-e392-4607-d31f-464230f1d614"
   },
   "outputs": [],
   "source": [
    "# создать единичную матрицу (двумерный массив)\n",
    "np.eye(3)"
   ]
  },
  {
   "cell_type": "code",
   "execution_count": null,
   "metadata": {
    "colab": {
     "base_uri": "https://localhost:8080/"
    },
    "id": "BOFX0OB1-yEG",
    "outputId": "f77ccb78-ef14-4375-e01e-8b085e62c54f"
   },
   "outputs": [],
   "source": [
    "# создать range\n",
    "np.arange(10, 1, -1)"
   ]
  },
  {
   "cell_type": "code",
   "execution_count": null,
   "metadata": {
    "colab": {
     "base_uri": "https://localhost:8080/"
    },
    "id": "ocyQ9m0E-yEG",
    "outputId": "4ea7291e-d8a1-40bf-bfb0-d4ea335ca23e"
   },
   "outputs": [],
   "source": [
    "# можно явно указать тип при создании массива вторым аргументов\n",
    "np.zeros((2, 3), np.int8)"
   ]
  },
  {
   "cell_type": "code",
   "execution_count": null,
   "metadata": {
    "colab": {
     "base_uri": "https://localhost:8080/"
    },
    "id": "AaUs9QD0yKN-",
    "outputId": "5373790f-669b-4d40-d1b0-8c231fddbea1"
   },
   "outputs": [],
   "source": [
    "# заполнить из функции\n",
    "np.fromfunction(lambda i, j: i * j, (3, 3))"
   ]
  },
  {
   "cell_type": "code",
   "execution_count": null,
   "metadata": {
    "colab": {
     "base_uri": "https://localhost:8080/"
    },
    "id": "SysNtRnx-yEH",
    "outputId": "cedec116-768d-4cb6-970b-e0c54917ba1b"
   },
   "outputs": [],
   "source": [
    "# можно заменить тип\n",
    "a = np.array([1, 2, 5])\n",
    "a.astype('str')"
   ]
  },
  {
   "cell_type": "code",
   "execution_count": null,
   "metadata": {
    "colab": {
     "base_uri": "https://localhost:8080/"
    },
    "id": "8qYDVsQE-yEH",
    "outputId": "3c8fea08-2b09-42f5-a679-00588f9c8931"
   },
   "outputs": [],
   "source": [
    "# посмотреть все возможные типы\n",
    "np.sctypes"
   ]
  },
  {
   "cell_type": "markdown",
   "metadata": {
    "id": "xvg4uX9J-yEH"
   },
   "source": [
    "#### Доступ к элементам массива, срезы\n",
    "https://numpy.org/doc/stable/user/basics.indexing.html\n",
    "\n"
   ]
  },
  {
   "cell_type": "markdown",
   "metadata": {
    "id": "Xu-EoG1f7XFC"
   },
   "source": [
    "##### Доступ к элементам"
   ]
  },
  {
   "cell_type": "code",
   "execution_count": null,
   "metadata": {
    "colab": {
     "base_uri": "https://localhost:8080/"
    },
    "id": "us6dHvlDXks_",
    "outputId": "30bfdc50-5bae-443a-d1a7-4d76206859fe"
   },
   "outputs": [],
   "source": [
    "# доступ по индексу, включая негативные индексы\n",
    "a = np.arange(10)\n",
    "a[-2]"
   ]
  },
  {
   "cell_type": "code",
   "execution_count": null,
   "metadata": {
    "colab": {
     "base_uri": "https://localhost:8080/"
    },
    "id": "B9U7WuShXqi4",
    "outputId": "db88b9fb-94dc-41a9-a171-f413d36dbc2d"
   },
   "outputs": [],
   "source": [
    "# доступ по набору индексов, включая негативные\n",
    "a = np.array([[0, 1, 2, 3, 4], [5, 6, 7, 8, 9]])\n",
    "a[1,4]"
   ]
  },
  {
   "cell_type": "code",
   "execution_count": null,
   "metadata": {
    "colab": {
     "base_uri": "https://localhost:8080/"
    },
    "id": "1B011zwO6a-6",
    "outputId": "7552bbf1-89be-48bd-93cc-eb333a7d69d0"
   },
   "outputs": [],
   "source": [
    "# можно выделять индекс по каждому срезу отдельными скобками - но это менее эффективно\n",
    "a[1][3] # same as a[1,3]"
   ]
  },
  {
   "cell_type": "code",
   "execution_count": null,
   "metadata": {
    "colab": {
     "base_uri": "https://localhost:8080/"
    },
    "id": "aTPVUCy17iKK",
    "outputId": "b3eb2446-2827-4878-f4e0-12644baa7de1"
   },
   "outputs": [],
   "source": [
    "# можно изменять значение по индексу\n",
    "a = np.arange(5)\n",
    "a[0] = 5\n",
    "a"
   ]
  },
  {
   "cell_type": "markdown",
   "metadata": {
    "id": "MdyPrFv67cNs"
   },
   "source": [
    "##### Срезы, слайсы"
   ]
  },
  {
   "cell_type": "code",
   "execution_count": null,
   "metadata": {
    "colab": {
     "base_uri": "https://localhost:8080/"
    },
    "id": "hEiDcyymKbw1",
    "outputId": "e5e532be-48b8-4ded-9661-b663dcff7825"
   },
   "outputs": [],
   "source": [
    "a = list(range(10))\n",
    "a[8:1:-2]"
   ]
  },
  {
   "cell_type": "code",
   "execution_count": null,
   "metadata": {
    "colab": {
     "base_uri": "https://localhost:8080/"
    },
    "id": "bE4RqanRYgMP",
    "outputId": "35560291-6320-4b58-8d8d-223a74e36409"
   },
   "outputs": [],
   "source": [
    "# работает привычный питонячий слайсинг\n",
    "a = np.arange(10)\n",
    "a[8:1:-2]"
   ]
  },
  {
   "cell_type": "code",
   "execution_count": null,
   "metadata": {
    "colab": {
     "base_uri": "https://localhost:8080/"
    },
    "id": "ls8gAvOg-yEI",
    "outputId": "43d6c676-68e1-4507-a382-db3999a85a57"
   },
   "outputs": [],
   "source": [
    "# срез по первой оси\n",
    "a = np.array([[[0, 1, 2],[3, 4, 5]],[[6, 7, 8],[9, 10, 11]]])\n",
    "a"
   ]
  },
  {
   "cell_type": "code",
   "execution_count": null,
   "metadata": {
    "colab": {
     "base_uri": "https://localhost:8080/"
    },
    "id": "IkPnV4H8H1sV",
    "outputId": "0a66c550-f421-4d6e-8dde-b46d64cc5565"
   },
   "outputs": [],
   "source": [
    "a.shape"
   ]
  },
  {
   "cell_type": "code",
   "execution_count": null,
   "metadata": {
    "colab": {
     "base_uri": "https://localhost:8080/"
    },
    "id": "FIZnGNWXH5x0",
    "outputId": "520676c2-aeaa-43d1-98a7-e8939a624dee"
   },
   "outputs": [],
   "source": [
    "a[0] # same as a[0,:,:]"
   ]
  },
  {
   "cell_type": "code",
   "execution_count": null,
   "metadata": {
    "colab": {
     "base_uri": "https://localhost:8080/"
    },
    "id": "CqNEWE83Ywus",
    "outputId": "27b4fd55-830e-4d33-b132-bd503127702a"
   },
   "outputs": [],
   "source": [
    "# срез по произвольной оси\n",
    "a = np.array([[[0, 1, 2],[3, 4, 5]],[[6, 7, 8],[9, 10, 11]]])\n",
    "a[:,:,0] # same as a[:,0,:]"
   ]
  },
  {
   "cell_type": "code",
   "execution_count": null,
   "metadata": {
    "colab": {
     "base_uri": "https://localhost:8080/"
    },
    "id": "LlgE1di9-yEI",
    "outputId": "03801088-eae1-4a7c-e687-ff4a034233e0"
   },
   "outputs": [],
   "source": [
    "# срез + слайс\n",
    "a = np.array([[0, 1, 2, 3],[4, 5, 6, 7]])\n",
    "a[0,-1:0:-2]"
   ]
  },
  {
   "cell_type": "code",
   "execution_count": null,
   "metadata": {
    "colab": {
     "base_uri": "https://localhost:8080/"
    },
    "id": "Kgc903mGLVjF",
    "outputId": "345a28cd-6fd6-42bb-9aed-9e0a05945e54"
   },
   "outputs": [],
   "source": [
    "a.copy()"
   ]
  },
  {
   "cell_type": "code",
   "execution_count": null,
   "metadata": {
    "colab": {
     "base_uri": "https://localhost:8080/"
    },
    "id": "1QIlQT7HKQcP",
    "outputId": "6062815e-c03d-44a2-e6fa-999e17e45d51"
   },
   "outputs": [],
   "source": [
    "# можно задавать срезы/слайсы программно\n",
    "a = np.array([[0, 1, 2, 3],[4, 5, 6, 7],[8, 9, 10, 11]])\n",
    "\n",
    "i = np.array([0, 2])\n",
    "s = slice(-1, 0, -2)\n",
    "\n",
    "a[i,s]"
   ]
  },
  {
   "cell_type": "code",
   "execution_count": null,
   "metadata": {
    "colab": {
     "base_uri": "https://localhost:8080/"
    },
    "id": "0R7DqFpWJBom",
    "outputId": "8f8bcb62-121a-4ccd-8656-9bf77a49103d"
   },
   "outputs": [],
   "source": [
    "a[np.array([0, 2]),-1:0:-2]"
   ]
  },
  {
   "cell_type": "code",
   "execution_count": null,
   "metadata": {
    "colab": {
     "base_uri": "https://localhost:8080/"
    },
    "id": "nnhR3uCSbQWF",
    "outputId": "fb52bc9e-091f-46ac-9941-1f8f855035fc"
   },
   "outputs": [],
   "source": [
    "# !!! срезы/слайсы не копируют массивы, а возвращают \"представление\"\n",
    "a = np.array([[0, 1, 2, 3],[4, 5, 6, 7],[8, 9, 10, 11]])\n",
    "\n",
    "b = a[0]\n",
    "b[2] = 100\n",
    "\n",
    "a"
   ]
  },
  {
   "cell_type": "markdown",
   "metadata": {
    "id": "xmY_LPtp9T00"
   },
   "source": [
    "Задача. Создать матрицу с единицами на побочной диагонали и нулями вне ее."
   ]
  },
  {
   "cell_type": "code",
   "execution_count": null,
   "metadata": {
    "colab": {
     "base_uri": "https://localhost:8080/"
    },
    "id": "NeBOqJae-yEJ",
    "outputId": "76ceb687-1a42-4ab3-f8af-2514d9237373"
   },
   "outputs": [],
   "source": [
    "# your code here\n",
    "np.eye(5)[:,::-1]"
   ]
  },
  {
   "cell_type": "markdown",
   "metadata": {
    "id": "O3tdw0wg-yEJ"
   },
   "source": [
    "##### Форма массива и ее изменение"
   ]
  },
  {
   "cell_type": "code",
   "execution_count": null,
   "metadata": {
    "colab": {
     "base_uri": "https://localhost:8080/"
    },
    "id": "-0YA3SDzbzL3",
    "outputId": "1773046e-bd97-4efd-ea73-80f110c96abd"
   },
   "outputs": [],
   "source": [
    "a = np.arange(12)\n",
    "a.shape"
   ]
  },
  {
   "cell_type": "code",
   "execution_count": null,
   "metadata": {
    "colab": {
     "base_uri": "https://localhost:8080/"
    },
    "id": "gz8VAZdB-yEJ",
    "outputId": "fe5360ba-f78c-43d1-c7e2-5223d77f9732"
   },
   "outputs": [],
   "source": [
    "b = a.reshape(2, 6)\n",
    "b.shape"
   ]
  },
  {
   "cell_type": "code",
   "execution_count": null,
   "metadata": {
    "colab": {
     "base_uri": "https://localhost:8080/",
     "height": 204
    },
    "id": "xnR85ePe-yEJ",
    "outputId": "3ee7773d-c169-4aad-b2dc-80238590d1a1"
   },
   "outputs": [],
   "source": [
    "# важно сохранять размеры при изменении формы\n",
    "c = a.reshape(2, 4)"
   ]
  },
  {
   "cell_type": "code",
   "execution_count": null,
   "metadata": {
    "colab": {
     "base_uri": "https://localhost:8080/"
    },
    "id": "5kBZqeJ_-yEJ",
    "outputId": "04ab1b2d-ad55-4bea-b39d-c84e04fae91c"
   },
   "outputs": [],
   "source": [
    "# можно использовать -1, тогда размер вдоль этой оси будет автоматически вычисляться\n",
    "c = a.reshape(2, -1)\n",
    "c.shape"
   ]
  },
  {
   "cell_type": "code",
   "execution_count": null,
   "metadata": {
    "colab": {
     "base_uri": "https://localhost:8080/"
    },
    "id": "GtyYQsUN-yEK",
    "outputId": "271e91ff-95e8-4384-f4e9-2f6a5ee2cd78"
   },
   "outputs": [],
   "source": [
    "# развернуть массив в одномерный\n",
    "d = c.ravel()\n",
    "d.shape"
   ]
  },
  {
   "cell_type": "code",
   "execution_count": null,
   "metadata": {
    "colab": {
     "base_uri": "https://localhost:8080/"
    },
    "id": "I6ogkX8lNY6Z",
    "outputId": "71a7a169-01b6-4942-e363-dcbe7fcfd9d7"
   },
   "outputs": [],
   "source": [
    "# !!! изменение формы тоже возвращает \"представление\"\n",
    "a = np.arange(10)\n",
    "\n",
    "b = a.reshape(2, 5)\n",
    "b[0][3] = 100\n",
    "\n",
    "a"
   ]
  },
  {
   "cell_type": "markdown",
   "metadata": {
    "id": "0DdINg78N9mB"
   },
   "source": [
    "#### Операции с массивами"
   ]
  },
  {
   "cell_type": "markdown",
   "metadata": {
    "id": "rnlvrcLM-yEK"
   },
   "source": [
    "##### Арифметические операции"
   ]
  },
  {
   "cell_type": "markdown",
   "metadata": {
    "id": "-Hn3vP9iP63v"
   },
   "source": [
    "Операции с числами выполняются **поэлементно**\n",
    "\n"
   ]
  },
  {
   "cell_type": "code",
   "execution_count": null,
   "metadata": {
    "colab": {
     "base_uri": "https://localhost:8080/"
    },
    "id": "YkpnJuGx-yEL",
    "outputId": "bf839d01-0d65-4a0f-9cf4-f59499dad8b3"
   },
   "outputs": [],
   "source": [
    "a = np.array([[1, 2],[3, 4]])\n",
    "a"
   ]
  },
  {
   "cell_type": "code",
   "execution_count": null,
   "metadata": {
    "colab": {
     "base_uri": "https://localhost:8080/"
    },
    "id": "eoVZMFTNQCDn",
    "outputId": "b2ebfcc1-d679-4564-bfba-e4e36d398259"
   },
   "outputs": [],
   "source": [
    "a + 1"
   ]
  },
  {
   "cell_type": "code",
   "execution_count": null,
   "metadata": {
    "colab": {
     "base_uri": "https://localhost:8080/"
    },
    "id": "UG34YvGEQDll",
    "outputId": "e0801e8c-3a23-4cf9-860b-bd05fe802a95"
   },
   "outputs": [],
   "source": [
    "a - 1"
   ]
  },
  {
   "cell_type": "code",
   "execution_count": null,
   "metadata": {
    "colab": {
     "base_uri": "https://localhost:8080/"
    },
    "id": "RZ7khJPuQFCy",
    "outputId": "b22332d9-37fe-4ce2-d5b8-8c256e92cd38"
   },
   "outputs": [],
   "source": [
    "a * 2"
   ]
  },
  {
   "cell_type": "code",
   "execution_count": null,
   "metadata": {
    "colab": {
     "base_uri": "https://localhost:8080/"
    },
    "id": "bzeVdOlxQGiD",
    "outputId": "92020c77-415b-4a52-8fcd-d8a8570c339d"
   },
   "outputs": [],
   "source": [
    "a / 2"
   ]
  },
  {
   "cell_type": "code",
   "execution_count": null,
   "metadata": {
    "colab": {
     "base_uri": "https://localhost:8080/"
    },
    "id": "jmbxNvOpQHxn",
    "outputId": "c7e5ed66-3323-4f5b-d00a-b448b5a14592"
   },
   "outputs": [],
   "source": [
    "a ** 2"
   ]
  },
  {
   "cell_type": "markdown",
   "metadata": {
    "id": "Nw4MelyuQXpQ"
   },
   "source": [
    "Математические операции между матрицами тоже выполняются **поэлементно**"
   ]
  },
  {
   "cell_type": "code",
   "execution_count": null,
   "metadata": {
    "id": "K3mpNSZEQjiT"
   },
   "outputs": [],
   "source": [
    "a = np.array([[1, 2], [3, 4]])\n",
    "b = np.array([[3, 4], [1, 2]])"
   ]
  },
  {
   "cell_type": "code",
   "execution_count": null,
   "metadata": {
    "colab": {
     "base_uri": "https://localhost:8080/"
    },
    "id": "rMvbv58NQr3v",
    "outputId": "5eed4bbe-264a-4318-e83c-682bc2e8d552"
   },
   "outputs": [],
   "source": [
    "a + b"
   ]
  },
  {
   "cell_type": "code",
   "execution_count": null,
   "metadata": {
    "colab": {
     "base_uri": "https://localhost:8080/"
    },
    "id": "9QfvtwELQwvX",
    "outputId": "894a0e2b-48be-4afe-a451-bd44c6263541"
   },
   "outputs": [],
   "source": [
    "a - b"
   ]
  },
  {
   "cell_type": "code",
   "execution_count": null,
   "metadata": {
    "colab": {
     "base_uri": "https://localhost:8080/"
    },
    "id": "LPjd77SRQtnZ",
    "outputId": "0cf381c9-63fd-427b-b776-3223c31baadb"
   },
   "outputs": [],
   "source": [
    "a * b"
   ]
  },
  {
   "cell_type": "code",
   "execution_count": null,
   "metadata": {
    "colab": {
     "base_uri": "https://localhost:8080/"
    },
    "id": "PlT4LWfOQvJo",
    "outputId": "1d391be9-d085-4f8c-c8a1-a7814f3de67e"
   },
   "outputs": [],
   "source": [
    "a / b"
   ]
  },
  {
   "cell_type": "markdown",
   "metadata": {
    "id": "RrA6BbhGSei1"
   },
   "source": [
    "Формы массивов могут не совпадать, главное - чтобы они были **broadcastable**\n",
    "\n",
    "https://numpy.org/doc/stable/user/basics.broadcasting.html"
   ]
  },
  {
   "cell_type": "code",
   "execution_count": null,
   "metadata": {
    "colab": {
     "base_uri": "https://localhost:8080/"
    },
    "id": "7E0BDcxySAPa",
    "outputId": "9d004334-d2a0-49df-838c-ae6e2b255109"
   },
   "outputs": [],
   "source": [
    "a = np.array([[1, 2, 3], [4, 5, 6]])\n",
    "b = np.array([0, 1, 2])\n",
    "c = np.array([[0, 1, 2], [0, 1, 2]])\n",
    "\n",
    "print(a.shape, b.shape, c.shape)"
   ]
  },
  {
   "cell_type": "code",
   "execution_count": null,
   "metadata": {
    "colab": {
     "base_uri": "https://localhost:8080/"
    },
    "id": "Dy_9dnovTjqk",
    "outputId": "7799dc7d-87de-4b38-8f59-1dcd2a3115b4"
   },
   "outputs": [],
   "source": [
    "a + b"
   ]
  },
  {
   "cell_type": "code",
   "execution_count": null,
   "metadata": {
    "colab": {
     "base_uri": "https://localhost:8080/"
    },
    "id": "3Kgzsh53TyR-",
    "outputId": "eb732ffe-5e35-45f5-a59a-a1c1c26b91ec"
   },
   "outputs": [],
   "source": [
    "a + c"
   ]
  },
  {
   "cell_type": "markdown",
   "metadata": {
    "id": "bd7fNjnIUPUs"
   },
   "source": [
    "Задача. Создать квадратную матрицу размера N с квадратами чисел от N до 1 на главной диагонали"
   ]
  },
  {
   "cell_type": "code",
   "execution_count": null,
   "metadata": {
    "colab": {
     "base_uri": "https://localhost:8080/"
    },
    "id": "6qtKBzB7UM3t",
    "outputId": "7ce844c7-8296-48c2-b634-1cfcd412fbb7"
   },
   "outputs": [],
   "source": [
    "# your code here\n",
    "a = np.eye(10)\n",
    "b = np.arange(10, 0, -1)\n",
    "c = (a * b) ** 2\n",
    "\n",
    "c"
   ]
  },
  {
   "cell_type": "markdown",
   "metadata": {
    "id": "XhkUPFF63NkO"
   },
   "source": [
    "##### Математические функции\n",
    "\n",
    "https://numpy.org/doc/stable/reference/routines.math.html"
   ]
  },
  {
   "cell_type": "code",
   "execution_count": null,
   "metadata": {
    "colab": {
     "base_uri": "https://localhost:8080/"
    },
    "id": "Bx3ucvcS3TQ0",
    "outputId": "f723a7f7-790d-4f15-ac42-f53435a08408"
   },
   "outputs": [],
   "source": [
    "# поэлементные функции\n",
    "a = np.arange(10)\n",
    "np.sin(a)"
   ]
  },
  {
   "cell_type": "code",
   "execution_count": null,
   "metadata": {
    "colab": {
     "base_uri": "https://localhost:8080/"
    },
    "id": "8QtSBcRS3pc1",
    "outputId": "9610d763-8d55-4bc0-a3dd-be90e5585c41"
   },
   "outputs": [],
   "source": [
    "# агрегатные функции\n",
    "a = np.array([[1, 2], [3, 4]])\n",
    "np.sum(a)"
   ]
  },
  {
   "cell_type": "code",
   "execution_count": null,
   "metadata": {
    "colab": {
     "base_uri": "https://localhost:8080/"
    },
    "id": "ygUrcw-u3xJl",
    "outputId": "f59a2140-ea28-460c-ffdb-7effdc546086"
   },
   "outputs": [],
   "source": [
    "# можно задавать ось\n",
    "a = np.array([[1, 2], [3, 4]])\n",
    "np.sum(a, 0)"
   ]
  },
  {
   "cell_type": "markdown",
   "metadata": {
    "id": "JNxPRUgYVZMI"
   },
   "source": [
    "##### Матричные операции"
   ]
  },
  {
   "cell_type": "markdown",
   "metadata": {
    "id": "nnH8GfkHgwES"
   },
   "source": [
    "Транспонирование матрицы"
   ]
  },
  {
   "cell_type": "code",
   "execution_count": null,
   "metadata": {
    "colab": {
     "base_uri": "https://localhost:8080/"
    },
    "id": "NCR_XQwUg0Ei",
    "outputId": "31a299de-a416-460b-b7cb-46083a50dfa7"
   },
   "outputs": [],
   "source": [
    "a = np.array([[1, 2], [3, 4]])\n",
    "a"
   ]
  },
  {
   "cell_type": "code",
   "execution_count": null,
   "metadata": {
    "colab": {
     "base_uri": "https://localhost:8080/"
    },
    "id": "xza9PQK1g6DY",
    "outputId": "5f8f57ec-573f-406e-e433-a81ae9f57e0e"
   },
   "outputs": [],
   "source": [
    "a.T"
   ]
  },
  {
   "cell_type": "code",
   "execution_count": null,
   "metadata": {
    "colab": {
     "base_uri": "https://localhost:8080/"
    },
    "id": "Xq6Wo5_Vg7Kz",
    "outputId": "bc22f162-7451-4fd9-c217-8b4415f20358"
   },
   "outputs": [],
   "source": [
    "a.transpose()"
   ]
  },
  {
   "cell_type": "code",
   "execution_count": null,
   "metadata": {
    "colab": {
     "base_uri": "https://localhost:8080/"
    },
    "id": "pNq_ALqJg9Pu",
    "outputId": "ea2b067b-db1b-4efc-9134-35e7998df9b3"
   },
   "outputs": [],
   "source": [
    "np.transpose(a)"
   ]
  },
  {
   "cell_type": "markdown",
   "metadata": {
    "id": "iDd62QB0-yEX"
   },
   "source": [
    "Операция matmul - умножение матрицы на вектор, и матрицы на матрицу\n",
    "\n",
    "https://numpy.org/doc/stable/reference/generated/numpy.matmul.html"
   ]
  },
  {
   "cell_type": "code",
   "execution_count": null,
   "metadata": {
    "colab": {
     "base_uri": "https://localhost:8080/"
    },
    "id": "n2aSCVyV-yEX",
    "outputId": "3453d966-a4fd-4de2-d8ce-f00c0a559a0c"
   },
   "outputs": [],
   "source": [
    "# два вектора - скалярное произведение\n",
    "a = np.array([2., 3., 4.])\n",
    "b = np.array([-2., 1., -1.])\n",
    "\n",
    "a @ b"
   ]
  },
  {
   "cell_type": "code",
   "execution_count": null,
   "metadata": {
    "colab": {
     "base_uri": "https://localhost:8080/"
    },
    "id": "wpiwxYoy-yEY",
    "outputId": "3e0bc953-9271-43c3-c86d-774218ee217a"
   },
   "outputs": [],
   "source": [
    "# матрица и вектор - умножение матрицы на вектор\n",
    "a = np.array([[1, 2, 3], [4, 5, 6], [7, 8, 9]])\n",
    "b = np.array([-1, 3, 2])\n",
    "\n",
    "a @ b"
   ]
  },
  {
   "cell_type": "code",
   "execution_count": null,
   "metadata": {
    "colab": {
     "base_uri": "https://localhost:8080/"
    },
    "id": "C4U87G0O-yEY",
    "outputId": "c204267f-2dba-4dca-acd0-b63236d71efb"
   },
   "outputs": [],
   "source": [
    "# две матрицы\n",
    "a = np.array([[1, 2, 3], [3, 4, 5], [5, 6, 7]])\n",
    "b = np.array([[1, 2], [3, 4], [5, 6]])\n",
    "\n",
    "a @ b"
   ]
  },
  {
   "cell_type": "code",
   "execution_count": null,
   "metadata": {
    "colab": {
     "base_uri": "https://localhost:8080/",
     "height": 222
    },
    "id": "R1t6Vasm-yEY",
    "outputId": "34049784-86fb-4270-c771-b1180f3c12b6"
   },
   "outputs": [],
   "source": [
    "# важно, чтобы матрицы соответствовали по размеру (число столбцов первой матрицы равнялось число строк второй)\n",
    "b @ a"
   ]
  },
  {
   "cell_type": "code",
   "execution_count": null,
   "metadata": {
    "colab": {
     "base_uri": "https://localhost:8080/"
    },
    "id": "A1C9xgXNxozD",
    "outputId": "6d6338a5-628c-4017-d869-a4d1664852a0"
   },
   "outputs": [],
   "source": [
    "# если размерность одного массива больше 2?\n",
    "a = np.ones((12, 5, 3, 4))\n",
    "b = np.ones((4, 5))\n",
    "\n",
    "c = a @ b\n",
    "c.shape"
   ]
  },
  {
   "cell_type": "code",
   "execution_count": null,
   "metadata": {
    "colab": {
     "base_uri": "https://localhost:8080/",
     "height": 260
    },
    "id": "sMV4YAlDyFgg",
    "outputId": "cb02a4e2-968d-491f-ffff-6433754d317e"
   },
   "outputs": [],
   "source": [
    "# а если обоих?\n",
    "a = np.ones((2, 3, 4))\n",
    "b = np.ones((7, 4, 5))\n",
    "\n",
    "c = a @ b\n",
    "c.shape"
   ]
  },
  {
   "cell_type": "markdown",
   "metadata": {
    "id": "bU-eZCYuxb1z"
   },
   "source": [
    "Операция dot - тоже умножение, но есть нюанс\n",
    "\n",
    "https://numpy.org/doc/stable/reference/generated/numpy.dot.html"
   ]
  },
  {
   "cell_type": "code",
   "execution_count": null,
   "metadata": {
    "colab": {
     "base_uri": "https://localhost:8080/"
    },
    "id": "y73Rf3vMydmr",
    "outputId": "715a5548-ddf7-426c-caf4-936fb2ff5c09"
   },
   "outputs": [],
   "source": [
    "# если размерность одного массива больше 2?\n",
    "a = np.ones((2, 3, 4))\n",
    "b = np.ones((4, 5))\n",
    "\n",
    "c = a.dot(b)\n",
    "c.shape"
   ]
  },
  {
   "cell_type": "code",
   "execution_count": null,
   "metadata": {
    "colab": {
     "base_uri": "https://localhost:8080/"
    },
    "id": "P_GP-uSmyfgS",
    "outputId": "4ca6c5b5-28e3-46b1-993c-983ede53b922"
   },
   "outputs": [],
   "source": [
    "# а если обоих?\n",
    "a = np.ones((2, 3, 4))\n",
    "b = np.ones((7, 4, 5))\n",
    "\n",
    "c = a.dot(b)\n",
    "c.shape"
   ]
  },
  {
   "cell_type": "markdown",
   "metadata": {
    "id": "-MVAgpZW-yEZ"
   },
   "source": [
    "Обратная матрица и определитель"
   ]
  },
  {
   "cell_type": "code",
   "execution_count": null,
   "metadata": {
    "colab": {
     "base_uri": "https://localhost:8080/"
    },
    "id": "KkeVw41R-yEZ",
    "outputId": "f0fa7155-c11f-46f9-e40c-178578ded5a7"
   },
   "outputs": [],
   "source": [
    "# определитель\n",
    "a = np.eye(10)\n",
    "\n",
    "print(a)\n",
    "print(np.linalg.det(a))"
   ]
  },
  {
   "cell_type": "code",
   "execution_count": null,
   "metadata": {
    "colab": {
     "base_uri": "https://localhost:8080/"
    },
    "id": "Df5pvq8a-yEa",
    "outputId": "7075cf05-e709-4125-e35a-127341b21ae6"
   },
   "outputs": [],
   "source": [
    "b = 5 * np.eye(6) + np.ones(6)\n",
    "\n",
    "print(b)\n",
    "print(np.linalg.det(b))"
   ]
  },
  {
   "cell_type": "code",
   "execution_count": null,
   "metadata": {
    "colab": {
     "base_uri": "https://localhost:8080/"
    },
    "id": "rrcR9VUF-yEa",
    "outputId": "3a1d536d-7e0c-4c8a-d4fe-7934de57e8a3"
   },
   "outputs": [],
   "source": [
    "# обратная матрица\n",
    "a = np.array([[1, 2], [3, 4]])\n",
    "b = np.linalg.inv(a)\n",
    "\n",
    "b"
   ]
  },
  {
   "cell_type": "code",
   "execution_count": null,
   "metadata": {
    "colab": {
     "base_uri": "https://localhost:8080/"
    },
    "id": "XJXJieEJw-Xo",
    "outputId": "2a370cdd-63d2-42d8-acd7-83d4e4feb27a"
   },
   "outputs": [],
   "source": [
    "a @ b"
   ]
  },
  {
   "cell_type": "code",
   "execution_count": null,
   "metadata": {
    "colab": {
     "base_uri": "https://localhost:8080/"
    },
    "id": "9p72eBL0xAGz",
    "outputId": "a71f1d9c-c66b-46cb-aa4e-4acf68b38a09"
   },
   "outputs": [],
   "source": [
    "np.allclose(a @ b, np.eye(2))"
   ]
  },
  {
   "cell_type": "code",
   "execution_count": null,
   "metadata": {
    "colab": {
     "base_uri": "https://localhost:8080/"
    },
    "id": "RhdwueqaxFRQ",
    "outputId": "3214e950-96da-4504-b581-ce1d7a6348a3"
   },
   "outputs": [],
   "source": [
    "# обратная матрица не всегда существует\n",
    "a = np.array([[1, 0], [2, 0]])\n",
    "np.linalg.det(a)"
   ]
  },
  {
   "cell_type": "markdown",
   "metadata": {
    "id": "v4J_dR8EqDWb"
   },
   "source": [
    "Задача. Решить систему линейных уравнений\n",
    "$$\n",
    "a_{11} x_1 + ... + a_{1n} x_n = b_1\n",
    "$$\n",
    "$$\n",
    "...\n",
    "$$\n",
    "$$\n",
    "a_{n1} x_1 + ... + a_{nn} x_n = b_n\n",
    "$$\n",
    "\n",
    "В матричном виде $Ax = b$"
   ]
  },
  {
   "cell_type": "code",
   "execution_count": null,
   "metadata": {
    "id": "fowDXMPDsLQy"
   },
   "outputs": [],
   "source": [
    "def solve_eq(A, b):\n",
    "    # your code here\n",
    "    "
   ]
  },
  {
   "cell_type": "code",
   "execution_count": null,
   "metadata": {
    "id": "CW48k7ZArrV_"
   },
   "outputs": [],
   "source": [
    "A = np.random.random((5, 5))\n",
    "b = np.arange(5)\n",
    "\n",
    "x = solve_eq(A, b)\n",
    "\n",
    "assert np.allclose(A @ x, b)"
   ]
  }
 ],
 "metadata": {
  "colab": {
   "provenance": [],
   "toc_visible": true
  },
  "kernelspec": {
   "display_name": "Python 3 (ipykernel)",
   "language": "python",
   "name": "python3"
  },
  "language_info": {
   "codemirror_mode": {
    "name": "ipython",
    "version": 3
   },
   "file_extension": ".py",
   "mimetype": "text/x-python",
   "name": "python",
   "nbconvert_exporter": "python",
   "pygments_lexer": "ipython3",
   "version": "3.9.6"
  }
 },
 "nbformat": 4,
 "nbformat_minor": 4
}
