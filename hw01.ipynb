{
 "cells": [
  {
   "cell_type": "code",
   "id": "initial_id",
   "metadata": {
    "collapsed": true,
    "ExecuteTime": {
     "end_time": "2025-02-06T15:50:41.623984Z",
     "start_time": "2025-02-06T15:50:41.618981Z"
    }
   },
   "source": [
    "import numpy as np\n",
    "import math\n",
    "\n",
    "from pyexpat import features\n",
    "\n",
    "path = \"hw01_data/\""
   ],
   "outputs": [],
   "execution_count": 4
  },
  {
   "metadata": {},
   "cell_type": "markdown",
   "source": [
    "## Метрики регрессии\n",
    "Result: 5/5\n",
    "\n",
    "![](hw01_images/img.png)"
   ],
   "id": "168e69d746a7250c"
  },
  {
   "metadata": {
    "ExecuteTime": {
     "end_time": "2025-02-07T09:37:46.026562Z",
     "start_time": "2025-02-07T09:37:46.008476Z"
    }
   },
   "cell_type": "code",
   "source": [
    "with open(path + \"input_1.txt\", \"r\") as f:\n",
    "    y_true = np.asarray(list(map(float, f.readline().split(\" \"))))\n",
    "    y_pred = np.asarray(list(map(float, f.readline().split(\" \"))))\n",
    "with open(path + \"output_1.txt\", \"w\") as f:\n",
    "    f.write(\"MSE: {:.2f}\\n\".format(sum((y_pred - y_true) ** 2) / y_true.size))\n",
    "    f.write(\"MAE: {:.2f}\\n\".format(sum(np.abs(y_pred - y_true)) / y_true.size))\n",
    "    f.write(\"RMSE: {:.2f}\".format(np.sqrt(sum((y_pred - y_true) ** 2) / y_true.size)))"
   ],
   "id": "27227b0e70a4df40",
   "outputs": [],
   "execution_count": 23
  },
  {
   "metadata": {},
   "cell_type": "markdown",
   "source": [
    "## Коээффициент детерминации\n",
    "Result: 5/5\n",
    "\n",
    "![](hw01_images/img_1.png)"
   ],
   "id": "ba45ac348bc2475d"
  },
  {
   "metadata": {
    "ExecuteTime": {
     "end_time": "2025-02-07T09:37:50.138178Z",
     "start_time": "2025-02-07T09:37:50.124264Z"
    }
   },
   "cell_type": "code",
   "source": [
    "with open(path + \"input_2.txt\", \"r\") as f:\n",
    "    y_true = np.asarray(list(map(float, f.readline().split(\" \"))))\n",
    "    y_pred = np.asarray(list(map(float, f.readline().split(\" \"))))\n",
    "with open(path + \"output_2.txt\", \"w\") as f:\n",
    "    f.write(\"R2: {:.2f}\\n\".format(1 - sum((y_pred - y_true) ** 2) / sum((y_true.mean() - y_true) ** 2)))"
   ],
   "id": "517eb69a9251bd4f",
   "outputs": [],
   "execution_count": 24
  },
  {
   "metadata": {},
   "cell_type": "markdown",
   "source": [
    "## KNN на практике\n",
    "Result: 10/10\n",
    "\n",
    "![](hw01_images/img_2.png)"
   ],
   "id": "87e4c037928b09ea"
  },
  {
   "metadata": {
    "ExecuteTime": {
     "end_time": "2025-02-07T13:30:16.434781Z",
     "start_time": "2025-02-07T13:30:15.833499Z"
    }
   },
   "cell_type": "code",
   "source": [
    "# Include libraries\n",
    "from sklearn.model_selection import train_test_split, GridSearchCV\n",
    "from sklearn.neighbors import KNeighborsClassifier\n",
    "from sklearn.metrics import accuracy_score\n",
    "import pandas as pd\n",
    "import numpy as np\n",
    "\n",
    "# Load data\n",
    "data = pd.read_csv(path + \"penguins.csv\")\n",
    "\n",
    "# Data's preprocessing\n",
    "data = data.dropna()\n",
    "labels = data[\"species\"]\n",
    "features = data[[\"bill_depth_mm\", \"bill_length_mm\"]]\n",
    "train_features, test_features, train_labels, test_labels = train_test_split(\n",
    "    features, labels, test_size=0.2, random_state=123)\n",
    "\n",
    "# Create model classifier and classifier's params\n",
    "knn = KNeighborsClassifier()\n",
    "knn_param = {\n",
    "    \"n_neighbors\": list(np.arange(1, 11, 1)),\n",
    "    \"weights\": [\"uniform\", \"distance\"]\n",
    "}\n",
    "\n",
    "# Fit models with different params\n",
    "grid = GridSearchCV(knn, knn_param, n_jobs=-1, scoring=\"accuracy\")\n",
    "grid.fit(train_features, train_labels)\n",
    "\n",
    "# Choose worst params\n",
    "worst_params = grid.cv_results_[\"params\"][np.argmin(grid.cv_results_[\"mean_test_score\"])]\n",
    "\n",
    "# Make predict for best and worst models\n",
    "best_predict = KNeighborsClassifier(**grid.best_params_).fit(train_features, train_labels).predict(test_features)\n",
    "worst_predict = KNeighborsClassifier(**worst_params).fit(train_features, train_labels).predict(test_features)\n",
    "print(grid.best_params_, worst_params)\n",
    "\n",
    "# Count best and worst accuracy\n",
    "best_accuracy = accuracy_score(test_labels, best_predict)\n",
    "worst_accuracy = accuracy_score(test_labels, worst_predict)\n",
    "\n",
    "# Output results\n",
    "print(\"Best accuracy: {:.6f}\".format(worst_accuracy))\n",
    "print(\"Worst accuracy: {:.6f}\".format(best_accuracy))"
   ],
   "id": "a0bd66d4df84caa3",
   "outputs": [
    {
     "name": "stdout",
     "output_type": "stream",
     "text": [
      "{'n_neighbors': 10, 'weights': 'distance'} {'n_neighbors': 2, 'weights': 'uniform'}\n",
      "Best accuracy: 0.895522\n",
      "Worst accuracy: 0.940299\n"
     ]
    }
   ],
   "execution_count": 65
  },
  {
   "metadata": {
    "ExecuteTime": {
     "end_time": "2025-02-07T13:19:07.971446Z",
     "start_time": "2025-02-07T13:19:07.929442Z"
    }
   },
   "cell_type": "code",
   "source": [
    "# Найдем лучшие и худшие параметры\n",
    "best_params = grid.best_params_\n",
    "worst_index = np.argmin(grid.cv_results_[\"mean_test_score\"])\n",
    "worst_params = grid.cv_results_[\"params\"][worst_index]\n",
    "\n",
    "print(\"Лучшие параметры:\", best_params)\n",
    "print(\"Худшие параметры:\", worst_params)\n",
    "\n",
    "# Обучим модели\n",
    "best_model = KNeighborsClassifier(**best_params).fit(train_features, train_labels)\n",
    "worst_model = KNeighborsClassifier(**worst_params).fit(train_features, train_labels)\n",
    "\n",
    "# Предсказания\n",
    "best_pred = best_model.predict(test_features)\n",
    "worst_pred = worst_model.predict(test_features)\n",
    "\n",
    "# Оценка\n",
    "best_acc = accuracy_score(test_labels, best_pred)\n",
    "worst_acc = accuracy_score(test_labels, worst_pred)\n",
    "\n",
    "print(f\"Best accuracy: {best_acc:.6f}\")\n",
    "print(f\"Worst accuracy: {worst_acc:.6f}\")\n"
   ],
   "id": "8283e5e73fd8b2be",
   "outputs": [
    {
     "name": "stdout",
     "output_type": "stream",
     "text": [
      "Лучшие параметры: {'n_neighbors': 10, 'weights': 'distance'}\n",
      "Худшие параметры: {'n_neighbors': 2, 'weights': 'uniform'}\n",
      "Best accuracy: 0.895522\n",
      "Worst accuracy: 0.940299\n"
     ]
    }
   ],
   "execution_count": 62
  },
  {
   "metadata": {
    "ExecuteTime": {
     "end_time": "2025-02-07T13:27:10.766126Z",
     "start_time": "2025-02-07T13:27:10.753340Z"
    }
   },
   "cell_type": "code",
   "source": [
    "print(\"Все параметры и их точность:\")\n",
    "for params, score in zip(grid.cv_results_[\"params\"], grid.cv_results_[\"mean_test_score\"]):\n",
    "    print(params, \"->\", score)"
   ],
   "id": "5aebd35f733652fb",
   "outputs": [
    {
     "name": "stdout",
     "output_type": "stream",
     "text": [
      "Все параметры и их точность:\n",
      "{'n_neighbors': 1, 'weights': 'uniform'} -> 0.9473794549266248\n",
      "{'n_neighbors': 1, 'weights': 'distance'} -> 0.9473794549266248\n",
      "{'n_neighbors': 2, 'weights': 'uniform'} -> 0.9473095737246681\n",
      "{'n_neighbors': 2, 'weights': 'distance'} -> 0.9473794549266248\n",
      "{'n_neighbors': 3, 'weights': 'uniform'} -> 0.9587002096436059\n",
      "{'n_neighbors': 3, 'weights': 'distance'} -> 0.951153039832285\n",
      "{'n_neighbors': 4, 'weights': 'uniform'} -> 0.9548567435359889\n",
      "{'n_neighbors': 4, 'weights': 'distance'} -> 0.9510831586303284\n",
      "{'n_neighbors': 5, 'weights': 'uniform'} -> 0.96617749825297\n",
      "{'n_neighbors': 5, 'weights': 'distance'} -> 0.9586303284416493\n",
      "{'n_neighbors': 6, 'weights': 'uniform'} -> 0.9624039133473097\n",
      "{'n_neighbors': 6, 'weights': 'distance'} -> 0.96617749825297\n",
      "{'n_neighbors': 7, 'weights': 'uniform'} -> 0.9624039133473093\n",
      "{'n_neighbors': 7, 'weights': 'distance'} -> 0.9624039133473096\n",
      "{'n_neighbors': 8, 'weights': 'uniform'} -> 0.9624039133473093\n",
      "{'n_neighbors': 8, 'weights': 'distance'} -> 0.96617749825297\n",
      "{'n_neighbors': 9, 'weights': 'uniform'} -> 0.9624737945492662\n",
      "{'n_neighbors': 9, 'weights': 'distance'} -> 0.96617749825297\n",
      "{'n_neighbors': 10, 'weights': 'uniform'} -> 0.9698812019566738\n",
      "{'n_neighbors': 10, 'weights': 'distance'} -> 0.9699510831586302\n"
     ]
    }
   ],
   "execution_count": 64
  }
 ],
 "metadata": {
  "kernelspec": {
   "display_name": "Python 3",
   "language": "python",
   "name": "python3"
  },
  "language_info": {
   "codemirror_mode": {
    "name": "ipython",
    "version": 2
   },
   "file_extension": ".py",
   "mimetype": "text/x-python",
   "name": "python",
   "nbconvert_exporter": "python",
   "pygments_lexer": "ipython2",
   "version": "2.7.6"
  }
 },
 "nbformat": 4,
 "nbformat_minor": 5
}
