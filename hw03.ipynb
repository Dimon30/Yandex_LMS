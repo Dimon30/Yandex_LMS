{
 "cells": [
  {
   "cell_type": "code",
   "id": "initial_id",
   "metadata": {
    "collapsed": true,
    "ExecuteTime": {
     "end_time": "2025-02-24T16:58:37.309186Z",
     "start_time": "2025-02-24T16:58:37.302940Z"
    }
   },
   "source": "import numpy as np",
   "outputs": [],
   "execution_count": 2
  },
  {
   "metadata": {},
   "cell_type": "markdown",
   "source": [
    "## One hot encoding\n",
    "\n",
    "Result: 3/3\n",
    "\n",
    "![](hw03_images/img.png)"
   ],
   "id": "9ce36b73d10224a5"
  },
  {
   "metadata": {
    "ExecuteTime": {
     "end_time": "2025-02-24T16:58:37.334282Z",
     "start_time": "2025-02-24T16:58:37.326220Z"
    }
   },
   "cell_type": "code",
   "source": [
    "import numpy as np\n",
    "\n",
    "def onehot_encoding(x):\n",
    "    dict = {el: np.array([1 if j == i else e for j, e in enumerate(list([0] * np.unique(x).shape[0]))]) for i, el in enumerate(np.unique(x))}\n",
    "    return np.array([dict[el] for el in x])"
   ],
   "id": "a813a82c1a4176ca",
   "outputs": [],
   "execution_count": 3
  },
  {
   "metadata": {
    "ExecuteTime": {
     "end_time": "2025-02-24T16:58:37.600183Z",
     "start_time": "2025-02-24T16:58:37.582766Z"
    }
   },
   "cell_type": "code",
   "source": [
    "x = np.array([3, 2, 2, 1])\n",
    "onehot_encoding(x)"
   ],
   "id": "fb76e8d2caa99fd9",
   "outputs": [
    {
     "data": {
      "text/plain": [
       "array([[0, 0, 1],\n",
       "       [0, 1, 0],\n",
       "       [0, 1, 0],\n",
       "       [1, 0, 0]])"
      ]
     },
     "execution_count": 4,
     "metadata": {},
     "output_type": "execute_result"
    }
   ],
   "execution_count": 4
  },
  {
   "metadata": {},
   "cell_type": "markdown",
   "source": [
    "## MinMax Scaler\n",
    "\n",
    "Result:\n",
    "\n",
    "![](hw03_images/img_1.png)"
   ],
   "id": "14d235d00782d8e0"
  },
  {
   "metadata": {
    "ExecuteTime": {
     "end_time": "2025-02-24T18:39:42.266971Z",
     "start_time": "2025-02-24T18:39:42.258963Z"
    }
   },
   "cell_type": "code",
   "source": [
    "import numpy as np\n",
    "\n",
    "\n",
    "def minmax_scale(X):\n",
    "    X = X.T\n",
    "    res = np.array([np.array([0.] * el.shape[0]) if (el.max() - el.min()) == 0 else (el - el.min()) / (el.max() - el.min()) for el in X]).T\n",
    "    return res"
   ],
   "id": "2d9d2f711c33ebee",
   "outputs": [],
   "execution_count": 47
  },
  {
   "metadata": {
    "ExecuteTime": {
     "end_time": "2025-02-24T18:39:42.642295Z",
     "start_time": "2025-02-24T18:39:42.632106Z"
    }
   },
   "cell_type": "code",
   "source": [
    "from sklearn.preprocessing import MinMaxScaler\n",
    "X = np.array([[0]])\n",
    "print(minmax_scale(X))\n",
    "print(MinMaxScaler().fit_transform(X))"
   ],
   "id": "84e3b0ceb97ba3c0",
   "outputs": [
    {
     "name": "stdout",
     "output_type": "stream",
     "text": [
      "[[0.]]\n",
      "[[0.]]\n"
     ]
    }
   ],
   "execution_count": 48
  }
 ],
 "metadata": {
  "kernelspec": {
   "display_name": "Python 3",
   "language": "python",
   "name": "python3"
  },
  "language_info": {
   "codemirror_mode": {
    "name": "ipython",
    "version": 2
   },
   "file_extension": ".py",
   "mimetype": "text/x-python",
   "name": "python",
   "nbconvert_exporter": "python",
   "pygments_lexer": "ipython2",
   "version": "2.7.6"
  }
 },
 "nbformat": 4,
 "nbformat_minor": 5
}
