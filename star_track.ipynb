{
 "cells": [
  {
   "cell_type": "code",
   "id": "initial_id",
   "metadata": {
    "collapsed": true,
    "ExecuteTime": {
     "end_time": "2025-01-26T17:57:17.655868Z",
     "start_time": "2025-01-26T17:57:17.648269Z"
    }
   },
   "source": [
    "import pandas as pd\n",
    "import numpy as np"
   ],
   "outputs": [],
   "execution_count": 4
  },
  {
   "metadata": {
    "ExecuteTime": {
     "end_time": "2025-01-26T17:56:53.298122Z",
     "start_time": "2025-01-26T17:56:53.254944Z"
    }
   },
   "cell_type": "code",
   "source": [
    "data = pd.read_csv('star_dataset.csv')\n",
    "data"
   ],
   "id": "a6b402c58cf5de76",
   "outputs": [
    {
     "data": {
      "text/plain": [
       "                 Name  Distance (ly)  Luminosity (L/Lo)  Radius (R/Ro)  \\\n",
       "0              Altair      16.594171           9.979192       1.632650   \n",
       "1               Deneb    2600.490723      196002.627856     202.970526   \n",
       "2      Barnard's Star       6.052616           4.893716       0.222711   \n",
       "3             Polaris     322.601002        2196.241934      37.546813   \n",
       "4      Barnard's Star       5.902392          -1.496486       0.192359   \n",
       "..                ...            ...                ...            ...   \n",
       "995          Wolf 359       7.455715          -4.435101       0.068087   \n",
       "996             Hadar     350.301644       49997.506591       9.070882   \n",
       "997         Bellatrix     239.763294        6397.020159       5.706311   \n",
       "998  Alpha Centauri B       4.044364          -4.549088       0.939191   \n",
       "999          Wolf 359       8.139786           3.484205       0.236324   \n",
       "\n",
       "     Temperature (K) Spectral Class  \n",
       "0        7509.294247            A7V  \n",
       "1        8503.284796           A2Ia  \n",
       "2        3165.959639           M4Ve  \n",
       "3        6048.326915           F7Ib  \n",
       "4        3130.602069           M4Ve  \n",
       "..               ...            ...  \n",
       "995      2774.148300            M6V  \n",
       "996     25010.502656          B1III  \n",
       "997     22603.548766          B2III  \n",
       "998      5286.304304            K1V  \n",
       "999      2813.600366            M6V  \n",
       "\n",
       "[1000 rows x 6 columns]"
      ],
      "text/html": [
       "<div>\n",
       "<style scoped>\n",
       "    .dataframe tbody tr th:only-of-type {\n",
       "        vertical-align: middle;\n",
       "    }\n",
       "\n",
       "    .dataframe tbody tr th {\n",
       "        vertical-align: top;\n",
       "    }\n",
       "\n",
       "    .dataframe thead th {\n",
       "        text-align: right;\n",
       "    }\n",
       "</style>\n",
       "<table border=\"1\" class=\"dataframe\">\n",
       "  <thead>\n",
       "    <tr style=\"text-align: right;\">\n",
       "      <th></th>\n",
       "      <th>Name</th>\n",
       "      <th>Distance (ly)</th>\n",
       "      <th>Luminosity (L/Lo)</th>\n",
       "      <th>Radius (R/Ro)</th>\n",
       "      <th>Temperature (K)</th>\n",
       "      <th>Spectral Class</th>\n",
       "    </tr>\n",
       "  </thead>\n",
       "  <tbody>\n",
       "    <tr>\n",
       "      <th>0</th>\n",
       "      <td>Altair</td>\n",
       "      <td>16.594171</td>\n",
       "      <td>9.979192</td>\n",
       "      <td>1.632650</td>\n",
       "      <td>7509.294247</td>\n",
       "      <td>A7V</td>\n",
       "    </tr>\n",
       "    <tr>\n",
       "      <th>1</th>\n",
       "      <td>Deneb</td>\n",
       "      <td>2600.490723</td>\n",
       "      <td>196002.627856</td>\n",
       "      <td>202.970526</td>\n",
       "      <td>8503.284796</td>\n",
       "      <td>A2Ia</td>\n",
       "    </tr>\n",
       "    <tr>\n",
       "      <th>2</th>\n",
       "      <td>Barnard's Star</td>\n",
       "      <td>6.052616</td>\n",
       "      <td>4.893716</td>\n",
       "      <td>0.222711</td>\n",
       "      <td>3165.959639</td>\n",
       "      <td>M4Ve</td>\n",
       "    </tr>\n",
       "    <tr>\n",
       "      <th>3</th>\n",
       "      <td>Polaris</td>\n",
       "      <td>322.601002</td>\n",
       "      <td>2196.241934</td>\n",
       "      <td>37.546813</td>\n",
       "      <td>6048.326915</td>\n",
       "      <td>F7Ib</td>\n",
       "    </tr>\n",
       "    <tr>\n",
       "      <th>4</th>\n",
       "      <td>Barnard's Star</td>\n",
       "      <td>5.902392</td>\n",
       "      <td>-1.496486</td>\n",
       "      <td>0.192359</td>\n",
       "      <td>3130.602069</td>\n",
       "      <td>M4Ve</td>\n",
       "    </tr>\n",
       "    <tr>\n",
       "      <th>...</th>\n",
       "      <td>...</td>\n",
       "      <td>...</td>\n",
       "      <td>...</td>\n",
       "      <td>...</td>\n",
       "      <td>...</td>\n",
       "      <td>...</td>\n",
       "    </tr>\n",
       "    <tr>\n",
       "      <th>995</th>\n",
       "      <td>Wolf 359</td>\n",
       "      <td>7.455715</td>\n",
       "      <td>-4.435101</td>\n",
       "      <td>0.068087</td>\n",
       "      <td>2774.148300</td>\n",
       "      <td>M6V</td>\n",
       "    </tr>\n",
       "    <tr>\n",
       "      <th>996</th>\n",
       "      <td>Hadar</td>\n",
       "      <td>350.301644</td>\n",
       "      <td>49997.506591</td>\n",
       "      <td>9.070882</td>\n",
       "      <td>25010.502656</td>\n",
       "      <td>B1III</td>\n",
       "    </tr>\n",
       "    <tr>\n",
       "      <th>997</th>\n",
       "      <td>Bellatrix</td>\n",
       "      <td>239.763294</td>\n",
       "      <td>6397.020159</td>\n",
       "      <td>5.706311</td>\n",
       "      <td>22603.548766</td>\n",
       "      <td>B2III</td>\n",
       "    </tr>\n",
       "    <tr>\n",
       "      <th>998</th>\n",
       "      <td>Alpha Centauri B</td>\n",
       "      <td>4.044364</td>\n",
       "      <td>-4.549088</td>\n",
       "      <td>0.939191</td>\n",
       "      <td>5286.304304</td>\n",
       "      <td>K1V</td>\n",
       "    </tr>\n",
       "    <tr>\n",
       "      <th>999</th>\n",
       "      <td>Wolf 359</td>\n",
       "      <td>8.139786</td>\n",
       "      <td>3.484205</td>\n",
       "      <td>0.236324</td>\n",
       "      <td>2813.600366</td>\n",
       "      <td>M6V</td>\n",
       "    </tr>\n",
       "  </tbody>\n",
       "</table>\n",
       "<p>1000 rows × 6 columns</p>\n",
       "</div>"
      ]
     },
     "execution_count": 3,
     "metadata": {},
     "output_type": "execute_result"
    }
   ],
   "execution_count": 3
  },
  {
   "metadata": {},
   "cell_type": "markdown",
   "source": [
    "## Звездный путь 1.1\n",
    "Result: 10/10\n",
    "\n",
    "![описание изображения](task1.png)\n"
   ],
   "id": "8d18bfbb249d16a6"
  },
  {
   "metadata": {
    "ExecuteTime": {
     "end_time": "2025-01-26T18:01:39.861819Z",
     "start_time": "2025-01-26T18:01:39.845321Z"
    }
   },
   "cell_type": "code",
   "source": [
    "\n",
    "np.unique(data[\"Spectral Class\"]).shape"
   ],
   "id": "6d3b0e1a911e3f85",
   "outputs": [
    {
     "data": {
      "text/plain": [
       "array(['Achernar', 'Acrux', 'Aldebaran', 'Alnilam', 'Alpha Centauri B',\n",
       "       'Altair', 'Antares', 'Arcturus', \"Barnard's Star\", 'Bellatrix',\n",
       "       'Betelgeuse', 'Canopus', 'Capella', 'Castor', 'Deneb', 'Fomalhaut',\n",
       "       'Hadar', 'Lalande 21185', 'Mira', 'Polaris', 'Procyon', 'Regulus',\n",
       "       'Rigel', 'Rigil Kentaurus', 'Ross 154', 'Sirius', 'Spica', 'Vega',\n",
       "       'Wolf 359'], dtype=object)"
      ]
     },
     "execution_count": 9,
     "metadata": {},
     "output_type": "execute_result"
    }
   ],
   "execution_count": 9
  },
  {
   "metadata": {},
   "cell_type": "markdown",
   "source": [
    "## Звездный путь 1.2\n",
    "Result: 15/15\n",
    "\n",
    "![](task2.png)"
   ],
   "id": "6298bd0349cc6231"
  },
  {
   "metadata": {
    "ExecuteTime": {
     "end_time": "2025-01-26T18:22:53.579593Z",
     "start_time": "2025-01-26T18:22:53.567799Z"
    }
   },
   "cell_type": "code",
   "source": "data.sort_values(by=\"Distance (ly)\").drop_duplicates(subset=\"Name\").nsmallest(3, \"Distance (ly)\")[\"Name\"].to_list()",
   "id": "32c2a5fc5eab7635",
   "outputs": [
    {
     "data": {
      "text/plain": [
       "['Alpha Centauri B', 'Rigil Kentaurus', \"Barnard's Star\"]"
      ]
     },
     "execution_count": 27,
     "metadata": {},
     "output_type": "execute_result"
    }
   ],
   "execution_count": 27
  },
  {
   "metadata": {},
   "cell_type": "markdown",
   "source": [
    "## Звездный путь 1.3\n",
    "Result: 15/15\n",
    "\n",
    "![](task3.png)"
   ],
   "id": "c9c34a1adafd0298"
  },
  {
   "metadata": {
    "ExecuteTime": {
     "end_time": "2025-01-26T18:26:06.495700Z",
     "start_time": "2025-01-26T18:26:06.484808Z"
    }
   },
   "cell_type": "code",
   "source": "np.round(data[data[\"Radius (R/Ro)\"] > 1][\"Temperature (K)\"].mean(), 3)",
   "id": "4204c351a737b102",
   "outputs": [
    {
     "data": {
      "text/plain": [
       "11206.615"
      ]
     },
     "execution_count": 30,
     "metadata": {},
     "output_type": "execute_result"
    }
   ],
   "execution_count": 30
  },
  {
   "metadata": {},
   "cell_type": "markdown",
   "source": [
    "## Озеро хищных щук\n",
    "Result: 50/50\n",
    "\n",
    "![](task4.png)"
   ],
   "id": "c9352cf10a6e4fe5"
  },
  {
   "metadata": {
    "ExecuteTime": {
     "end_time": "2025-01-26T20:37:45.028080Z",
     "start_time": "2025-01-26T20:37:43.088716Z"
    }
   },
   "cell_type": "code",
   "source": [
    "N, K = map(int, input().split())\n",
    "fed = 0\n",
    "while N >= K + 1:\n",
    "    fed += 1\n",
    "    N -= K\n",
    "print(fed)"
   ],
   "id": "3c6d7ec4de3ad4f6",
   "outputs": [
    {
     "name": "stdout",
     "output_type": "stream",
     "text": [
      "9\n"
     ]
    }
   ],
   "execution_count": 85
  },
  {
   "metadata": {},
   "cell_type": "markdown",
   "source": [
    "## Оценка регрессии Гальтона\n",
    "Result: 60/60\n",
    "\n",
    "![](task5.png)"
   ],
   "id": "cbcbde79ac55ae5c"
  },
  {
   "metadata": {
    "ExecuteTime": {
     "end_time": "2025-01-26T19:38:05.965985Z",
     "start_time": "2025-01-26T19:38:05.952887Z"
    }
   },
   "cell_type": "code",
   "source": [
    "import numpy as np\n",
    "\n",
    "f = open(\"input.txt\", \"r\")\n",
    "k1, k2, k3 = map(float, f.readline().split())\n",
    "n = int(f.readline())\n",
    "y = list(map(int, f.readline().split()))\n",
    "X1 = list(map(int, f.readline().split()))\n",
    "X2 = list(map(int, f.readline().split()))\n",
    "f.close()\n",
    "\n",
    "X1 = np.asarray(X1)\n",
    "X2 = np.asarray(X2)\n",
    "y_pred = k1 * X1 + k2 * X2 + k3\n",
    "mae = sum(np.abs(y_pred - y)) / n\n",
    "f = open(\"output.txt\", \"w\")\n",
    "f.write(\"{:.3f}\".format(mae))\n",
    "f.close()"
   ],
   "id": "83b2efb3eb944bb3",
   "outputs": [],
   "execution_count": 59
  },
  {
   "metadata": {},
   "cell_type": "markdown",
   "source": [
    "## TaskLogger\n",
    "Result: 40/50\n",
    "\n",
    "![](task6.png)"
   ],
   "id": "98bea781f72359b6"
  },
  {
   "metadata": {
    "ExecuteTime": {
     "end_time": "2025-01-26T22:54:45.997094Z",
     "start_time": "2025-01-26T22:54:45.954167Z"
    }
   },
   "cell_type": "code",
   "source": [
    "class TaskLogger:\n",
    "    def __init__(self):\n",
    "        self.tasks_dict = {}\n",
    "        self.completed_tasks_dict = {}\n",
    "\n",
    "    def add_task(self, task_name, priority):\n",
    "        self.tasks_dict[task_name] = priority\n",
    "\n",
    "    def complete_the_highest_priority_task(self):\n",
    "        temp = sorted(self.tasks_dict.items(), key=lambda x: x[1], reverse=True)\n",
    "        self.completed_tasks_dict[temp[0][0]] = temp[0][1]\n",
    "        self.tasks_dict.pop(temp[0][0])\n",
    "\n",
    "    def get_pending_tasks(self):\n",
    "        temp = [task[0] for task in sorted(self.tasks_dict.items(), key=lambda x: x[1], reverse=True)]\n",
    "        return temp\n",
    "\n",
    "    def get_completed_tasks(self):\n",
    "        temp = [task[0] for task in sorted(self.completed_tasks_dict.items(), key=lambda x: x[1], reverse=True)]\n",
    "        return temp"
   ],
   "id": "f5ee1b32d22e6052",
   "outputs": [],
   "execution_count": 86
  },
  {
   "metadata": {
    "ExecuteTime": {
     "end_time": "2025-01-26T20:28:31.828936Z",
     "start_time": "2025-01-26T20:28:31.822459Z"
    }
   },
   "cell_type": "code",
   "source": [
    "t = TaskLogger()\n",
    "t.add_task(\"Task 1\", priority=10)\n",
    "t.add_task(\"Task 2\", priority=20)\n",
    "t.complete_the_highest_priority_task()\n",
    "print(t.get_pending_tasks())\n",
    "print(t.get_completed_tasks())"
   ],
   "id": "9e7e9a0319feb1de",
   "outputs": [
    {
     "name": "stdout",
     "output_type": "stream",
     "text": [
      "['Task 1']\n",
      "['Task 2']\n"
     ]
    }
   ],
   "execution_count": 79
  },
  {
   "metadata": {},
   "cell_type": "code",
   "outputs": [],
   "execution_count": null,
   "source": "",
   "id": "fc4f446725e913a5"
  }
 ],
 "metadata": {
  "kernelspec": {
   "display_name": "Python 3",
   "language": "python",
   "name": "python3"
  },
  "language_info": {
   "codemirror_mode": {
    "name": "ipython",
    "version": 2
   },
   "file_extension": ".py",
   "mimetype": "text/x-python",
   "name": "python",
   "nbconvert_exporter": "python",
   "pygments_lexer": "ipython2",
   "version": "2.7.6"
  }
 },
 "nbformat": 4,
 "nbformat_minor": 5
}
